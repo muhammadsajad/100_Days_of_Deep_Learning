{
  "nbformat": 4,
  "nbformat_minor": 0,
  "metadata": {
    "colab": {
      "provenance": [],
      "authorship_tag": "ABX9TyPGl3+gkXZx9H0Aef6Df3Rs",
      "include_colab_link": true
    },
    "kernelspec": {
      "name": "python3",
      "display_name": "Python 3"
    },
    "language_info": {
      "name": "python"
    }
  },
  "cells": [
    {
      "cell_type": "markdown",
      "metadata": {
        "id": "view-in-github",
        "colab_type": "text"
      },
      "source": [
        "<a href=\"https://colab.research.google.com/github/muhammadsajad/100_Days_of_Deep_Learning/blob/main/backpropagation_classification_ipunb.ipynb\" target=\"_parent\"><img src=\"https://colab.research.google.com/assets/colab-badge.svg\" alt=\"Open In Colab\"/></a>"
      ]
    },
    {
      "cell_type": "code",
      "execution_count": 1,
      "metadata": {
        "id": "hiSrlWArylBa"
      },
      "outputs": [],
      "source": [
        "import numpy as np\n",
        "import pandas as pd"
      ]
    },
    {
      "cell_type": "code",
      "source": [
        "df=pd.DataFrame([[8,8,1],[7,9,1],[6,10,0],[5,5,0]], columns=['cgpa','profile_score','placed'])"
      ],
      "metadata": {
        "id": "65opW-MRywZ6"
      },
      "execution_count": 2,
      "outputs": []
    },
    {
      "cell_type": "code",
      "source": [
        "df.head()"
      ],
      "metadata": {
        "colab": {
          "base_uri": "https://localhost:8080/",
          "height": 175
        },
        "id": "_VPoHA5fzHgn",
        "outputId": "01f5d4fb-5211-465b-9778-135c502f7461"
      },
      "execution_count": 3,
      "outputs": [
        {
          "output_type": "execute_result",
          "data": {
            "text/plain": [
              "   cgpa  profile_score  placed\n",
              "0     8              8       1\n",
              "1     7              9       1\n",
              "2     6             10       0\n",
              "3     5              5       0"
            ],
            "text/html": [
              "\n",
              "  <div id=\"df-94a6ec48-7473-4c8b-9148-01ad5d9943df\" class=\"colab-df-container\">\n",
              "    <div>\n",
              "<style scoped>\n",
              "    .dataframe tbody tr th:only-of-type {\n",
              "        vertical-align: middle;\n",
              "    }\n",
              "\n",
              "    .dataframe tbody tr th {\n",
              "        vertical-align: top;\n",
              "    }\n",
              "\n",
              "    .dataframe thead th {\n",
              "        text-align: right;\n",
              "    }\n",
              "</style>\n",
              "<table border=\"1\" class=\"dataframe\">\n",
              "  <thead>\n",
              "    <tr style=\"text-align: right;\">\n",
              "      <th></th>\n",
              "      <th>cgpa</th>\n",
              "      <th>profile_score</th>\n",
              "      <th>placed</th>\n",
              "    </tr>\n",
              "  </thead>\n",
              "  <tbody>\n",
              "    <tr>\n",
              "      <th>0</th>\n",
              "      <td>8</td>\n",
              "      <td>8</td>\n",
              "      <td>1</td>\n",
              "    </tr>\n",
              "    <tr>\n",
              "      <th>1</th>\n",
              "      <td>7</td>\n",
              "      <td>9</td>\n",
              "      <td>1</td>\n",
              "    </tr>\n",
              "    <tr>\n",
              "      <th>2</th>\n",
              "      <td>6</td>\n",
              "      <td>10</td>\n",
              "      <td>0</td>\n",
              "    </tr>\n",
              "    <tr>\n",
              "      <th>3</th>\n",
              "      <td>5</td>\n",
              "      <td>5</td>\n",
              "      <td>0</td>\n",
              "    </tr>\n",
              "  </tbody>\n",
              "</table>\n",
              "</div>\n",
              "    <div class=\"colab-df-buttons\">\n",
              "\n",
              "  <div class=\"colab-df-container\">\n",
              "    <button class=\"colab-df-convert\" onclick=\"convertToInteractive('df-94a6ec48-7473-4c8b-9148-01ad5d9943df')\"\n",
              "            title=\"Convert this dataframe to an interactive table.\"\n",
              "            style=\"display:none;\">\n",
              "\n",
              "  <svg xmlns=\"http://www.w3.org/2000/svg\" height=\"24px\" viewBox=\"0 -960 960 960\">\n",
              "    <path d=\"M120-120v-720h720v720H120Zm60-500h600v-160H180v160Zm220 220h160v-160H400v160Zm0 220h160v-160H400v160ZM180-400h160v-160H180v160Zm440 0h160v-160H620v160ZM180-180h160v-160H180v160Zm440 0h160v-160H620v160Z\"/>\n",
              "  </svg>\n",
              "    </button>\n",
              "\n",
              "  <style>\n",
              "    .colab-df-container {\n",
              "      display:flex;\n",
              "      gap: 12px;\n",
              "    }\n",
              "\n",
              "    .colab-df-convert {\n",
              "      background-color: #E8F0FE;\n",
              "      border: none;\n",
              "      border-radius: 50%;\n",
              "      cursor: pointer;\n",
              "      display: none;\n",
              "      fill: #1967D2;\n",
              "      height: 32px;\n",
              "      padding: 0 0 0 0;\n",
              "      width: 32px;\n",
              "    }\n",
              "\n",
              "    .colab-df-convert:hover {\n",
              "      background-color: #E2EBFA;\n",
              "      box-shadow: 0px 1px 2px rgba(60, 64, 67, 0.3), 0px 1px 3px 1px rgba(60, 64, 67, 0.15);\n",
              "      fill: #174EA6;\n",
              "    }\n",
              "\n",
              "    .colab-df-buttons div {\n",
              "      margin-bottom: 4px;\n",
              "    }\n",
              "\n",
              "    [theme=dark] .colab-df-convert {\n",
              "      background-color: #3B4455;\n",
              "      fill: #D2E3FC;\n",
              "    }\n",
              "\n",
              "    [theme=dark] .colab-df-convert:hover {\n",
              "      background-color: #434B5C;\n",
              "      box-shadow: 0px 1px 3px 1px rgba(0, 0, 0, 0.15);\n",
              "      filter: drop-shadow(0px 1px 2px rgba(0, 0, 0, 0.3));\n",
              "      fill: #FFFFFF;\n",
              "    }\n",
              "  </style>\n",
              "\n",
              "    <script>\n",
              "      const buttonEl =\n",
              "        document.querySelector('#df-94a6ec48-7473-4c8b-9148-01ad5d9943df button.colab-df-convert');\n",
              "      buttonEl.style.display =\n",
              "        google.colab.kernel.accessAllowed ? 'block' : 'none';\n",
              "\n",
              "      async function convertToInteractive(key) {\n",
              "        const element = document.querySelector('#df-94a6ec48-7473-4c8b-9148-01ad5d9943df');\n",
              "        const dataTable =\n",
              "          await google.colab.kernel.invokeFunction('convertToInteractive',\n",
              "                                                    [key], {});\n",
              "        if (!dataTable) return;\n",
              "\n",
              "        const docLinkHtml = 'Like what you see? Visit the ' +\n",
              "          '<a target=\"_blank\" href=https://colab.research.google.com/notebooks/data_table.ipynb>data table notebook</a>'\n",
              "          + ' to learn more about interactive tables.';\n",
              "        element.innerHTML = '';\n",
              "        dataTable['output_type'] = 'display_data';\n",
              "        await google.colab.output.renderOutput(dataTable, element);\n",
              "        const docLink = document.createElement('div');\n",
              "        docLink.innerHTML = docLinkHtml;\n",
              "        element.appendChild(docLink);\n",
              "      }\n",
              "    </script>\n",
              "  </div>\n",
              "\n",
              "\n",
              "<div id=\"df-ca98deae-321f-4681-a0fc-a4eb2f91940b\">\n",
              "  <button class=\"colab-df-quickchart\" onclick=\"quickchart('df-ca98deae-321f-4681-a0fc-a4eb2f91940b')\"\n",
              "            title=\"Suggest charts\"\n",
              "            style=\"display:none;\">\n",
              "\n",
              "<svg xmlns=\"http://www.w3.org/2000/svg\" height=\"24px\"viewBox=\"0 0 24 24\"\n",
              "     width=\"24px\">\n",
              "    <g>\n",
              "        <path d=\"M19 3H5c-1.1 0-2 .9-2 2v14c0 1.1.9 2 2 2h14c1.1 0 2-.9 2-2V5c0-1.1-.9-2-2-2zM9 17H7v-7h2v7zm4 0h-2V7h2v10zm4 0h-2v-4h2v4z\"/>\n",
              "    </g>\n",
              "</svg>\n",
              "  </button>\n",
              "\n",
              "<style>\n",
              "  .colab-df-quickchart {\n",
              "      --bg-color: #E8F0FE;\n",
              "      --fill-color: #1967D2;\n",
              "      --hover-bg-color: #E2EBFA;\n",
              "      --hover-fill-color: #174EA6;\n",
              "      --disabled-fill-color: #AAA;\n",
              "      --disabled-bg-color: #DDD;\n",
              "  }\n",
              "\n",
              "  [theme=dark] .colab-df-quickchart {\n",
              "      --bg-color: #3B4455;\n",
              "      --fill-color: #D2E3FC;\n",
              "      --hover-bg-color: #434B5C;\n",
              "      --hover-fill-color: #FFFFFF;\n",
              "      --disabled-bg-color: #3B4455;\n",
              "      --disabled-fill-color: #666;\n",
              "  }\n",
              "\n",
              "  .colab-df-quickchart {\n",
              "    background-color: var(--bg-color);\n",
              "    border: none;\n",
              "    border-radius: 50%;\n",
              "    cursor: pointer;\n",
              "    display: none;\n",
              "    fill: var(--fill-color);\n",
              "    height: 32px;\n",
              "    padding: 0;\n",
              "    width: 32px;\n",
              "  }\n",
              "\n",
              "  .colab-df-quickchart:hover {\n",
              "    background-color: var(--hover-bg-color);\n",
              "    box-shadow: 0 1px 2px rgba(60, 64, 67, 0.3), 0 1px 3px 1px rgba(60, 64, 67, 0.15);\n",
              "    fill: var(--button-hover-fill-color);\n",
              "  }\n",
              "\n",
              "  .colab-df-quickchart-complete:disabled,\n",
              "  .colab-df-quickchart-complete:disabled:hover {\n",
              "    background-color: var(--disabled-bg-color);\n",
              "    fill: var(--disabled-fill-color);\n",
              "    box-shadow: none;\n",
              "  }\n",
              "\n",
              "  .colab-df-spinner {\n",
              "    border: 2px solid var(--fill-color);\n",
              "    border-color: transparent;\n",
              "    border-bottom-color: var(--fill-color);\n",
              "    animation:\n",
              "      spin 1s steps(1) infinite;\n",
              "  }\n",
              "\n",
              "  @keyframes spin {\n",
              "    0% {\n",
              "      border-color: transparent;\n",
              "      border-bottom-color: var(--fill-color);\n",
              "      border-left-color: var(--fill-color);\n",
              "    }\n",
              "    20% {\n",
              "      border-color: transparent;\n",
              "      border-left-color: var(--fill-color);\n",
              "      border-top-color: var(--fill-color);\n",
              "    }\n",
              "    30% {\n",
              "      border-color: transparent;\n",
              "      border-left-color: var(--fill-color);\n",
              "      border-top-color: var(--fill-color);\n",
              "      border-right-color: var(--fill-color);\n",
              "    }\n",
              "    40% {\n",
              "      border-color: transparent;\n",
              "      border-right-color: var(--fill-color);\n",
              "      border-top-color: var(--fill-color);\n",
              "    }\n",
              "    60% {\n",
              "      border-color: transparent;\n",
              "      border-right-color: var(--fill-color);\n",
              "    }\n",
              "    80% {\n",
              "      border-color: transparent;\n",
              "      border-right-color: var(--fill-color);\n",
              "      border-bottom-color: var(--fill-color);\n",
              "    }\n",
              "    90% {\n",
              "      border-color: transparent;\n",
              "      border-bottom-color: var(--fill-color);\n",
              "    }\n",
              "  }\n",
              "</style>\n",
              "\n",
              "  <script>\n",
              "    async function quickchart(key) {\n",
              "      const quickchartButtonEl =\n",
              "        document.querySelector('#' + key + ' button');\n",
              "      quickchartButtonEl.disabled = true;  // To prevent multiple clicks.\n",
              "      quickchartButtonEl.classList.add('colab-df-spinner');\n",
              "      try {\n",
              "        const charts = await google.colab.kernel.invokeFunction(\n",
              "            'suggestCharts', [key], {});\n",
              "      } catch (error) {\n",
              "        console.error('Error during call to suggestCharts:', error);\n",
              "      }\n",
              "      quickchartButtonEl.classList.remove('colab-df-spinner');\n",
              "      quickchartButtonEl.classList.add('colab-df-quickchart-complete');\n",
              "    }\n",
              "    (() => {\n",
              "      let quickchartButtonEl =\n",
              "        document.querySelector('#df-ca98deae-321f-4681-a0fc-a4eb2f91940b button');\n",
              "      quickchartButtonEl.style.display =\n",
              "        google.colab.kernel.accessAllowed ? 'block' : 'none';\n",
              "    })();\n",
              "  </script>\n",
              "</div>\n",
              "\n",
              "    </div>\n",
              "  </div>\n"
            ],
            "application/vnd.google.colaboratory.intrinsic+json": {
              "type": "dataframe",
              "variable_name": "df",
              "summary": "{\n  \"name\": \"df\",\n  \"rows\": 4,\n  \"fields\": [\n    {\n      \"column\": \"cgpa\",\n      \"properties\": {\n        \"dtype\": \"number\",\n        \"std\": 1,\n        \"min\": 5,\n        \"max\": 8,\n        \"num_unique_values\": 4,\n        \"samples\": [\n          7,\n          5,\n          8\n        ],\n        \"semantic_type\": \"\",\n        \"description\": \"\"\n      }\n    },\n    {\n      \"column\": \"profile_score\",\n      \"properties\": {\n        \"dtype\": \"number\",\n        \"std\": 2,\n        \"min\": 5,\n        \"max\": 10,\n        \"num_unique_values\": 4,\n        \"samples\": [\n          9,\n          5,\n          8\n        ],\n        \"semantic_type\": \"\",\n        \"description\": \"\"\n      }\n    },\n    {\n      \"column\": \"placed\",\n      \"properties\": {\n        \"dtype\": \"number\",\n        \"std\": 0,\n        \"min\": 0,\n        \"max\": 1,\n        \"num_unique_values\": 2,\n        \"samples\": [\n          0,\n          1\n        ],\n        \"semantic_type\": \"\",\n        \"description\": \"\"\n      }\n    }\n  ]\n}"
            }
          },
          "metadata": {},
          "execution_count": 3
        }
      ]
    },
    {
      "cell_type": "code",
      "source": [
        "def initialize_parameters(layer_dims):\n",
        "  np.random.seed(3)\n",
        "  parameters={}\n",
        "  L=len(layer_dims)\n",
        "\n",
        "  for l in range(1,L):\n",
        "\n",
        "    parameters['W' + str(l)] = np.ones((layer_dims[l-1], layer_dims[l]))*0.1\n",
        "    parameters['b' + str(l)] = np.zeros((layer_dims[l],1))\n",
        "\n",
        "  return parameters\n"
      ],
      "metadata": {
        "id": "jLLnfU01zI--"
      },
      "execution_count": 12,
      "outputs": []
    },
    {
      "cell_type": "code",
      "source": [
        "# Utility Functions\n",
        "def sigmoid(Z):\n",
        "\n",
        "  A=1/(1+np.exp(-Z))\n",
        "  return A"
      ],
      "metadata": {
        "id": "MxNjNqRbzyvK"
      },
      "execution_count": 18,
      "outputs": []
    },
    {
      "cell_type": "code",
      "source": [
        "def linear_forward(A_prev,W,b):\n",
        "  Z=np.dot(W.T, A_prev) + b\n",
        "\n",
        "  A=sigmoid(Z)\n",
        "  return A"
      ],
      "metadata": {
        "id": "lIRo7P7HhGB-"
      },
      "execution_count": 19,
      "outputs": []
    },
    {
      "cell_type": "code",
      "source": [
        "# Forward prop\n",
        "def L_layer_forward(X,parameters):\n",
        "  A=X\n",
        "  L=len(parameters)//2\n",
        "\n",
        "  for l in range(1,L+1):\n",
        "    A_prev=A\n",
        "    Wl=parameters['W' + str(l)]\n",
        "    bl=parameters['b' + str(l)]\n",
        "    #print(\"A\"+str(l-1)+\": \",A_prev)\n",
        "    #print(\"W\"+str(l)+\":\",Wl)\n",
        "    #print(\"b\"+str(l)+\":\",bl)\n",
        "    #print(\"--\"*20)\n",
        "\n",
        "    A=linear_forward(A_prev,Wl,bl)\n",
        "    #print(\"A\"+str(l)+\":\",A)\n",
        "    #print(\"--\"*20)\n",
        "\n",
        "\n",
        "  return A,A_prev\n",
        "\n",
        "\n"
      ],
      "metadata": {
        "id": "scmQLebvhl4i"
      },
      "execution_count": 20,
      "outputs": []
    },
    {
      "cell_type": "code",
      "source": [
        "# Updating the parameters using gradient descent algorithm\n",
        "def update_parameters(parameters,y,y_hat,A1,X):\n",
        "  parameters['W2'][0][0]=parameters['W2'][0][0] + (0.0001 * (y-y_hat)* A1[0][0])\n",
        "  parameters['W2'][1][0]=parameters['W2'][1][0] + (0.0001 * (y - y_hat)) *A1[1][0]\n",
        "  parameters['b2'][0][0]= parameters['W2'][1][0] + (0.0001 * (y-y_hat))\n",
        "\n",
        "  parameters['W1'][0][0]=parameters['W1'][0][0] + (0.0001 *  (y - y_hat) * parameters['W2'][0][0]*A1[0][0]*(1-A1[0][0])*X[0][0])\n",
        "  parameters['W1'][0][1]=parameters['W1'][0][1] + (0.0001 *  (y - y_hat) * parameters['W2'][0][0]*A1[0][0]*(1-A1[0][0])*X[1][0])\n",
        "  parameters['b1'][0][0]= parameters['b1'][0][0] + (0.0001 * (y-y_hat)*parameters['W2'][0][0]*A1[0][0]*(1-A1[0][0]))\n",
        "\n",
        "  parameters['W1'][1][0]= parameters['W1'][1][0] + (0.0001 * (y-y_hat)*parameters['W2'][1][0]*A1[1][0]*(1-A1[1][0])*X[0][0])\n",
        "  parameters['W1'][1][1]=parameters['W1'][1][1] + (0.0001 * (y-y_hat)*parameters['W2'][1][0]*A1[1][0]*(1-A1[1][0])*X[1][0])\n",
        "  parameters['b1'][1][0]=parameters['b1'][1][0] + (0.0001 * (y-y_hat)*parameters['W2'][1][0]*A1[1][0]*(1-A1[1][0]))\n",
        "\n"
      ],
      "metadata": {
        "id": "NMUtVYzohxlQ"
      },
      "execution_count": 33,
      "outputs": []
    },
    {
      "cell_type": "code",
      "source": [
        "# applying the whole process on first student\n",
        "X=df[['cgpa','profile_score']].values[0].reshape(2,1) # Shape(no of features, no. of training example)\n",
        "y=df[['placed']].values[0][0]\n",
        "\n",
        "# Parameter initialization\n",
        "parameters= initialize_parameters([2,2,1])\n",
        "\n",
        "y_hat,A1=L_layer_forward(X,parameters)\n",
        "y_hat=y_hat[0][0]\n",
        "update_parameters(parameters,y,y_hat,A1,X)\n",
        "print('Loss for this student -',-y*np.log(y_hat)-(1-y)*np.log(1-y_hat))\n",
        "parameters"
      ],
      "metadata": {
        "colab": {
          "base_uri": "https://localhost:8080/"
        },
        "id": "m-PLiFPIjZzu",
        "outputId": "0a8f12eb-cdf9-4b65-ba68-5b6ad50488c7"
      },
      "execution_count": 34,
      "outputs": [
        {
          "output_type": "stream",
          "name": "stdout",
          "text": [
            "Loss for this student - 0.613402628898913\n"
          ]
        },
        {
          "output_type": "execute_result",
          "data": {
            "text/plain": [
              "{'W1': array([[0.10000513, 0.10000513],\n",
              "        [0.10000513, 0.10000513]]),\n",
              " 'b1': array([[6.41054186e-07],\n",
              "        [6.41054186e-07]]),\n",
              " 'W2': array([[0.10003815],\n",
              "        [0.10003815]]),\n",
              " 'b2': array([[0.100084]])}"
            ]
          },
          "metadata": {},
          "execution_count": 34
        }
      ]
    },
    {
      "cell_type": "code",
      "source": [
        "# Applying the whole process on second student\n",
        "# applying the whole process on first student\n",
        "X=df[['cgpa','profile_score']].values[1].reshape(2,1) # Shape(no of features, no. of training example)\n",
        "y=df[['placed']].values[1][0]\n",
        "\n",
        "# Parameter initialization\n",
        "parameters= initialize_parameters([2,2,1])\n",
        "\n",
        "y_hat,A1=L_layer_forward(X,parameters)\n",
        "y_hat=y_hat[0][0]\n",
        "update_parameters(parameters,y,y_hat,A1,X)\n",
        "print('Loss for this student -',-y*np.log(y_hat)-(1-y)*np.log(1-y_hat))\n",
        "parameters"
      ],
      "metadata": {
        "colab": {
          "base_uri": "https://localhost:8080/"
        },
        "id": "2XyPUb06j5GS",
        "outputId": "452421ed-1610-4ac4-af00-33cd0b4f7048"
      },
      "execution_count": 35,
      "outputs": [
        {
          "output_type": "stream",
          "name": "stdout",
          "text": [
            "Loss for this student - 0.613402628898913\n"
          ]
        },
        {
          "output_type": "execute_result",
          "data": {
            "text/plain": [
              "{'W1': array([[0.10000449, 0.10000577],\n",
              "        [0.10000449, 0.10000577]]),\n",
              " 'b1': array([[6.41054186e-07],\n",
              "        [6.41054186e-07]]),\n",
              " 'W2': array([[0.10003815],\n",
              "        [0.10003815]]),\n",
              " 'b2': array([[0.100084]])}"
            ]
          },
          "metadata": {},
          "execution_count": 35
        }
      ]
    },
    {
      "cell_type": "code",
      "source": [
        "# applying the whole process on third student\n",
        "X=df[['cgpa','profile_score']].values[2].reshape(2,1) # Shape(no of features, no. of training example)\n",
        "y=df[['placed']].values[2][0]\n",
        "\n",
        "# Parameter initialization\n",
        "parameters= initialize_parameters([2,2,1])\n",
        "\n",
        "y_hat,A1=L_layer_forward(X,parameters)\n",
        "y_hat=y_hat[0][0]\n",
        "update_parameters(parameters,y,y_hat,A1,X)\n",
        "print('Loss for this student -',-y*np.log(y_hat)-(1-y)*np.log(1-y_hat))\n",
        "parameters"
      ],
      "metadata": {
        "colab": {
          "base_uri": "https://localhost:8080/"
        },
        "id": "CRKAtmKBp5HE",
        "outputId": "54e123ef-f5fb-4cb7-dcec-4549b0b6c600"
      },
      "execution_count": 36,
      "outputs": [
        {
          "output_type": "stream",
          "name": "stdout",
          "text": [
            "Loss for this student - 0.7798063059256977\n"
          ]
        },
        {
          "output_type": "execute_result",
          "data": {
            "text/plain": [
              "{'W1': array([[0.09999546, 0.09999244],\n",
              "        [0.09999546, 0.09999244]]),\n",
              " 'b1': array([[-7.56487203e-07],\n",
              "        [-7.56487203e-07]]),\n",
              " 'W2': array([[0.09995495],\n",
              "        [0.09995495]]),\n",
              " 'b2': array([[0.0999008]])}"
            ]
          },
          "metadata": {},
          "execution_count": 36
        }
      ]
    },
    {
      "cell_type": "code",
      "source": [
        "# epochs implementation\n",
        "parameters = initialize_parameters([2,2,1])\n",
        "\n",
        "epochs=5\n",
        "\n",
        "for i in range(epochs):\n",
        "  Loss=[]\n",
        "\n",
        "  for j in range(df.shape[0]):\n",
        "\n",
        "    X=df[['cgpa','profile_score']].values[j].reshape(2,1)\n",
        "    y=df[['placed']].values[j][0]\n",
        "\n",
        "    # parameter initializations\n",
        "\n",
        "    y_hat,A1=L_layer_forward(X,parameters)\n",
        "    y_hat=y_hat[0][0]\n",
        "\n",
        "    update_parameters(parameters,y,y_hat,A1,X)\n",
        "\n",
        "    Loss.append(-y*np.log(y_hat) - (1-y)*np.log(1-y_hat))\n",
        "\n",
        "  print('epoch - ',i+1,'Loss - ',np.array(Loss).mean())\n",
        "\n",
        "parameters\n",
        "\n",
        "\n",
        "\n",
        "\n"
      ],
      "metadata": {
        "colab": {
          "base_uri": "https://localhost:8080/"
        },
        "id": "a_Tsa6PJqH3D",
        "outputId": "ac53e5e2-a7b8-426b-8143-fc22ec6fe572"
      },
      "execution_count": 39,
      "outputs": [
        {
          "output_type": "stream",
          "name": "stdout",
          "text": [
            "epoch -  1 Loss -  0.7103199085929446\n",
            "epoch -  2 Loss -  0.6991702892802629\n",
            "epoch -  3 Loss -  0.6991679314811485\n",
            "epoch -  4 Loss -  0.6991655746710999\n",
            "epoch -  5 Loss -  0.6991632188496667\n"
          ]
        },
        {
          "output_type": "execute_result",
          "data": {
            "text/plain": [
              "{'W1': array([[0.09999445, 0.09998469],\n",
              "        [0.09999445, 0.09998469]]),\n",
              " 'b1': array([[-3.37225416e-06],\n",
              "        [-3.37226502e-06]]),\n",
              " 'W2': array([[0.09992227],\n",
              "        [0.09992227]]),\n",
              " 'b2': array([[0.09986615]])}"
            ]
          },
          "metadata": {},
          "execution_count": 39
        }
      ]
    },
    {
      "cell_type": "code",
      "source": [
        "# Same Implemention but in Keras\n",
        "import tensorflow\n",
        "from tensorflow import keras\n",
        "from keras import Sequential\n",
        "from keras.layers import Dense"
      ],
      "metadata": {
        "id": "39hy1ZpSqQ7T"
      },
      "execution_count": 43,
      "outputs": []
    },
    {
      "cell_type": "code",
      "source": [
        "model=Sequential()\n",
        "\n",
        "model.add(Dense(2,activation='sigmoid',input_dim=2))\n",
        "model.add(Dense(1,activation='sigmoid'))\n"
      ],
      "metadata": {
        "id": "GjXbyG4Pq5bz"
      },
      "execution_count": 44,
      "outputs": []
    },
    {
      "cell_type": "code",
      "source": [
        "model.summary()"
      ],
      "metadata": {
        "colab": {
          "base_uri": "https://localhost:8080/"
        },
        "id": "l6EG539mrQck",
        "outputId": "c3e97f3d-afe9-4b74-cd0d-9c71f0684cc7"
      },
      "execution_count": 45,
      "outputs": [
        {
          "output_type": "stream",
          "name": "stdout",
          "text": [
            "Model: \"sequential\"\n",
            "_________________________________________________________________\n",
            " Layer (type)                Output Shape              Param #   \n",
            "=================================================================\n",
            " dense (Dense)               (None, 2)                 6         \n",
            "                                                                 \n",
            " dense_1 (Dense)             (None, 1)                 3         \n",
            "                                                                 \n",
            "=================================================================\n",
            "Total params: 9 (36.00 Byte)\n",
            "Trainable params: 9 (36.00 Byte)\n",
            "Non-trainable params: 0 (0.00 Byte)\n",
            "_________________________________________________________________\n"
          ]
        }
      ]
    },
    {
      "cell_type": "code",
      "source": [
        "model.get_weights()"
      ],
      "metadata": {
        "colab": {
          "base_uri": "https://localhost:8080/"
        },
        "id": "z3sE9kM3rYsz",
        "outputId": "a1568e02-7dc1-4d33-f2c4-46916e3f1775"
      },
      "execution_count": 47,
      "outputs": [
        {
          "output_type": "execute_result",
          "data": {
            "text/plain": [
              "[array([[-0.3262815 ,  0.9779092 ],\n",
              "        [-0.91410536, -1.0313692 ]], dtype=float32),\n",
              " array([0., 0.], dtype=float32),\n",
              " array([[-0.0852381],\n",
              "        [ 1.0165988]], dtype=float32),\n",
              " array([0.], dtype=float32)]"
            ]
          },
          "metadata": {},
          "execution_count": 47
        }
      ]
    },
    {
      "cell_type": "code",
      "source": [
        "new_weights=[np.array([[0.1 ,  0.1 ],\n",
        "        [0.1, 0.1 ]], dtype=np.float32),\n",
        " np.array([0., 0.], dtype=np.float32),\n",
        " np.array([[0.1],\n",
        "        [ 0.1]], dtype=np.float32),\n",
        " np.array([0.], dtype=np.float32)]\n"
      ],
      "metadata": {
        "id": "bHpq9vVTrfkC"
      },
      "execution_count": 51,
      "outputs": []
    },
    {
      "cell_type": "code",
      "source": [
        "model.set_weights(new_weights)"
      ],
      "metadata": {
        "id": "sflP-4o6rwDz"
      },
      "execution_count": 52,
      "outputs": []
    },
    {
      "cell_type": "code",
      "source": [
        "model.get_weights()"
      ],
      "metadata": {
        "colab": {
          "base_uri": "https://localhost:8080/"
        },
        "id": "Zag2W16kr0ID",
        "outputId": "d5d2b3d9-db94-47c0-eeb6-47c35ad79776"
      },
      "execution_count": 53,
      "outputs": [
        {
          "output_type": "execute_result",
          "data": {
            "text/plain": [
              "[array([[0.1, 0.1],\n",
              "        [0.1, 0.1]], dtype=float32),\n",
              " array([0., 0.], dtype=float32),\n",
              " array([[0.1],\n",
              "        [0.1]], dtype=float32),\n",
              " array([0.], dtype=float32)]"
            ]
          },
          "metadata": {},
          "execution_count": 53
        }
      ]
    },
    {
      "cell_type": "code",
      "source": [
        "optimizer=keras.optimizers.Adam(learning_rate=0.001)\n",
        "model.compile(loss='binary_crossentropy',optimizer=optimizer)"
      ],
      "metadata": {
        "id": "N6vPBn1fr3Ki"
      },
      "execution_count": 54,
      "outputs": []
    },
    {
      "cell_type": "code",
      "source": [
        "model.fit(df.iloc[:,0:-1].values,df['placed'].values,epochs=50,verbose=1,batch_size=1)"
      ],
      "metadata": {
        "colab": {
          "base_uri": "https://localhost:8080/"
        },
        "id": "COMlSW0JsZgl",
        "outputId": "82caa236-b9eb-4609-a2af-6c5054aaa232"
      },
      "execution_count": 55,
      "outputs": [
        {
          "output_type": "stream",
          "name": "stdout",
          "text": [
            "Epoch 1/50\n",
            "4/4 [==============================] - 1s 5ms/step - loss: 0.6952\n",
            "Epoch 2/50\n",
            "4/4 [==============================] - 0s 3ms/step - loss: 0.6947\n",
            "Epoch 3/50\n",
            "4/4 [==============================] - 0s 3ms/step - loss: 0.6941\n",
            "Epoch 4/50\n",
            "4/4 [==============================] - 0s 4ms/step - loss: 0.6940\n",
            "Epoch 5/50\n",
            "4/4 [==============================] - 0s 3ms/step - loss: 0.6940\n",
            "Epoch 6/50\n",
            "4/4 [==============================] - 0s 3ms/step - loss: 0.6939\n",
            "Epoch 7/50\n",
            "4/4 [==============================] - 0s 3ms/step - loss: 0.6939\n",
            "Epoch 8/50\n",
            "4/4 [==============================] - 0s 3ms/step - loss: 0.6939\n",
            "Epoch 9/50\n",
            "4/4 [==============================] - 0s 3ms/step - loss: 0.6939\n",
            "Epoch 10/50\n",
            "4/4 [==============================] - 0s 3ms/step - loss: 0.6939\n",
            "Epoch 11/50\n",
            "4/4 [==============================] - 0s 3ms/step - loss: 0.6939\n",
            "Epoch 12/50\n",
            "4/4 [==============================] - 0s 4ms/step - loss: 0.6941\n",
            "Epoch 13/50\n",
            "4/4 [==============================] - 0s 4ms/step - loss: 0.6937\n",
            "Epoch 14/50\n",
            "4/4 [==============================] - 0s 3ms/step - loss: 0.6938\n",
            "Epoch 15/50\n",
            "4/4 [==============================] - 0s 3ms/step - loss: 0.6937\n",
            "Epoch 16/50\n",
            "4/4 [==============================] - 0s 3ms/step - loss: 0.6939\n",
            "Epoch 17/50\n",
            "4/4 [==============================] - 0s 4ms/step - loss: 0.6937\n",
            "Epoch 18/50\n",
            "4/4 [==============================] - 0s 3ms/step - loss: 0.6937\n",
            "Epoch 19/50\n",
            "4/4 [==============================] - 0s 3ms/step - loss: 0.6937\n",
            "Epoch 20/50\n",
            "4/4 [==============================] - 0s 3ms/step - loss: 0.6937\n",
            "Epoch 21/50\n",
            "4/4 [==============================] - 0s 3ms/step - loss: 0.6937\n",
            "Epoch 22/50\n",
            "4/4 [==============================] - 0s 4ms/step - loss: 0.6936\n",
            "Epoch 23/50\n",
            "4/4 [==============================] - 0s 3ms/step - loss: 0.6936\n",
            "Epoch 24/50\n",
            "4/4 [==============================] - 0s 3ms/step - loss: 0.6937\n",
            "Epoch 25/50\n",
            "4/4 [==============================] - 0s 4ms/step - loss: 0.6935\n",
            "Epoch 26/50\n",
            "4/4 [==============================] - 0s 3ms/step - loss: 0.6936\n",
            "Epoch 27/50\n",
            "4/4 [==============================] - 0s 4ms/step - loss: 0.6935\n",
            "Epoch 28/50\n",
            "4/4 [==============================] - 0s 4ms/step - loss: 0.6934\n",
            "Epoch 29/50\n",
            "4/4 [==============================] - 0s 4ms/step - loss: 0.6935\n",
            "Epoch 30/50\n",
            "4/4 [==============================] - 0s 3ms/step - loss: 0.6937\n",
            "Epoch 31/50\n",
            "4/4 [==============================] - 0s 4ms/step - loss: 0.6934\n",
            "Epoch 32/50\n",
            "4/4 [==============================] - 0s 3ms/step - loss: 0.6933\n",
            "Epoch 33/50\n",
            "4/4 [==============================] - 0s 3ms/step - loss: 0.6934\n",
            "Epoch 34/50\n",
            "4/4 [==============================] - 0s 4ms/step - loss: 0.6934\n",
            "Epoch 35/50\n",
            "4/4 [==============================] - 0s 4ms/step - loss: 0.6933\n",
            "Epoch 36/50\n",
            "4/4 [==============================] - 0s 4ms/step - loss: 0.6933\n",
            "Epoch 37/50\n",
            "4/4 [==============================] - 0s 3ms/step - loss: 0.6933\n",
            "Epoch 38/50\n",
            "4/4 [==============================] - 0s 4ms/step - loss: 0.6935\n",
            "Epoch 39/50\n",
            "4/4 [==============================] - 0s 3ms/step - loss: 0.6932\n",
            "Epoch 40/50\n",
            "4/4 [==============================] - 0s 5ms/step - loss: 0.6932\n",
            "Epoch 41/50\n",
            "4/4 [==============================] - 0s 4ms/step - loss: 0.6932\n",
            "Epoch 42/50\n",
            "4/4 [==============================] - 0s 4ms/step - loss: 0.6932\n",
            "Epoch 43/50\n",
            "4/4 [==============================] - 0s 3ms/step - loss: 0.6931\n",
            "Epoch 44/50\n",
            "4/4 [==============================] - 0s 3ms/step - loss: 0.6934\n",
            "Epoch 45/50\n",
            "4/4 [==============================] - 0s 3ms/step - loss: 0.6931\n",
            "Epoch 46/50\n",
            "4/4 [==============================] - 0s 4ms/step - loss: 0.6931\n",
            "Epoch 47/50\n",
            "4/4 [==============================] - 0s 6ms/step - loss: 0.6933\n",
            "Epoch 48/50\n",
            "4/4 [==============================] - 0s 5ms/step - loss: 0.6932\n",
            "Epoch 49/50\n",
            "4/4 [==============================] - 0s 4ms/step - loss: 0.6931\n",
            "Epoch 50/50\n",
            "4/4 [==============================] - 0s 4ms/step - loss: 0.6931\n"
          ]
        },
        {
          "output_type": "execute_result",
          "data": {
            "text/plain": [
              "<keras.src.callbacks.History at 0x7fcf58760760>"
            ]
          },
          "metadata": {},
          "execution_count": 55
        }
      ]
    },
    {
      "cell_type": "code",
      "source": [],
      "metadata": {
        "id": "2S2g-2LLsnok"
      },
      "execution_count": null,
      "outputs": []
    }
  ]
}