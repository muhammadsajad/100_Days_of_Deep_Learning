{
  "nbformat": 4,
  "nbformat_minor": 0,
  "metadata": {
    "colab": {
      "provenance": [],
      "authorship_tag": "ABX9TyMix8j1id6ozohMEOrnPwpA",
      "include_colab_link": true
    },
    "kernelspec": {
      "name": "python3",
      "display_name": "Python 3"
    },
    "language_info": {
      "name": "python"
    }
  },
  "cells": [
    {
      "cell_type": "markdown",
      "metadata": {
        "id": "view-in-github",
        "colab_type": "text"
      },
      "source": [
        "<a href=\"https://colab.research.google.com/github/muhammadsajad/100_Days_of_Deep_Learning/blob/main/memoization_demo.ipynb\" target=\"_parent\"><img src=\"https://colab.research.google.com/assets/colab-badge.svg\" alt=\"Open In Colab\"/></a>"
      ]
    },
    {
      "cell_type": "code",
      "execution_count": 4,
      "metadata": {
        "id": "B9m0mZ3b59Cn"
      },
      "outputs": [],
      "source": [
        "# fib\n",
        "import time\n",
        "\n",
        "def fib(n):\n",
        "  if n==1 or n==0:\n",
        "    return 1\n",
        "  else:\n",
        "    return fib(n-1)+fib(n-2)"
      ]
    },
    {
      "cell_type": "code",
      "source": [
        "start=time.time()\n",
        "fib(38)\n",
        "print(time.time()-start)"
      ],
      "metadata": {
        "colab": {
          "base_uri": "https://localhost:8080/"
        },
        "id": "XHe9nZPp6Odw",
        "outputId": "b201aad7-7f11-4550-edda-bf6c2efca4fc"
      },
      "execution_count": 6,
      "outputs": [
        {
          "output_type": "stream",
          "name": "stdout",
          "text": [
            "20.042604684829712\n"
          ]
        }
      ]
    },
    {
      "cell_type": "code",
      "source": [
        " # Now implement the same method of Fibonacci numbers using memoization. this will reduce the time\n",
        "memo={0:1,1:1}\n",
        "def fib_memo(n,memo):\n",
        "  if n in memo:\n",
        "    return memo[n]\n",
        "  else:\n",
        "    memo[n]=fib_memo(n-1,memo)+fib_memo(n-2,memo)\n",
        "    return memo[n]\n"
      ],
      "metadata": {
        "id": "t3HXN5dL6PiW"
      },
      "execution_count": 11,
      "outputs": []
    },
    {
      "cell_type": "code",
      "source": [
        "start=time.time()\n",
        "fib_memo(38,memo)\n",
        "print(time.time()-start)"
      ],
      "metadata": {
        "colab": {
          "base_uri": "https://localhost:8080/"
        },
        "id": "h31RXOrVVNyy",
        "outputId": "c65bf541-00c5-4492-a015-9b57319898f8"
      },
      "execution_count": 12,
      "outputs": [
        {
          "output_type": "stream",
          "name": "stdout",
          "text": [
            "0.00019669532775878906\n"
          ]
        }
      ]
    },
    {
      "cell_type": "code",
      "source": [],
      "metadata": {
        "id": "B_viwo7qVRlf"
      },
      "execution_count": null,
      "outputs": []
    }
  ]
}