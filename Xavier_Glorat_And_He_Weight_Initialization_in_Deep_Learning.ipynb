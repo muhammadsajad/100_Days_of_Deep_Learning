{
  "nbformat": 4,
  "nbformat_minor": 0,
  "metadata": {
    "colab": {
      "provenance": [],
      "authorship_tag": "ABX9TyMP2/E+rVoQenRFSx8x0Sgj",
      "include_colab_link": true
    },
    "kernelspec": {
      "name": "python3",
      "display_name": "Python 3"
    },
    "language_info": {
      "name": "python"
    }
  },
  "cells": [
    {
      "cell_type": "markdown",
      "metadata": {
        "id": "view-in-github",
        "colab_type": "text"
      },
      "source": [
        "<a href=\"https://colab.research.google.com/github/muhammadsajad/100_Days_of_Deep_Learning/blob/main/Xavier_Glorat_And_He_Weight_Initialization_in_Deep_Learning.ipynb\" target=\"_parent\"><img src=\"https://colab.research.google.com/assets/colab-badge.svg\" alt=\"Open In Colab\"/></a>"
      ]
    },
    {
      "cell_type": "code",
      "source": [
        "import numpy as np\n",
        "import pandas as pd\n",
        "import matplotlib.pyplot as plt"
      ],
      "metadata": {
        "id": "8tw8aMCInovw"
      },
      "execution_count": 6,
      "outputs": []
    },
    {
      "cell_type": "code",
      "execution_count": 1,
      "metadata": {
        "id": "WnzZjkEil2p4"
      },
      "outputs": [],
      "source": [
        "# Making directory for uploading kaggle api\n",
        "!mkdir -p /root/.kaggle"
      ]
    },
    {
      "cell_type": "code",
      "source": [
        "# Upload manualy your kaggle api to directory and copy it to the root/.kaggle direcotry\n",
        "!cp kaggle.json /root/.kaggle/"
      ],
      "metadata": {
        "id": "Ct57GNucnJDa"
      },
      "execution_count": 2,
      "outputs": []
    },
    {
      "cell_type": "code",
      "source": [
        "!kaggle datasets download -d hafeezabro/ushape"
      ],
      "metadata": {
        "colab": {
          "base_uri": "https://localhost:8080/"
        },
        "id": "j-n-WUhrnQ_X",
        "outputId": "65acfc64-288d-44a5-aa00-3812bcdbc549"
      },
      "execution_count": 3,
      "outputs": [
        {
          "output_type": "stream",
          "name": "stdout",
          "text": [
            "Warning: Your Kaggle API key is readable by other users on this system! To fix this, you can run 'chmod 600 /root/.kaggle/kaggle.json'\n",
            "Dataset URL: https://www.kaggle.com/datasets/hafeezabro/ushape\n",
            "License(s): unknown\n",
            "Downloading ushape.zip to /content\n",
            "  0% 0.00/2.68k [00:00<?, ?B/s]\n",
            "100% 2.68k/2.68k [00:00<00:00, 6.42MB/s]\n"
          ]
        }
      ]
    },
    {
      "cell_type": "code",
      "source": [
        "# As the downloaded dataset in zip format we have to unzip it in content folder\n",
        "!unzip /content/ushape.zip -d /content/"
      ],
      "metadata": {
        "colab": {
          "base_uri": "https://localhost:8080/"
        },
        "id": "LXR7NNtmnWgn",
        "outputId": "c94fd6b0-30ed-4abf-e5d7-36a2d22ee2fe"
      },
      "execution_count": 4,
      "outputs": [
        {
          "output_type": "stream",
          "name": "stdout",
          "text": [
            "Archive:  /content/ushape.zip\n",
            "  inflating: /content/ushape.csv     \n"
          ]
        }
      ]
    },
    {
      "cell_type": "code",
      "source": [
        "df = pd.read_csv('/content/ushape.csv')"
      ],
      "metadata": {
        "id": "aIwVwZzUnjBX"
      },
      "execution_count": 7,
      "outputs": []
    },
    {
      "cell_type": "code",
      "source": [
        "df.head()"
      ],
      "metadata": {
        "colab": {
          "base_uri": "https://localhost:8080/",
          "height": 206
        },
        "id": "xfJX8-H5nmsW",
        "outputId": "3671812b-cc69-4bed-d1f9-6f7841fa36c5"
      },
      "execution_count": 8,
      "outputs": [
        {
          "output_type": "execute_result",
          "data": {
            "text/plain": [
              "   3.159499363321345566e-02  9.869877579082642072e-01  \\\n",
              "0                  2.115098                 -0.046244   \n",
              "1                  0.882490                 -0.075756   \n",
              "2                 -0.055144                 -0.037332   \n",
              "3                  0.829545                 -0.539321   \n",
              "4                  2.112857                  0.662084   \n",
              "\n",
              "   0.000000000000000000e+00  \n",
              "0                       1.0  \n",
              "1                       0.0  \n",
              "2                       1.0  \n",
              "3                       1.0  \n",
              "4                       1.0  "
            ],
            "text/html": [
              "\n",
              "  <div id=\"df-d3421f11-b1ef-4f53-85f7-cf0c7c6b8183\" class=\"colab-df-container\">\n",
              "    <div>\n",
              "<style scoped>\n",
              "    .dataframe tbody tr th:only-of-type {\n",
              "        vertical-align: middle;\n",
              "    }\n",
              "\n",
              "    .dataframe tbody tr th {\n",
              "        vertical-align: top;\n",
              "    }\n",
              "\n",
              "    .dataframe thead th {\n",
              "        text-align: right;\n",
              "    }\n",
              "</style>\n",
              "<table border=\"1\" class=\"dataframe\">\n",
              "  <thead>\n",
              "    <tr style=\"text-align: right;\">\n",
              "      <th></th>\n",
              "      <th>3.159499363321345566e-02</th>\n",
              "      <th>9.869877579082642072e-01</th>\n",
              "      <th>0.000000000000000000e+00</th>\n",
              "    </tr>\n",
              "  </thead>\n",
              "  <tbody>\n",
              "    <tr>\n",
              "      <th>0</th>\n",
              "      <td>2.115098</td>\n",
              "      <td>-0.046244</td>\n",
              "      <td>1.0</td>\n",
              "    </tr>\n",
              "    <tr>\n",
              "      <th>1</th>\n",
              "      <td>0.882490</td>\n",
              "      <td>-0.075756</td>\n",
              "      <td>0.0</td>\n",
              "    </tr>\n",
              "    <tr>\n",
              "      <th>2</th>\n",
              "      <td>-0.055144</td>\n",
              "      <td>-0.037332</td>\n",
              "      <td>1.0</td>\n",
              "    </tr>\n",
              "    <tr>\n",
              "      <th>3</th>\n",
              "      <td>0.829545</td>\n",
              "      <td>-0.539321</td>\n",
              "      <td>1.0</td>\n",
              "    </tr>\n",
              "    <tr>\n",
              "      <th>4</th>\n",
              "      <td>2.112857</td>\n",
              "      <td>0.662084</td>\n",
              "      <td>1.0</td>\n",
              "    </tr>\n",
              "  </tbody>\n",
              "</table>\n",
              "</div>\n",
              "    <div class=\"colab-df-buttons\">\n",
              "\n",
              "  <div class=\"colab-df-container\">\n",
              "    <button class=\"colab-df-convert\" onclick=\"convertToInteractive('df-d3421f11-b1ef-4f53-85f7-cf0c7c6b8183')\"\n",
              "            title=\"Convert this dataframe to an interactive table.\"\n",
              "            style=\"display:none;\">\n",
              "\n",
              "  <svg xmlns=\"http://www.w3.org/2000/svg\" height=\"24px\" viewBox=\"0 -960 960 960\">\n",
              "    <path d=\"M120-120v-720h720v720H120Zm60-500h600v-160H180v160Zm220 220h160v-160H400v160Zm0 220h160v-160H400v160ZM180-400h160v-160H180v160Zm440 0h160v-160H620v160ZM180-180h160v-160H180v160Zm440 0h160v-160H620v160Z\"/>\n",
              "  </svg>\n",
              "    </button>\n",
              "\n",
              "  <style>\n",
              "    .colab-df-container {\n",
              "      display:flex;\n",
              "      gap: 12px;\n",
              "    }\n",
              "\n",
              "    .colab-df-convert {\n",
              "      background-color: #E8F0FE;\n",
              "      border: none;\n",
              "      border-radius: 50%;\n",
              "      cursor: pointer;\n",
              "      display: none;\n",
              "      fill: #1967D2;\n",
              "      height: 32px;\n",
              "      padding: 0 0 0 0;\n",
              "      width: 32px;\n",
              "    }\n",
              "\n",
              "    .colab-df-convert:hover {\n",
              "      background-color: #E2EBFA;\n",
              "      box-shadow: 0px 1px 2px rgba(60, 64, 67, 0.3), 0px 1px 3px 1px rgba(60, 64, 67, 0.15);\n",
              "      fill: #174EA6;\n",
              "    }\n",
              "\n",
              "    .colab-df-buttons div {\n",
              "      margin-bottom: 4px;\n",
              "    }\n",
              "\n",
              "    [theme=dark] .colab-df-convert {\n",
              "      background-color: #3B4455;\n",
              "      fill: #D2E3FC;\n",
              "    }\n",
              "\n",
              "    [theme=dark] .colab-df-convert:hover {\n",
              "      background-color: #434B5C;\n",
              "      box-shadow: 0px 1px 3px 1px rgba(0, 0, 0, 0.15);\n",
              "      filter: drop-shadow(0px 1px 2px rgba(0, 0, 0, 0.3));\n",
              "      fill: #FFFFFF;\n",
              "    }\n",
              "  </style>\n",
              "\n",
              "    <script>\n",
              "      const buttonEl =\n",
              "        document.querySelector('#df-d3421f11-b1ef-4f53-85f7-cf0c7c6b8183 button.colab-df-convert');\n",
              "      buttonEl.style.display =\n",
              "        google.colab.kernel.accessAllowed ? 'block' : 'none';\n",
              "\n",
              "      async function convertToInteractive(key) {\n",
              "        const element = document.querySelector('#df-d3421f11-b1ef-4f53-85f7-cf0c7c6b8183');\n",
              "        const dataTable =\n",
              "          await google.colab.kernel.invokeFunction('convertToInteractive',\n",
              "                                                    [key], {});\n",
              "        if (!dataTable) return;\n",
              "\n",
              "        const docLinkHtml = 'Like what you see? Visit the ' +\n",
              "          '<a target=\"_blank\" href=https://colab.research.google.com/notebooks/data_table.ipynb>data table notebook</a>'\n",
              "          + ' to learn more about interactive tables.';\n",
              "        element.innerHTML = '';\n",
              "        dataTable['output_type'] = 'display_data';\n",
              "        await google.colab.output.renderOutput(dataTable, element);\n",
              "        const docLink = document.createElement('div');\n",
              "        docLink.innerHTML = docLinkHtml;\n",
              "        element.appendChild(docLink);\n",
              "      }\n",
              "    </script>\n",
              "  </div>\n",
              "\n",
              "\n",
              "<div id=\"df-7157d852-e78d-485f-b7a4-9be8c610f0d1\">\n",
              "  <button class=\"colab-df-quickchart\" onclick=\"quickchart('df-7157d852-e78d-485f-b7a4-9be8c610f0d1')\"\n",
              "            title=\"Suggest charts\"\n",
              "            style=\"display:none;\">\n",
              "\n",
              "<svg xmlns=\"http://www.w3.org/2000/svg\" height=\"24px\"viewBox=\"0 0 24 24\"\n",
              "     width=\"24px\">\n",
              "    <g>\n",
              "        <path d=\"M19 3H5c-1.1 0-2 .9-2 2v14c0 1.1.9 2 2 2h14c1.1 0 2-.9 2-2V5c0-1.1-.9-2-2-2zM9 17H7v-7h2v7zm4 0h-2V7h2v10zm4 0h-2v-4h2v4z\"/>\n",
              "    </g>\n",
              "</svg>\n",
              "  </button>\n",
              "\n",
              "<style>\n",
              "  .colab-df-quickchart {\n",
              "      --bg-color: #E8F0FE;\n",
              "      --fill-color: #1967D2;\n",
              "      --hover-bg-color: #E2EBFA;\n",
              "      --hover-fill-color: #174EA6;\n",
              "      --disabled-fill-color: #AAA;\n",
              "      --disabled-bg-color: #DDD;\n",
              "  }\n",
              "\n",
              "  [theme=dark] .colab-df-quickchart {\n",
              "      --bg-color: #3B4455;\n",
              "      --fill-color: #D2E3FC;\n",
              "      --hover-bg-color: #434B5C;\n",
              "      --hover-fill-color: #FFFFFF;\n",
              "      --disabled-bg-color: #3B4455;\n",
              "      --disabled-fill-color: #666;\n",
              "  }\n",
              "\n",
              "  .colab-df-quickchart {\n",
              "    background-color: var(--bg-color);\n",
              "    border: none;\n",
              "    border-radius: 50%;\n",
              "    cursor: pointer;\n",
              "    display: none;\n",
              "    fill: var(--fill-color);\n",
              "    height: 32px;\n",
              "    padding: 0;\n",
              "    width: 32px;\n",
              "  }\n",
              "\n",
              "  .colab-df-quickchart:hover {\n",
              "    background-color: var(--hover-bg-color);\n",
              "    box-shadow: 0 1px 2px rgba(60, 64, 67, 0.3), 0 1px 3px 1px rgba(60, 64, 67, 0.15);\n",
              "    fill: var(--button-hover-fill-color);\n",
              "  }\n",
              "\n",
              "  .colab-df-quickchart-complete:disabled,\n",
              "  .colab-df-quickchart-complete:disabled:hover {\n",
              "    background-color: var(--disabled-bg-color);\n",
              "    fill: var(--disabled-fill-color);\n",
              "    box-shadow: none;\n",
              "  }\n",
              "\n",
              "  .colab-df-spinner {\n",
              "    border: 2px solid var(--fill-color);\n",
              "    border-color: transparent;\n",
              "    border-bottom-color: var(--fill-color);\n",
              "    animation:\n",
              "      spin 1s steps(1) infinite;\n",
              "  }\n",
              "\n",
              "  @keyframes spin {\n",
              "    0% {\n",
              "      border-color: transparent;\n",
              "      border-bottom-color: var(--fill-color);\n",
              "      border-left-color: var(--fill-color);\n",
              "    }\n",
              "    20% {\n",
              "      border-color: transparent;\n",
              "      border-left-color: var(--fill-color);\n",
              "      border-top-color: var(--fill-color);\n",
              "    }\n",
              "    30% {\n",
              "      border-color: transparent;\n",
              "      border-left-color: var(--fill-color);\n",
              "      border-top-color: var(--fill-color);\n",
              "      border-right-color: var(--fill-color);\n",
              "    }\n",
              "    40% {\n",
              "      border-color: transparent;\n",
              "      border-right-color: var(--fill-color);\n",
              "      border-top-color: var(--fill-color);\n",
              "    }\n",
              "    60% {\n",
              "      border-color: transparent;\n",
              "      border-right-color: var(--fill-color);\n",
              "    }\n",
              "    80% {\n",
              "      border-color: transparent;\n",
              "      border-right-color: var(--fill-color);\n",
              "      border-bottom-color: var(--fill-color);\n",
              "    }\n",
              "    90% {\n",
              "      border-color: transparent;\n",
              "      border-bottom-color: var(--fill-color);\n",
              "    }\n",
              "  }\n",
              "</style>\n",
              "\n",
              "  <script>\n",
              "    async function quickchart(key) {\n",
              "      const quickchartButtonEl =\n",
              "        document.querySelector('#' + key + ' button');\n",
              "      quickchartButtonEl.disabled = true;  // To prevent multiple clicks.\n",
              "      quickchartButtonEl.classList.add('colab-df-spinner');\n",
              "      try {\n",
              "        const charts = await google.colab.kernel.invokeFunction(\n",
              "            'suggestCharts', [key], {});\n",
              "      } catch (error) {\n",
              "        console.error('Error during call to suggestCharts:', error);\n",
              "      }\n",
              "      quickchartButtonEl.classList.remove('colab-df-spinner');\n",
              "      quickchartButtonEl.classList.add('colab-df-quickchart-complete');\n",
              "    }\n",
              "    (() => {\n",
              "      let quickchartButtonEl =\n",
              "        document.querySelector('#df-7157d852-e78d-485f-b7a4-9be8c610f0d1 button');\n",
              "      quickchartButtonEl.style.display =\n",
              "        google.colab.kernel.accessAllowed ? 'block' : 'none';\n",
              "    })();\n",
              "  </script>\n",
              "</div>\n",
              "\n",
              "    </div>\n",
              "  </div>\n"
            ],
            "application/vnd.google.colaboratory.intrinsic+json": {
              "type": "dataframe",
              "variable_name": "df",
              "summary": "{\n  \"name\": \"df\",\n  \"rows\": 99,\n  \"fields\": [\n    {\n      \"column\": \"3.159499363321345566e-02\",\n      \"properties\": {\n        \"dtype\": \"number\",\n        \"std\": 0.8943130566096504,\n        \"min\": -1.318500344394381,\n        \"max\": 2.181371683049025,\n        \"num_unique_values\": 99,\n        \"samples\": [\n          0.1273314190904385,\n          0.6417403675063451,\n          0.21862323352500593\n        ],\n        \"semantic_type\": \"\",\n        \"description\": \"\"\n      }\n    },\n    {\n      \"column\": \"9.869877579082642072e-01\",\n      \"properties\": {\n        \"dtype\": \"number\",\n        \"std\": 0.5909086142970597,\n        \"min\": -1.0357020680498332,\n        \"max\": 1.5718993127141032,\n        \"num_unique_values\": 99,\n        \"samples\": [\n          -0.3796548967118949,\n          -0.39369468370639576,\n          -0.6525211867631453\n        ],\n        \"semantic_type\": \"\",\n        \"description\": \"\"\n      }\n    },\n    {\n      \"column\": \"0.000000000000000000e+00\",\n      \"properties\": {\n        \"dtype\": \"number\",\n        \"std\": 0.502518907629606,\n        \"min\": 0.0,\n        \"max\": 1.0,\n        \"num_unique_values\": 2,\n        \"samples\": [\n          0.0,\n          1.0\n        ],\n        \"semantic_type\": \"\",\n        \"description\": \"\"\n      }\n    }\n  ]\n}"
            }
          },
          "metadata": {},
          "execution_count": 8
        }
      ]
    },
    {
      "cell_type": "code",
      "source": [
        "df.columns"
      ],
      "metadata": {
        "colab": {
          "base_uri": "https://localhost:8080/"
        },
        "id": "jzjFDH53nzpW",
        "outputId": "aec7f9dd-bf88-4b35-bb9e-c7d0ad87051b"
      },
      "execution_count": 9,
      "outputs": [
        {
          "output_type": "execute_result",
          "data": {
            "text/plain": [
              "Index(['3.159499363321345566e-02', '9.869877579082642072e-01',\n",
              "       '0.000000000000000000e+00'],\n",
              "      dtype='object')"
            ]
          },
          "metadata": {},
          "execution_count": 9
        }
      ]
    },
    {
      "cell_type": "code",
      "source": [
        "df.columns=['X','Y','class']"
      ],
      "metadata": {
        "id": "mReCPcLvo1tX"
      },
      "execution_count": 10,
      "outputs": []
    },
    {
      "cell_type": "code",
      "source": [
        "df.head()"
      ],
      "metadata": {
        "colab": {
          "base_uri": "https://localhost:8080/",
          "height": 206
        },
        "id": "-sWrEWk8o9GH",
        "outputId": "7548393b-d7a4-44c5-87c3-4fb91400135e"
      },
      "execution_count": 11,
      "outputs": [
        {
          "output_type": "execute_result",
          "data": {
            "text/plain": [
              "          X         Y  class\n",
              "0  2.115098 -0.046244    1.0\n",
              "1  0.882490 -0.075756    0.0\n",
              "2 -0.055144 -0.037332    1.0\n",
              "3  0.829545 -0.539321    1.0\n",
              "4  2.112857  0.662084    1.0"
            ],
            "text/html": [
              "\n",
              "  <div id=\"df-a86e14a7-a0d6-481b-8c6a-cca8e505e555\" class=\"colab-df-container\">\n",
              "    <div>\n",
              "<style scoped>\n",
              "    .dataframe tbody tr th:only-of-type {\n",
              "        vertical-align: middle;\n",
              "    }\n",
              "\n",
              "    .dataframe tbody tr th {\n",
              "        vertical-align: top;\n",
              "    }\n",
              "\n",
              "    .dataframe thead th {\n",
              "        text-align: right;\n",
              "    }\n",
              "</style>\n",
              "<table border=\"1\" class=\"dataframe\">\n",
              "  <thead>\n",
              "    <tr style=\"text-align: right;\">\n",
              "      <th></th>\n",
              "      <th>X</th>\n",
              "      <th>Y</th>\n",
              "      <th>class</th>\n",
              "    </tr>\n",
              "  </thead>\n",
              "  <tbody>\n",
              "    <tr>\n",
              "      <th>0</th>\n",
              "      <td>2.115098</td>\n",
              "      <td>-0.046244</td>\n",
              "      <td>1.0</td>\n",
              "    </tr>\n",
              "    <tr>\n",
              "      <th>1</th>\n",
              "      <td>0.882490</td>\n",
              "      <td>-0.075756</td>\n",
              "      <td>0.0</td>\n",
              "    </tr>\n",
              "    <tr>\n",
              "      <th>2</th>\n",
              "      <td>-0.055144</td>\n",
              "      <td>-0.037332</td>\n",
              "      <td>1.0</td>\n",
              "    </tr>\n",
              "    <tr>\n",
              "      <th>3</th>\n",
              "      <td>0.829545</td>\n",
              "      <td>-0.539321</td>\n",
              "      <td>1.0</td>\n",
              "    </tr>\n",
              "    <tr>\n",
              "      <th>4</th>\n",
              "      <td>2.112857</td>\n",
              "      <td>0.662084</td>\n",
              "      <td>1.0</td>\n",
              "    </tr>\n",
              "  </tbody>\n",
              "</table>\n",
              "</div>\n",
              "    <div class=\"colab-df-buttons\">\n",
              "\n",
              "  <div class=\"colab-df-container\">\n",
              "    <button class=\"colab-df-convert\" onclick=\"convertToInteractive('df-a86e14a7-a0d6-481b-8c6a-cca8e505e555')\"\n",
              "            title=\"Convert this dataframe to an interactive table.\"\n",
              "            style=\"display:none;\">\n",
              "\n",
              "  <svg xmlns=\"http://www.w3.org/2000/svg\" height=\"24px\" viewBox=\"0 -960 960 960\">\n",
              "    <path d=\"M120-120v-720h720v720H120Zm60-500h600v-160H180v160Zm220 220h160v-160H400v160Zm0 220h160v-160H400v160ZM180-400h160v-160H180v160Zm440 0h160v-160H620v160ZM180-180h160v-160H180v160Zm440 0h160v-160H620v160Z\"/>\n",
              "  </svg>\n",
              "    </button>\n",
              "\n",
              "  <style>\n",
              "    .colab-df-container {\n",
              "      display:flex;\n",
              "      gap: 12px;\n",
              "    }\n",
              "\n",
              "    .colab-df-convert {\n",
              "      background-color: #E8F0FE;\n",
              "      border: none;\n",
              "      border-radius: 50%;\n",
              "      cursor: pointer;\n",
              "      display: none;\n",
              "      fill: #1967D2;\n",
              "      height: 32px;\n",
              "      padding: 0 0 0 0;\n",
              "      width: 32px;\n",
              "    }\n",
              "\n",
              "    .colab-df-convert:hover {\n",
              "      background-color: #E2EBFA;\n",
              "      box-shadow: 0px 1px 2px rgba(60, 64, 67, 0.3), 0px 1px 3px 1px rgba(60, 64, 67, 0.15);\n",
              "      fill: #174EA6;\n",
              "    }\n",
              "\n",
              "    .colab-df-buttons div {\n",
              "      margin-bottom: 4px;\n",
              "    }\n",
              "\n",
              "    [theme=dark] .colab-df-convert {\n",
              "      background-color: #3B4455;\n",
              "      fill: #D2E3FC;\n",
              "    }\n",
              "\n",
              "    [theme=dark] .colab-df-convert:hover {\n",
              "      background-color: #434B5C;\n",
              "      box-shadow: 0px 1px 3px 1px rgba(0, 0, 0, 0.15);\n",
              "      filter: drop-shadow(0px 1px 2px rgba(0, 0, 0, 0.3));\n",
              "      fill: #FFFFFF;\n",
              "    }\n",
              "  </style>\n",
              "\n",
              "    <script>\n",
              "      const buttonEl =\n",
              "        document.querySelector('#df-a86e14a7-a0d6-481b-8c6a-cca8e505e555 button.colab-df-convert');\n",
              "      buttonEl.style.display =\n",
              "        google.colab.kernel.accessAllowed ? 'block' : 'none';\n",
              "\n",
              "      async function convertToInteractive(key) {\n",
              "        const element = document.querySelector('#df-a86e14a7-a0d6-481b-8c6a-cca8e505e555');\n",
              "        const dataTable =\n",
              "          await google.colab.kernel.invokeFunction('convertToInteractive',\n",
              "                                                    [key], {});\n",
              "        if (!dataTable) return;\n",
              "\n",
              "        const docLinkHtml = 'Like what you see? Visit the ' +\n",
              "          '<a target=\"_blank\" href=https://colab.research.google.com/notebooks/data_table.ipynb>data table notebook</a>'\n",
              "          + ' to learn more about interactive tables.';\n",
              "        element.innerHTML = '';\n",
              "        dataTable['output_type'] = 'display_data';\n",
              "        await google.colab.output.renderOutput(dataTable, element);\n",
              "        const docLink = document.createElement('div');\n",
              "        docLink.innerHTML = docLinkHtml;\n",
              "        element.appendChild(docLink);\n",
              "      }\n",
              "    </script>\n",
              "  </div>\n",
              "\n",
              "\n",
              "<div id=\"df-3af0dc89-dc5f-4aea-9970-4069f2e3ce7c\">\n",
              "  <button class=\"colab-df-quickchart\" onclick=\"quickchart('df-3af0dc89-dc5f-4aea-9970-4069f2e3ce7c')\"\n",
              "            title=\"Suggest charts\"\n",
              "            style=\"display:none;\">\n",
              "\n",
              "<svg xmlns=\"http://www.w3.org/2000/svg\" height=\"24px\"viewBox=\"0 0 24 24\"\n",
              "     width=\"24px\">\n",
              "    <g>\n",
              "        <path d=\"M19 3H5c-1.1 0-2 .9-2 2v14c0 1.1.9 2 2 2h14c1.1 0 2-.9 2-2V5c0-1.1-.9-2-2-2zM9 17H7v-7h2v7zm4 0h-2V7h2v10zm4 0h-2v-4h2v4z\"/>\n",
              "    </g>\n",
              "</svg>\n",
              "  </button>\n",
              "\n",
              "<style>\n",
              "  .colab-df-quickchart {\n",
              "      --bg-color: #E8F0FE;\n",
              "      --fill-color: #1967D2;\n",
              "      --hover-bg-color: #E2EBFA;\n",
              "      --hover-fill-color: #174EA6;\n",
              "      --disabled-fill-color: #AAA;\n",
              "      --disabled-bg-color: #DDD;\n",
              "  }\n",
              "\n",
              "  [theme=dark] .colab-df-quickchart {\n",
              "      --bg-color: #3B4455;\n",
              "      --fill-color: #D2E3FC;\n",
              "      --hover-bg-color: #434B5C;\n",
              "      --hover-fill-color: #FFFFFF;\n",
              "      --disabled-bg-color: #3B4455;\n",
              "      --disabled-fill-color: #666;\n",
              "  }\n",
              "\n",
              "  .colab-df-quickchart {\n",
              "    background-color: var(--bg-color);\n",
              "    border: none;\n",
              "    border-radius: 50%;\n",
              "    cursor: pointer;\n",
              "    display: none;\n",
              "    fill: var(--fill-color);\n",
              "    height: 32px;\n",
              "    padding: 0;\n",
              "    width: 32px;\n",
              "  }\n",
              "\n",
              "  .colab-df-quickchart:hover {\n",
              "    background-color: var(--hover-bg-color);\n",
              "    box-shadow: 0 1px 2px rgba(60, 64, 67, 0.3), 0 1px 3px 1px rgba(60, 64, 67, 0.15);\n",
              "    fill: var(--button-hover-fill-color);\n",
              "  }\n",
              "\n",
              "  .colab-df-quickchart-complete:disabled,\n",
              "  .colab-df-quickchart-complete:disabled:hover {\n",
              "    background-color: var(--disabled-bg-color);\n",
              "    fill: var(--disabled-fill-color);\n",
              "    box-shadow: none;\n",
              "  }\n",
              "\n",
              "  .colab-df-spinner {\n",
              "    border: 2px solid var(--fill-color);\n",
              "    border-color: transparent;\n",
              "    border-bottom-color: var(--fill-color);\n",
              "    animation:\n",
              "      spin 1s steps(1) infinite;\n",
              "  }\n",
              "\n",
              "  @keyframes spin {\n",
              "    0% {\n",
              "      border-color: transparent;\n",
              "      border-bottom-color: var(--fill-color);\n",
              "      border-left-color: var(--fill-color);\n",
              "    }\n",
              "    20% {\n",
              "      border-color: transparent;\n",
              "      border-left-color: var(--fill-color);\n",
              "      border-top-color: var(--fill-color);\n",
              "    }\n",
              "    30% {\n",
              "      border-color: transparent;\n",
              "      border-left-color: var(--fill-color);\n",
              "      border-top-color: var(--fill-color);\n",
              "      border-right-color: var(--fill-color);\n",
              "    }\n",
              "    40% {\n",
              "      border-color: transparent;\n",
              "      border-right-color: var(--fill-color);\n",
              "      border-top-color: var(--fill-color);\n",
              "    }\n",
              "    60% {\n",
              "      border-color: transparent;\n",
              "      border-right-color: var(--fill-color);\n",
              "    }\n",
              "    80% {\n",
              "      border-color: transparent;\n",
              "      border-right-color: var(--fill-color);\n",
              "      border-bottom-color: var(--fill-color);\n",
              "    }\n",
              "    90% {\n",
              "      border-color: transparent;\n",
              "      border-bottom-color: var(--fill-color);\n",
              "    }\n",
              "  }\n",
              "</style>\n",
              "\n",
              "  <script>\n",
              "    async function quickchart(key) {\n",
              "      const quickchartButtonEl =\n",
              "        document.querySelector('#' + key + ' button');\n",
              "      quickchartButtonEl.disabled = true;  // To prevent multiple clicks.\n",
              "      quickchartButtonEl.classList.add('colab-df-spinner');\n",
              "      try {\n",
              "        const charts = await google.colab.kernel.invokeFunction(\n",
              "            'suggestCharts', [key], {});\n",
              "      } catch (error) {\n",
              "        console.error('Error during call to suggestCharts:', error);\n",
              "      }\n",
              "      quickchartButtonEl.classList.remove('colab-df-spinner');\n",
              "      quickchartButtonEl.classList.add('colab-df-quickchart-complete');\n",
              "    }\n",
              "    (() => {\n",
              "      let quickchartButtonEl =\n",
              "        document.querySelector('#df-3af0dc89-dc5f-4aea-9970-4069f2e3ce7c button');\n",
              "      quickchartButtonEl.style.display =\n",
              "        google.colab.kernel.accessAllowed ? 'block' : 'none';\n",
              "    })();\n",
              "  </script>\n",
              "</div>\n",
              "\n",
              "    </div>\n",
              "  </div>\n"
            ],
            "application/vnd.google.colaboratory.intrinsic+json": {
              "type": "dataframe",
              "variable_name": "df",
              "summary": "{\n  \"name\": \"df\",\n  \"rows\": 99,\n  \"fields\": [\n    {\n      \"column\": \"X\",\n      \"properties\": {\n        \"dtype\": \"number\",\n        \"std\": 0.8943130566096504,\n        \"min\": -1.318500344394381,\n        \"max\": 2.181371683049025,\n        \"num_unique_values\": 99,\n        \"samples\": [\n          0.1273314190904385,\n          0.6417403675063451,\n          0.21862323352500593\n        ],\n        \"semantic_type\": \"\",\n        \"description\": \"\"\n      }\n    },\n    {\n      \"column\": \"Y\",\n      \"properties\": {\n        \"dtype\": \"number\",\n        \"std\": 0.5909086142970597,\n        \"min\": -1.0357020680498332,\n        \"max\": 1.5718993127141032,\n        \"num_unique_values\": 99,\n        \"samples\": [\n          -0.3796548967118949,\n          -0.39369468370639576,\n          -0.6525211867631453\n        ],\n        \"semantic_type\": \"\",\n        \"description\": \"\"\n      }\n    },\n    {\n      \"column\": \"class\",\n      \"properties\": {\n        \"dtype\": \"number\",\n        \"std\": 0.502518907629606,\n        \"min\": 0.0,\n        \"max\": 1.0,\n        \"num_unique_values\": 2,\n        \"samples\": [\n          0.0,\n          1.0\n        ],\n        \"semantic_type\": \"\",\n        \"description\": \"\"\n      }\n    }\n  ]\n}"
            }
          },
          "metadata": {},
          "execution_count": 11
        }
      ]
    },
    {
      "cell_type": "code",
      "source": [
        "plt.scatter(df['X'],df['Y'],c=df['class'])"
      ],
      "metadata": {
        "colab": {
          "base_uri": "https://localhost:8080/",
          "height": 447
        },
        "id": "1eXCG9WNo-q2",
        "outputId": "27cc3320-3f2d-4657-c847-44b6c98002f7"
      },
      "execution_count": 12,
      "outputs": [
        {
          "output_type": "execute_result",
          "data": {
            "text/plain": [
              "<matplotlib.collections.PathCollection at 0x7d379fcbc0a0>"
            ]
          },
          "metadata": {},
          "execution_count": 12
        },
        {
          "output_type": "display_data",
          "data": {
            "text/plain": [
              "<Figure size 640x480 with 1 Axes>"
            ],
            "image/png": "[encoded data removed]"
          },
          "metadata": {}
        }
      ]
    },
    {
      "cell_type": "code",
      "source": [
        "X=df.iloc[:,0:2].values\n",
        "y=df.iloc[:,-1].values"
      ],
      "metadata": {
        "id": "o7QRcGEFpOyG"
      },
      "execution_count": 13,
      "outputs": []
    },
    {
      "cell_type": "code",
      "source": [
        "import tensorflow\n",
        "from tensorflow import keras\n",
        "from keras import Sequential\n",
        "from keras.layers import Dense"
      ],
      "metadata": {
        "id": "Vf6vGhNPpqAk"
      },
      "execution_count": 14,
      "outputs": []
    },
    {
      "cell_type": "markdown",
      "source": [
        "# Xavier\n",
        "# Remember you have to apply Xavier initialization only on **tnah**"
      ],
      "metadata": {
        "id": "mrGzq_N6t9FZ"
      }
    },
    {
      "cell_type": "code",
      "source": [
        "model=Sequential()\n",
        "\n",
        "model.add(Dense(10,activation='tanh',input_dim=2))\n",
        "model.add(Dense(10,activation='tanh'))\n",
        "model.add(Dense(10,activation='tanh'))\n",
        "model.add(Dense(10,activation='tanh'))\n",
        "model.add(Dense(1,activation='sigmoid'))\n",
        "\n",
        "model.summary()"
      ],
      "metadata": {
        "colab": {
          "base_uri": "https://localhost:8080/",
          "height": 344
        },
        "id": "LmN9j17Wp2Bw",
        "outputId": "1b1edc19-f9af-4983-b375-b77add254fb1"
      },
      "execution_count": 28,
      "outputs": [
        {
          "output_type": "stream",
          "name": "stderr",
          "text": [
            "/usr/local/lib/python3.10/dist-packages/keras/src/layers/core/dense.py:87: UserWarning: Do not pass an `input_shape`/`input_dim` argument to a layer. When using Sequential models, prefer using an `Input(shape)` object as the first layer in the model instead.\n",
            "  super().__init__(activity_regularizer=activity_regularizer, **kwargs)\n"
          ]
        },
        {
          "output_type": "display_data",
          "data": {
            "text/plain": [
              "\u001b[1mModel: \"sequential_2\"\u001b[0m\n"
            ],
            "text/html": [
              "<pre style=\"white-space:pre;overflow-x:auto;line-height:normal;font-family:Menlo,'DejaVu Sans Mono',consolas,'Courier New',monospace\"><span style=\"font-weight: bold\">Model: \"sequential_2\"</span>\n",
              "</pre>\n"
            ]
          },
          "metadata": {}
        },
        {
          "output_type": "display_data",
          "data": {
            "text/plain": [
              "┏━━━━━━━━━━━━━━━━━━━━━━━━━━━━━━━━━━━━━━┳━━━━━━━━━━━━━━━━━━━━━━━━━━━━━┳━━━━━━━━━━━━━━━━━┓\n",
              "┃\u001b[1m \u001b[0m\u001b[1mLayer (type)                        \u001b[0m\u001b[1m \u001b[0m┃\u001b[1m \u001b[0m\u001b[1mOutput Shape               \u001b[0m\u001b[1m \u001b[0m┃\u001b[1m \u001b[0m\u001b[1m        Param #\u001b[0m\u001b[1m \u001b[0m┃\n",
              "┡━━━━━━━━━━━━━━━━━━━━━━━━━━━━━━━━━━━━━━╇━━━━━━━━━━━━━━━━━━━━━━━━━━━━━╇━━━━━━━━━━━━━━━━━┩\n",
              "│ dense_10 (\u001b[38;5;33mDense\u001b[0m)                     │ (\u001b[38;5;45mNone\u001b[0m, \u001b[38;5;34m10\u001b[0m)                  │              \u001b[38;5;34m30\u001b[0m │\n",
              "├──────────────────────────────────────┼─────────────────────────────┼─────────────────┤\n",
              "│ dense_11 (\u001b[38;5;33mDense\u001b[0m)                     │ (\u001b[38;5;45mNone\u001b[0m, \u001b[38;5;34m10\u001b[0m)                  │             \u001b[38;5;34m110\u001b[0m │\n",
              "├──────────────────────────────────────┼─────────────────────────────┼─────────────────┤\n",
              "│ dense_12 (\u001b[38;5;33mDense\u001b[0m)                     │ (\u001b[38;5;45mNone\u001b[0m, \u001b[38;5;34m10\u001b[0m)                  │             \u001b[38;5;34m110\u001b[0m │\n",
              "├──────────────────────────────────────┼─────────────────────────────┼─────────────────┤\n",
              "│ dense_13 (\u001b[38;5;33mDense\u001b[0m)                     │ (\u001b[38;5;45mNone\u001b[0m, \u001b[38;5;34m10\u001b[0m)                  │             \u001b[38;5;34m110\u001b[0m │\n",
              "├──────────────────────────────────────┼─────────────────────────────┼─────────────────┤\n",
              "│ dense_14 (\u001b[38;5;33mDense\u001b[0m)                     │ (\u001b[38;5;45mNone\u001b[0m, \u001b[38;5;34m1\u001b[0m)                   │              \u001b[38;5;34m11\u001b[0m │\n",
              "└──────────────────────────────────────┴─────────────────────────────┴─────────────────┘\n"
            ],
            "text/html": [
              "<pre style=\"white-space:pre;overflow-x:auto;line-height:normal;font-family:Menlo,'DejaVu Sans Mono',consolas,'Courier New',monospace\">┏━━━━━━━━━━━━━━━━━━━━━━━━━━━━━━━━━━━━━━┳━━━━━━━━━━━━━━━━━━━━━━━━━━━━━┳━━━━━━━━━━━━━━━━━┓\n",
              "┃<span style=\"font-weight: bold\"> Layer (type)                         </span>┃<span style=\"font-weight: bold\"> Output Shape                </span>┃<span style=\"font-weight: bold\">         Param # </span>┃\n",
              "┡━━━━━━━━━━━━━━━━━━━━━━━━━━━━━━━━━━━━━━╇━━━━━━━━━━━━━━━━━━━━━━━━━━━━━╇━━━━━━━━━━━━━━━━━┩\n",
              "│ dense_10 (<span style=\"color: #0087ff; text-decoration-color: #0087ff\">Dense</span>)                     │ (<span style=\"color: #00d7ff; text-decoration-color: #00d7ff\">None</span>, <span style=\"color: #00af00; text-decoration-color: #00af00\">10</span>)                  │              <span style=\"color: #00af00; text-decoration-color: #00af00\">30</span> │\n",
              "├──────────────────────────────────────┼─────────────────────────────┼─────────────────┤\n",
              "│ dense_11 (<span style=\"color: #0087ff; text-decoration-color: #0087ff\">Dense</span>)                     │ (<span style=\"color: #00d7ff; text-decoration-color: #00d7ff\">None</span>, <span style=\"color: #00af00; text-decoration-color: #00af00\">10</span>)                  │             <span style=\"color: #00af00; text-decoration-color: #00af00\">110</span> │\n",
              "├──────────────────────────────────────┼─────────────────────────────┼─────────────────┤\n",
              "│ dense_12 (<span style=\"color: #0087ff; text-decoration-color: #0087ff\">Dense</span>)                     │ (<span style=\"color: #00d7ff; text-decoration-color: #00d7ff\">None</span>, <span style=\"color: #00af00; text-decoration-color: #00af00\">10</span>)                  │             <span style=\"color: #00af00; text-decoration-color: #00af00\">110</span> │\n",
              "├──────────────────────────────────────┼─────────────────────────────┼─────────────────┤\n",
              "│ dense_13 (<span style=\"color: #0087ff; text-decoration-color: #0087ff\">Dense</span>)                     │ (<span style=\"color: #00d7ff; text-decoration-color: #00d7ff\">None</span>, <span style=\"color: #00af00; text-decoration-color: #00af00\">10</span>)                  │             <span style=\"color: #00af00; text-decoration-color: #00af00\">110</span> │\n",
              "├──────────────────────────────────────┼─────────────────────────────┼─────────────────┤\n",
              "│ dense_14 (<span style=\"color: #0087ff; text-decoration-color: #0087ff\">Dense</span>)                     │ (<span style=\"color: #00d7ff; text-decoration-color: #00d7ff\">None</span>, <span style=\"color: #00af00; text-decoration-color: #00af00\">1</span>)                   │              <span style=\"color: #00af00; text-decoration-color: #00af00\">11</span> │\n",
              "└──────────────────────────────────────┴─────────────────────────────┴─────────────────┘\n",
              "</pre>\n"
            ]
          },
          "metadata": {}
        },
        {
          "output_type": "display_data",
          "data": {
            "text/plain": [
              "\u001b[1m Total params: \u001b[0m\u001b[38;5;34m371\u001b[0m (1.45 KB)\n"
            ],
            "text/html": [
              "<pre style=\"white-space:pre;overflow-x:auto;line-height:normal;font-family:Menlo,'DejaVu Sans Mono',consolas,'Courier New',monospace\"><span style=\"font-weight: bold\"> Total params: </span><span style=\"color: #00af00; text-decoration-color: #00af00\">371</span> (1.45 KB)\n",
              "</pre>\n"
            ]
          },
          "metadata": {}
        },
        {
          "output_type": "display_data",
          "data": {
            "text/plain": [
              "\u001b[1m Trainable params: \u001b[0m\u001b[38;5;34m371\u001b[0m (1.45 KB)\n"
            ],
            "text/html": [
              "<pre style=\"white-space:pre;overflow-x:auto;line-height:normal;font-family:Menlo,'DejaVu Sans Mono',consolas,'Courier New',monospace\"><span style=\"font-weight: bold\"> Trainable params: </span><span style=\"color: #00af00; text-decoration-color: #00af00\">371</span> (1.45 KB)\n",
              "</pre>\n"
            ]
          },
          "metadata": {}
        },
        {
          "output_type": "display_data",
          "data": {
            "text/plain": [
              "\u001b[1m Non-trainable params: \u001b[0m\u001b[38;5;34m0\u001b[0m (0.00 B)\n"
            ],
            "text/html": [
              "<pre style=\"white-space:pre;overflow-x:auto;line-height:normal;font-family:Menlo,'DejaVu Sans Mono',consolas,'Courier New',monospace\"><span style=\"font-weight: bold\"> Non-trainable params: </span><span style=\"color: #00af00; text-decoration-color: #00af00\">0</span> (0.00 B)\n",
              "</pre>\n"
            ]
          },
          "metadata": {}
        }
      ]
    },
    {
      "cell_type": "code",
      "source": [
        "model.get_weights()"
      ],
      "metadata": {
        "colab": {
          "base_uri": "https://localhost:8080/"
        },
        "id": "DRVTBH2oqYvD",
        "outputId": "c88de1ff-c475-4511-d6e9-252dc3a7b888"
      },
      "execution_count": 29,
      "outputs": [
        {
          "output_type": "execute_result",
          "data": {
            "text/plain": [
              "[array([[-0.00715083,  0.0882678 ,  0.4187731 , -0.47587937, -0.62081784,\n",
              "          0.41775805,  0.5265549 , -0.5315346 , -0.5449515 , -0.2408748 ],\n",
              "        [-0.1217975 ,  0.21237862,  0.2981146 , -0.07232398,  0.44533855,\n",
              "         -0.53895265,  0.36768955, -0.25094873,  0.14274985, -0.31765506]],\n",
              "       dtype=float32),\n",
              " array([0., 0., 0., 0., 0., 0., 0., 0., 0., 0.], dtype=float32),\n",
              " array([[ 2.0605832e-01,  1.0004407e-01,  1.2253016e-01,  2.0974350e-01,\n",
              "         -3.7433708e-01, -5.7574093e-02, -2.6918340e-01, -1.9615862e-01,\n",
              "         -1.0942781e-01,  3.6013961e-01],\n",
              "        [-8.2383960e-02,  3.4548944e-01, -1.7593887e-01,  1.2642765e-01,\n",
              "          8.7999880e-02, -3.0845019e-01, -2.4288052e-01,  5.1346576e-01,\n",
              "         -4.0598828e-01,  7.8597426e-02],\n",
              "        [ 1.9799167e-01,  5.0994217e-01,  3.7010056e-01,  3.1198663e-01,\n",
              "         -1.5930206e-01, -4.7817561e-01, -8.6769611e-02, -5.2369022e-01,\n",
              "         -3.3049789e-01,  3.9291382e-04],\n",
              "        [ 3.7664765e-01,  2.7631265e-01,  2.4861199e-01, -1.1842081e-01,\n",
              "         -2.5365826e-01, -5.4894447e-02, -6.8168879e-02, -2.5664806e-02,\n",
              "         -2.4905455e-01, -3.5892686e-01],\n",
              "        [ 3.5256320e-01, -2.4045199e-01,  2.7938867e-01,  1.3012195e-01,\n",
              "          2.8697473e-01,  2.2988880e-01, -2.6098669e-02,  3.6841416e-01,\n",
              "          2.7826744e-01,  3.3828992e-01],\n",
              "        [ 4.4312418e-01, -1.9930005e-03, -8.9663297e-02,  4.5318723e-02,\n",
              "          3.3502519e-02, -2.1767482e-01,  1.9951040e-01, -3.0452019e-01,\n",
              "          2.0684457e-01,  3.3390230e-01],\n",
              "        [ 3.1156367e-01, -9.2149973e-03,  1.3388079e-01, -1.0949844e-01,\n",
              "         -1.3928789e-01,  3.6425549e-01, -1.1387950e-01, -2.1018982e-01,\n",
              "         -6.4325303e-02,  3.7309676e-01],\n",
              "        [ 2.1426922e-01, -2.3514503e-01,  4.1290522e-03, -2.0847082e-02,\n",
              "         -4.1768616e-01, -2.3601854e-01, -2.4884012e-01,  1.3703626e-01,\n",
              "          2.4836218e-01,  4.7483385e-01],\n",
              "        [ 2.3053324e-01, -1.3591325e-01,  2.3977029e-01, -4.8131987e-01,\n",
              "          4.3626624e-01,  3.3805758e-01,  1.3505369e-01,  5.3216314e-01,\n",
              "         -5.5425674e-02, -2.1231565e-01],\n",
              "        [ 4.6127224e-01, -2.1861807e-01,  2.2907209e-01,  1.0464585e-01,\n",
              "         -3.6477327e-02, -4.5078677e-01, -4.2195898e-01, -5.3361499e-01,\n",
              "         -2.9878229e-01,  4.5580029e-02]], dtype=float32),\n",
              " array([0., 0., 0., 0., 0., 0., 0., 0., 0., 0.], dtype=float32),\n",
              " array([[ 0.29842722, -0.53413916, -0.464682  , -0.31859395,  0.2922464 ,\n",
              "          0.5012541 , -0.4190709 , -0.27197406,  0.4388913 ,  0.37673908],\n",
              "        [ 0.10577464, -0.39921784, -0.5451789 ,  0.01187313, -0.46713066,\n",
              "         -0.42544827, -0.20480207, -0.06550819,  0.21154481, -0.08124968],\n",
              "        [-0.05542058,  0.34642237, -0.29525188, -0.42763847,  0.1132279 ,\n",
              "         -0.51465124,  0.10332531,  0.529142  , -0.1503703 ,  0.064192  ],\n",
              "        [ 0.2637627 , -0.44735506, -0.5329358 , -0.15619463, -0.0399431 ,\n",
              "          0.4798547 ,  0.19077438,  0.0784533 ,  0.24610901, -0.48674488],\n",
              "        [ 0.07001293, -0.5254866 , -0.35365963, -0.00542748,  0.07578212,\n",
              "         -0.4316484 ,  0.22412598, -0.31815362, -0.14278057,  0.23243785],\n",
              "        [-0.42503783, -0.5077924 ,  0.3641168 , -0.40612411, -0.20444658,\n",
              "          0.08651185,  0.4628122 ,  0.5315894 , -0.26645452, -0.34408823],\n",
              "        [-0.04284883,  0.18317509,  0.24377817, -0.20207214,  0.36745656,\n",
              "          0.43243456, -0.21287116, -0.0517247 ,  0.27404618,  0.08431315],\n",
              "        [-0.0417071 , -0.07692882,  0.06527114,  0.1243757 ,  0.36761016,\n",
              "          0.21518677, -0.40630037, -0.13100904,  0.5205916 ,  0.2860555 ],\n",
              "        [ 0.50009894,  0.02132541,  0.30937582,  0.49698722,  0.02231002,\n",
              "         -0.08529541,  0.18390232,  0.53272057,  0.19541633,  0.22964275],\n",
              "        [-0.07677904,  0.4611863 , -0.05999321,  0.38205034,  0.06610328,\n",
              "          0.34174484,  0.14374793, -0.51189584, -0.3370731 , -0.108702  ]],\n",
              "       dtype=float32),\n",
              " array([0., 0., 0., 0., 0., 0., 0., 0., 0., 0.], dtype=float32),\n",
              " array([[-0.00294346, -0.42417228,  0.1955818 ,  0.06080365,  0.00114566,\n",
              "         -0.11333236, -0.23048425,  0.3842771 ,  0.2736128 , -0.24796218],\n",
              "        [-0.39759636, -0.12305248, -0.19439727, -0.13353643, -0.2641426 ,\n",
              "          0.5410837 ,  0.53918934,  0.04345006, -0.08622062, -0.514605  ],\n",
              "        [ 0.02152246,  0.17899305, -0.5085678 ,  0.1016832 ,  0.29797184,\n",
              "         -0.08055612,  0.0662955 , -0.23144367, -0.12344202,  0.34223914],\n",
              "        [ 0.21596283,  0.4634124 , -0.42548484, -0.30086714, -0.013179  ,\n",
              "         -0.11853051,  0.4784385 , -0.22753194,  0.49828446,  0.48973906],\n",
              "        [ 0.17038685,  0.29774725, -0.09042996, -0.3677415 , -0.53131837,\n",
              "         -0.08315155,  0.40240145, -0.3892854 ,  0.4110018 ,  0.35505247],\n",
              "        [ 0.13656986, -0.12703723,  0.18905991,  0.4595176 ,  0.05388355,\n",
              "          0.44482386,  0.03662997,  0.12884444, -0.38815087,  0.27390176],\n",
              "        [-0.4866225 , -0.1039187 , -0.12214896, -0.2179932 ,  0.04651791,\n",
              "         -0.02870452, -0.53121257, -0.04153967, -0.21351823,  0.48780072],\n",
              "        [ 0.21167082, -0.3880182 ,  0.07577783, -0.04489106,  0.04335928,\n",
              "         -0.16681254,  0.3442772 , -0.09651208, -0.03113228,  0.2086544 ],\n",
              "        [ 0.20622247,  0.2840373 , -0.04402709, -0.4485537 , -0.3199544 ,\n",
              "          0.2387597 ,  0.0239045 ,  0.49015856,  0.34423542,  0.2616083 ],\n",
              "        [ 0.20055312, -0.2907077 ,  0.164962  ,  0.12176919,  0.10650235,\n",
              "          0.5370437 , -0.22623128,  0.25074983,  0.5210937 ,  0.10484612]],\n",
              "       dtype=float32),\n",
              " array([0., 0., 0., 0., 0., 0., 0., 0., 0., 0.], dtype=float32),\n",
              " array([[ 0.33204824],\n",
              "        [ 0.4609689 ],\n",
              "        [ 0.52648383],\n",
              "        [ 0.4996745 ],\n",
              "        [-0.6915708 ],\n",
              "        [ 0.59119445],\n",
              "        [-0.41472697],\n",
              "        [ 0.5700769 ],\n",
              "        [ 0.2521041 ],\n",
              "        [ 0.09861588]], dtype=float32),\n",
              " array([0.], dtype=float32)]"
            ]
          },
          "metadata": {},
          "execution_count": 29
        }
      ]
    },
    {
      "cell_type": "code",
      "source": [
        "initial_weights = model.get_weights()"
      ],
      "metadata": {
        "id": "BrVbgxKuquil"
      },
      "execution_count": 30,
      "outputs": []
    },
    {
      "cell_type": "code",
      "source": [
        "initial_weights[0] = np.random.randn(2,10)*np.sqrt(1/2)\n",
        "initial_weights[1] = np.zeros(model.get_weights()[1].shape)\n",
        "initial_weights[2] = np.random.randn(10,10)*np.sqrt(1/10)\n",
        "initial_weights[3] = np.zeros(model.get_weights()[3].shape)\n",
        "initial_weights[4] = np.random.randn(10,10)*np.sqrt(1/10)\n",
        "initial_weights[5] = np.zeros(model.get_weights()[5].shape)\n",
        "initial_weights[6] = np.random.randn(10,10)*np.sqrt(1/10)\n",
        "initial_weights[7] = np.zeros(model.get_weights()[7].shape)\n",
        "initial_weights[8] = np.random.randn(10,1)*np.sqrt(1/10)\n",
        "initial_weights[9] = np.zeros(model.get_weights()[9].shape)"
      ],
      "metadata": {
        "id": "nZBz4CfRrB8V"
      },
      "execution_count": 31,
      "outputs": []
    },
    {
      "cell_type": "code",
      "source": [
        "model.set_weights(initial_weights)"
      ],
      "metadata": {
        "id": "apjDTMpvrF2F"
      },
      "execution_count": 32,
      "outputs": []
    },
    {
      "cell_type": "code",
      "source": [
        "model.get_weights()"
      ],
      "metadata": {
        "colab": {
          "base_uri": "https://localhost:8080/"
        },
        "id": "uP_r1bj7sJIU",
        "outputId": "dab647a3-e663-48aa-f998-fc75b9c0c7e7"
      },
      "execution_count": 33,
      "outputs": [
        {
          "output_type": "execute_result",
          "data": {
            "text/plain": [
              "[array([[-0.07103076, -0.8303272 , -0.86350083,  0.20074663, -0.5095788 ,\n",
              "          0.10809764, -0.09215812,  0.09207705,  0.5411802 ,  0.44763577],\n",
              "        [-0.12416829, -0.49851158,  0.06778758, -0.37462834, -0.8861242 ,\n",
              "         -0.00520722, -0.19866599, -1.7640009 , -0.49744776, -0.8548839 ]],\n",
              "       dtype=float32),\n",
              " array([0., 0., 0., 0., 0., 0., 0., 0., 0., 0.], dtype=float32),\n",
              " array([[-0.39793077,  0.00943021,  0.2500902 ,  0.05930926,  0.38606992,\n",
              "         -0.16096145,  0.21673952,  0.6048053 , -0.37023202, -0.13535543],\n",
              "        [ 0.6117923 ,  0.14444076,  0.41611654,  0.0431786 , -0.22668827,\n",
              "          0.03894372,  0.118298  ,  0.18469338,  0.01815204,  0.1828094 ],\n",
              "        [ 0.11048508, -0.2319235 , -0.30677626, -0.18448359,  0.39796406,\n",
              "         -0.10172822,  0.06448463, -0.06934179,  0.29984382,  0.6040715 ],\n",
              "        [ 0.15891843,  0.42012522,  0.13685901,  0.37967265,  0.31432897,\n",
              "         -0.1178062 ,  0.02589144,  0.18759218, -0.5954723 ,  0.19235162],\n",
              "        [ 0.26424974,  0.23450272, -0.2619447 , -0.13043486, -0.0287463 ,\n",
              "         -0.21937788, -0.31291252, -0.12559782, -0.34206882,  0.5095172 ],\n",
              "        [ 0.06417459, -0.15954529,  0.5666067 , -0.2508966 ,  0.02852375,\n",
              "          0.2880198 ,  0.62904423,  0.02228202,  0.538852  ,  0.33423868],\n",
              "        [ 0.06923144,  0.21816695, -0.18427156, -0.804817  , -0.11342828,\n",
              "          0.15790081, -0.1245085 ,  0.09147412, -0.11626279,  0.01575535],\n",
              "        [-0.0147405 ,  0.2481399 , -0.15586744, -0.349209  ,  0.20678772,\n",
              "         -0.3995616 ,  0.03212167, -0.48701856,  0.2042564 , -0.18359543],\n",
              "        [ 0.23762216,  0.24009147,  0.4466756 , -0.35663408, -0.33572972,\n",
              "         -0.23698811, -0.00967778,  0.25523904,  0.30687812,  0.2323057 ],\n",
              "        [ 0.51922053, -0.67177755, -0.2956086 , -0.60095143,  0.02234365,\n",
              "          0.1542925 , -0.2298376 ,  0.03895873, -0.09150759, -0.11607726]],\n",
              "       dtype=float32),\n",
              " array([0., 0., 0., 0., 0., 0., 0., 0., 0., 0.], dtype=float32),\n",
              " array([[-0.17697306, -0.06371449, -0.0702369 ,  0.14633319,  0.3397429 ,\n",
              "         -0.5891331 ,  0.491088  , -0.03520902,  0.04113478,  0.45470646],\n",
              "        [ 0.61533827,  0.13984722,  0.15771528,  0.11412068, -0.42894933,\n",
              "          0.18389173,  0.27363324, -0.04967269,  0.5894561 ,  0.04850744],\n",
              "        [ 0.2623657 , -0.03068755, -0.2774011 ,  0.07711073,  0.24615443,\n",
              "          0.4719381 , -0.04091544, -0.08159396, -0.49134168,  0.22010326],\n",
              "        [-0.2087268 ,  0.4383808 , -0.07160096, -0.3488951 ,  0.36989102,\n",
              "         -0.4947325 ,  0.61710256,  0.25290275,  0.14503315, -0.7444507 ],\n",
              "        [ 0.83494407,  0.31566435,  0.86231107, -0.05814251,  0.1319213 ,\n",
              "          0.12592636,  0.4645224 , -0.11475328,  0.14002141, -0.22501841],\n",
              "        [-0.45020273, -0.22233598,  0.38228175, -0.04572508, -0.08747058,\n",
              "          0.15228027, -0.1810763 , -0.02310028, -0.388531  , -0.15034638],\n",
              "        [ 0.1878355 ,  0.88323367,  0.3939443 , -0.03744873,  0.56440306,\n",
              "          0.08455267, -0.17568071, -0.03946047,  0.02618942, -0.11252223],\n",
              "        [ 0.15214436,  0.07754587, -0.2806289 , -0.2610936 , -0.39458102,\n",
              "         -0.1966627 , -0.1049529 ,  0.28947544,  0.43647343, -0.118198  ],\n",
              "        [-0.24854027, -0.6321325 , -0.31849155, -0.5778971 , -0.23631577,\n",
              "          0.41560072, -0.6293426 , -0.22934082, -0.05780089,  0.00901929],\n",
              "        [ 0.49247986, -0.34259513, -0.4518929 ,  0.00646085, -0.1352987 ,\n",
              "         -0.33369914, -0.5830514 ,  0.2934846 ,  0.01210937, -0.3112546 ]],\n",
              "       dtype=float32),\n",
              " array([0., 0., 0., 0., 0., 0., 0., 0., 0., 0.], dtype=float32),\n",
              " array([[ 0.6388944 ,  0.23223186, -0.3896932 , -0.6612935 , -0.38968346,\n",
              "          0.18494183, -0.20402741,  0.14416175,  0.06535331,  0.24634628],\n",
              "        [-0.0242087 , -0.2255786 ,  0.26076818,  0.39890575, -0.4689192 ,\n",
              "         -0.15348127, -0.13095729,  0.39077798, -0.38543525, -0.0534236 ],\n",
              "        [ 0.25742438, -0.4122554 , -0.43554655,  0.23322798, -0.31204724,\n",
              "          0.42403692, -0.34982058,  0.1336399 ,  0.3767119 ,  0.09157753],\n",
              "        [-0.1650596 ,  0.04268572, -0.24682231, -1.0382271 ,  0.21970317,\n",
              "         -0.36290875, -0.7736954 , -0.31297916, -0.00655465, -0.34896323],\n",
              "        [-0.04958001,  0.00327224, -0.4505121 , -0.14468305,  0.27693427,\n",
              "         -0.13106012, -0.1679788 ,  0.18412593, -0.25423518,  0.21521477],\n",
              "        [-0.32799637, -0.26151648, -0.11895157, -0.67434984, -0.19385388,\n",
              "         -0.6170457 ,  0.29667026,  0.54062545,  0.07858509,  0.18414293],\n",
              "        [-0.16498624,  0.20129019, -0.25878963, -0.3989349 , -0.12436251,\n",
              "         -0.04220058,  0.12467445,  0.03577056, -0.12731212,  0.0727442 ],\n",
              "        [-0.04635741,  0.28778002,  0.15715858,  0.30028895, -0.6617622 ,\n",
              "          0.13742177, -0.17190284, -0.26649   ,  0.05209519,  0.3968695 ],\n",
              "        [-0.3257183 , -0.30432114, -0.5090641 , -0.1189876 , -0.1931908 ,\n",
              "          0.02509486,  0.2076946 , -0.10234337,  0.2549363 ,  0.29845348],\n",
              "        [-0.07954665,  0.10641795, -0.13235506,  0.18663505,  0.16507344,\n",
              "          0.41197118, -0.42769936, -0.04064644, -0.12561621,  0.10136434]],\n",
              "       dtype=float32),\n",
              " array([0., 0., 0., 0., 0., 0., 0., 0., 0., 0.], dtype=float32),\n",
              " array([[ 0.8216411 ],\n",
              "        [ 0.06725656],\n",
              "        [ 0.13367164],\n",
              "        [-0.37288508],\n",
              "        [-0.00088347],\n",
              "        [-0.19576284],\n",
              "        [ 0.69308746],\n",
              "        [ 0.31781915],\n",
              "        [ 0.22267441],\n",
              "        [-0.37355575]], dtype=float32),\n",
              " array([0.], dtype=float32)]"
            ]
          },
          "metadata": {},
          "execution_count": 33
        }
      ]
    },
    {
      "cell_type": "code",
      "source": [
        "model.compile(loss='binary_crossentropy',optimizer='adam',metrics=['accuracy'])"
      ],
      "metadata": {
        "id": "540ijc08sLlE"
      },
      "execution_count": 34,
      "outputs": []
    },
    {
      "cell_type": "code",
      "source": [
        "hittory=model.fit(X,y,epochs=100,validation_split=0.2)"
      ],
      "metadata": {
        "colab": {
          "base_uri": "https://localhost:8080/"
        },
        "id": "l1jjfO72slCS",
        "outputId": "f0df0403-76e4-4e59-9d95-8c1761430e6d"
      },
      "execution_count": 35,
      "outputs": [
        {
          "output_type": "stream",
          "name": "stdout",
          "text": [
            "Epoch 1/100\n",
            "\u001b[1m3/3\u001b[0m \u001b[32m━━━━━━━━━━━━━━━━━━━━\u001b[0m\u001b[37m\u001b[0m \u001b[1m4s\u001b[0m 140ms/step - accuracy: 0.2004 - loss: 0.7440 - val_accuracy: 0.1500 - val_loss: 0.7308\n",
            "Epoch 2/100\n",
            "\u001b[1m3/3\u001b[0m \u001b[32m━━━━━━━━━━━━━━━━━━━━\u001b[0m\u001b[37m\u001b[0m \u001b[1m0s\u001b[0m 22ms/step - accuracy: 0.1848 - loss: 0.7254 - val_accuracy: 0.3500 - val_loss: 0.7095\n",
            "Epoch 3/100\n",
            "\u001b[1m3/3\u001b[0m \u001b[32m━━━━━━━━━━━━━━━━━━━━\u001b[0m\u001b[37m\u001b[0m \u001b[1m0s\u001b[0m 32ms/step - accuracy: 0.3013 - loss: 0.7126 - val_accuracy: 0.6000 - val_loss: 0.6886\n",
            "Epoch 4/100\n",
            "\u001b[1m3/3\u001b[0m \u001b[32m━━━━━━━━━━━━━━━━━━━━\u001b[0m\u001b[37m\u001b[0m \u001b[1m0s\u001b[0m 25ms/step - accuracy: 0.5510 - loss: 0.6924 - val_accuracy: 0.7000 - val_loss: 0.6680\n",
            "Epoch 5/100\n",
            "\u001b[1m3/3\u001b[0m \u001b[32m━━━━━━━━━━━━━━━━━━━━\u001b[0m\u001b[37m\u001b[0m \u001b[1m0s\u001b[0m 22ms/step - accuracy: 0.6368 - loss: 0.6761 - val_accuracy: 0.8500 - val_loss: 0.6479\n",
            "Epoch 6/100\n",
            "\u001b[1m3/3\u001b[0m \u001b[32m━━━━━━━━━━━━━━━━━━━━\u001b[0m\u001b[37m\u001b[0m \u001b[1m0s\u001b[0m 18ms/step - accuracy: 0.7367 - loss: 0.6624 - val_accuracy: 0.8500 - val_loss: 0.6283\n",
            "Epoch 7/100\n",
            "\u001b[1m3/3\u001b[0m \u001b[32m━━━━━━━━━━━━━━━━━━━━\u001b[0m\u001b[37m\u001b[0m \u001b[1m0s\u001b[0m 18ms/step - accuracy: 0.8011 - loss: 0.6426 - val_accuracy: 0.9000 - val_loss: 0.6087\n",
            "Epoch 8/100\n",
            "\u001b[1m3/3\u001b[0m \u001b[32m━━━━━━━━━━━━━━━━━━━━\u001b[0m\u001b[37m\u001b[0m \u001b[1m0s\u001b[0m 18ms/step - accuracy: 0.8162 - loss: 0.6307 - val_accuracy: 0.9000 - val_loss: 0.5896\n",
            "Epoch 9/100\n",
            "\u001b[1m3/3\u001b[0m \u001b[32m━━━━━━━━━━━━━━━━━━━━\u001b[0m\u001b[37m\u001b[0m \u001b[1m0s\u001b[0m 21ms/step - accuracy: 0.8655 - loss: 0.6118 - val_accuracy: 0.8500 - val_loss: 0.5703\n",
            "Epoch 10/100\n",
            "\u001b[1m3/3\u001b[0m \u001b[32m━━━━━━━━━━━━━━━━━━━━\u001b[0m\u001b[37m\u001b[0m \u001b[1m0s\u001b[0m 18ms/step - accuracy: 0.8435 - loss: 0.5974 - val_accuracy: 0.8000 - val_loss: 0.5512\n",
            "Epoch 11/100\n",
            "\u001b[1m3/3\u001b[0m \u001b[32m━━━━━━━━━━━━━━━━━━━━\u001b[0m\u001b[37m\u001b[0m \u001b[1m0s\u001b[0m 21ms/step - accuracy: 0.8044 - loss: 0.5954 - val_accuracy: 0.8000 - val_loss: 0.5330\n",
            "Epoch 12/100\n",
            "\u001b[1m3/3\u001b[0m \u001b[32m━━━━━━━━━━━━━━━━━━━━\u001b[0m\u001b[37m\u001b[0m \u001b[1m0s\u001b[0m 19ms/step - accuracy: 0.8498 - loss: 0.5719 - val_accuracy: 0.8000 - val_loss: 0.5145\n",
            "Epoch 13/100\n",
            "\u001b[1m3/3\u001b[0m \u001b[32m━━━━━━━━━━━━━━━━━━━━\u001b[0m\u001b[37m\u001b[0m \u001b[1m0s\u001b[0m 19ms/step - accuracy: 0.8733 - loss: 0.5451 - val_accuracy: 0.8000 - val_loss: 0.4962\n",
            "Epoch 14/100\n",
            "\u001b[1m3/3\u001b[0m \u001b[32m━━━━━━━━━━━━━━━━━━━━\u001b[0m\u001b[37m\u001b[0m \u001b[1m0s\u001b[0m 27ms/step - accuracy: 0.8498 - loss: 0.5367 - val_accuracy: 0.8000 - val_loss: 0.4789\n",
            "Epoch 15/100\n",
            "\u001b[1m3/3\u001b[0m \u001b[32m━━━━━━━━━━━━━━━━━━━━\u001b[0m\u001b[37m\u001b[0m \u001b[1m0s\u001b[0m 31ms/step - accuracy: 0.8249 - loss: 0.5453 - val_accuracy: 0.8500 - val_loss: 0.4625\n",
            "Epoch 16/100\n",
            "\u001b[1m3/3\u001b[0m \u001b[32m━━━━━━━━━━━━━━━━━━━━\u001b[0m\u001b[37m\u001b[0m \u001b[1m0s\u001b[0m 21ms/step - accuracy: 0.8718 - loss: 0.5051 - val_accuracy: 0.8500 - val_loss: 0.4458\n",
            "Epoch 17/100\n",
            "\u001b[1m3/3\u001b[0m \u001b[32m━━━━━━━━━━━━━━━━━━━━\u001b[0m\u001b[37m\u001b[0m \u001b[1m0s\u001b[0m 20ms/step - accuracy: 0.8483 - loss: 0.5133 - val_accuracy: 0.8500 - val_loss: 0.4297\n",
            "Epoch 18/100\n",
            "\u001b[1m3/3\u001b[0m \u001b[32m━━━━━━━━━━━━━━━━━━━━\u001b[0m\u001b[37m\u001b[0m \u001b[1m0s\u001b[0m 18ms/step - accuracy: 0.8601 - loss: 0.4867 - val_accuracy: 0.8500 - val_loss: 0.4140\n",
            "Epoch 19/100\n",
            "\u001b[1m3/3\u001b[0m \u001b[32m━━━━━━━━━━━━━━━━━━━━\u001b[0m\u001b[37m\u001b[0m \u001b[1m0s\u001b[0m 18ms/step - accuracy: 0.8562 - loss: 0.4761 - val_accuracy: 0.8500 - val_loss: 0.3993\n",
            "Epoch 20/100\n",
            "\u001b[1m3/3\u001b[0m \u001b[32m━━━━━━━━━━━━━━━━━━━━\u001b[0m\u001b[37m\u001b[0m \u001b[1m0s\u001b[0m 19ms/step - accuracy: 0.8523 - loss: 0.4792 - val_accuracy: 0.8500 - val_loss: 0.3861\n",
            "Epoch 21/100\n",
            "\u001b[1m3/3\u001b[0m \u001b[32m━━━━━━━━━━━━━━━━━━━━\u001b[0m\u001b[37m\u001b[0m \u001b[1m0s\u001b[0m 20ms/step - accuracy: 0.8835 - loss: 0.4309 - val_accuracy: 0.8500 - val_loss: 0.3737\n",
            "Epoch 22/100\n",
            "\u001b[1m3/3\u001b[0m \u001b[32m━━━━━━━━━━━━━━━━━━━━\u001b[0m\u001b[37m\u001b[0m \u001b[1m0s\u001b[0m 19ms/step - accuracy: 0.8796 - loss: 0.4388 - val_accuracy: 0.9000 - val_loss: 0.3626\n",
            "Epoch 23/100\n",
            "\u001b[1m3/3\u001b[0m \u001b[32m━━━━━━━━━━━━━━━━━━━━\u001b[0m\u001b[37m\u001b[0m \u001b[1m0s\u001b[0m 19ms/step - accuracy: 0.8601 - loss: 0.4434 - val_accuracy: 0.9000 - val_loss: 0.3528\n",
            "Epoch 24/100\n",
            "\u001b[1m3/3\u001b[0m \u001b[32m━━━━━━━━━━━━━━━━━━━━\u001b[0m\u001b[37m\u001b[0m \u001b[1m0s\u001b[0m 20ms/step - accuracy: 0.8444 - loss: 0.4379 - val_accuracy: 0.9000 - val_loss: 0.3436\n",
            "Epoch 25/100\n",
            "\u001b[1m3/3\u001b[0m \u001b[32m━━━━━━━━━━━━━━━━━━━━\u001b[0m\u001b[37m\u001b[0m \u001b[1m0s\u001b[0m 20ms/step - accuracy: 0.8483 - loss: 0.4292 - val_accuracy: 0.9000 - val_loss: 0.3352\n",
            "Epoch 26/100\n",
            "\u001b[1m3/3\u001b[0m \u001b[32m━━━━━━━━━━━━━━━━━━━━\u001b[0m\u001b[37m\u001b[0m \u001b[1m0s\u001b[0m 31ms/step - accuracy: 0.8444 - loss: 0.4467 - val_accuracy: 0.9000 - val_loss: 0.3276\n",
            "Epoch 27/100\n",
            "\u001b[1m3/3\u001b[0m \u001b[32m━━━━━━━━━━━━━━━━━━━━\u001b[0m\u001b[37m\u001b[0m \u001b[1m0s\u001b[0m 32ms/step - accuracy: 0.8562 - loss: 0.4198 - val_accuracy: 0.9000 - val_loss: 0.3201\n",
            "Epoch 28/100\n",
            "\u001b[1m3/3\u001b[0m \u001b[32m━━━━━━━━━━━━━━━━━━━━\u001b[0m\u001b[37m\u001b[0m \u001b[1m0s\u001b[0m 18ms/step - accuracy: 0.8444 - loss: 0.4310 - val_accuracy: 0.9000 - val_loss: 0.3136\n",
            "Epoch 29/100\n",
            "\u001b[1m3/3\u001b[0m \u001b[32m━━━━━━━━━━━━━━━━━━━━\u001b[0m\u001b[37m\u001b[0m \u001b[1m0s\u001b[0m 20ms/step - accuracy: 0.8562 - loss: 0.4082 - val_accuracy: 0.9000 - val_loss: 0.3076\n",
            "Epoch 30/100\n",
            "\u001b[1m3/3\u001b[0m \u001b[32m━━━━━━━━━━━━━━━━━━━━\u001b[0m\u001b[37m\u001b[0m \u001b[1m0s\u001b[0m 20ms/step - accuracy: 0.8640 - loss: 0.4033 - val_accuracy: 0.9000 - val_loss: 0.3021\n",
            "Epoch 31/100\n",
            "\u001b[1m3/3\u001b[0m \u001b[32m━━━━━━━━━━━━━━━━━━━━\u001b[0m\u001b[37m\u001b[0m \u001b[1m0s\u001b[0m 18ms/step - accuracy: 0.8679 - loss: 0.4149 - val_accuracy: 0.9000 - val_loss: 0.2977\n",
            "Epoch 32/100\n",
            "\u001b[1m3/3\u001b[0m \u001b[32m━━━━━━━━━━━━━━━━━━━━\u001b[0m\u001b[37m\u001b[0m \u001b[1m0s\u001b[0m 17ms/step - accuracy: 0.8523 - loss: 0.4053 - val_accuracy: 0.9000 - val_loss: 0.2940\n",
            "Epoch 33/100\n",
            "\u001b[1m3/3\u001b[0m \u001b[32m━━━━━━━━━━━━━━━━━━━━\u001b[0m\u001b[37m\u001b[0m \u001b[1m0s\u001b[0m 18ms/step - accuracy: 0.8718 - loss: 0.3956 - val_accuracy: 0.9000 - val_loss: 0.2905\n",
            "Epoch 34/100\n",
            "\u001b[1m3/3\u001b[0m \u001b[32m━━━━━━━━━━━━━━━━━━━━\u001b[0m\u001b[37m\u001b[0m \u001b[1m0s\u001b[0m 19ms/step - accuracy: 0.8679 - loss: 0.4077 - val_accuracy: 0.9000 - val_loss: 0.2877\n",
            "Epoch 35/100\n",
            "\u001b[1m3/3\u001b[0m \u001b[32m━━━━━━━━━━━━━━━━━━━━\u001b[0m\u001b[37m\u001b[0m \u001b[1m0s\u001b[0m 18ms/step - accuracy: 0.8483 - loss: 0.4210 - val_accuracy: 0.9000 - val_loss: 0.2854\n",
            "Epoch 36/100\n",
            "\u001b[1m3/3\u001b[0m \u001b[32m━━━━━━━━━━━━━━━━━━━━\u001b[0m\u001b[37m\u001b[0m \u001b[1m0s\u001b[0m 18ms/step - accuracy: 0.8640 - loss: 0.3876 - val_accuracy: 0.9000 - val_loss: 0.2826\n",
            "Epoch 37/100\n",
            "\u001b[1m3/3\u001b[0m \u001b[32m━━━━━━━━━━━━━━━━━━━━\u001b[0m\u001b[37m\u001b[0m \u001b[1m0s\u001b[0m 27ms/step - accuracy: 0.8576 - loss: 0.3892 - val_accuracy: 0.9000 - val_loss: 0.2807\n",
            "Epoch 38/100\n",
            "\u001b[1m3/3\u001b[0m \u001b[32m━━━━━━━━━━━━━━━━━━━━\u001b[0m\u001b[37m\u001b[0m \u001b[1m0s\u001b[0m 29ms/step - accuracy: 0.8796 - loss: 0.3515 - val_accuracy: 0.9000 - val_loss: 0.2790\n",
            "Epoch 39/100\n",
            "\u001b[1m3/3\u001b[0m \u001b[32m━━━━━━━━━━━━━━━━━━━━\u001b[0m\u001b[37m\u001b[0m \u001b[1m0s\u001b[0m 23ms/step - accuracy: 0.8616 - loss: 0.3689 - val_accuracy: 0.9000 - val_loss: 0.2779\n",
            "Epoch 40/100\n",
            "\u001b[1m3/3\u001b[0m \u001b[32m━━━━━━━━━━━━━━━━━━━━\u001b[0m\u001b[37m\u001b[0m \u001b[1m0s\u001b[0m 19ms/step - accuracy: 0.8913 - loss: 0.3400 - val_accuracy: 0.9000 - val_loss: 0.2773\n",
            "Epoch 41/100\n",
            "\u001b[1m3/3\u001b[0m \u001b[32m━━━━━━━━━━━━━━━━━━━━\u001b[0m\u001b[37m\u001b[0m \u001b[1m0s\u001b[0m 19ms/step - accuracy: 0.8366 - loss: 0.4266 - val_accuracy: 0.9000 - val_loss: 0.2778\n",
            "Epoch 42/100\n",
            "\u001b[1m3/3\u001b[0m \u001b[32m━━━━━━━━━━━━━━━━━━━━\u001b[0m\u001b[37m\u001b[0m \u001b[1m0s\u001b[0m 18ms/step - accuracy: 0.8523 - loss: 0.4049 - val_accuracy: 0.9000 - val_loss: 0.2777\n",
            "Epoch 43/100\n",
            "\u001b[1m3/3\u001b[0m \u001b[32m━━━━━━━━━━━━━━━━━━━━\u001b[0m\u001b[37m\u001b[0m \u001b[1m0s\u001b[0m 18ms/step - accuracy: 0.8913 - loss: 0.3435 - val_accuracy: 0.9000 - val_loss: 0.2768\n",
            "Epoch 44/100\n",
            "\u001b[1m3/3\u001b[0m \u001b[32m━━━━━━━━━━━━━━━━━━━━\u001b[0m\u001b[37m\u001b[0m \u001b[1m0s\u001b[0m 19ms/step - accuracy: 0.8601 - loss: 0.3895 - val_accuracy: 0.9000 - val_loss: 0.2756\n",
            "Epoch 45/100\n",
            "\u001b[1m3/3\u001b[0m \u001b[32m━━━━━━━━━━━━━━━━━━━━\u001b[0m\u001b[37m\u001b[0m \u001b[1m0s\u001b[0m 19ms/step - accuracy: 0.8718 - loss: 0.3776 - val_accuracy: 0.9000 - val_loss: 0.2746\n",
            "Epoch 46/100\n",
            "\u001b[1m3/3\u001b[0m \u001b[32m━━━━━━━━━━━━━━━━━━━━\u001b[0m\u001b[37m\u001b[0m \u001b[1m0s\u001b[0m 18ms/step - accuracy: 0.8718 - loss: 0.3696 - val_accuracy: 0.9000 - val_loss: 0.2738\n",
            "Epoch 47/100\n",
            "\u001b[1m3/3\u001b[0m \u001b[32m━━━━━━━━━━━━━━━━━━━━\u001b[0m\u001b[37m\u001b[0m \u001b[1m0s\u001b[0m 22ms/step - accuracy: 0.8601 - loss: 0.3903 - val_accuracy: 0.9000 - val_loss: 0.2734\n",
            "Epoch 48/100\n",
            "\u001b[1m3/3\u001b[0m \u001b[32m━━━━━━━━━━━━━━━━━━━━\u001b[0m\u001b[37m\u001b[0m \u001b[1m0s\u001b[0m 18ms/step - accuracy: 0.8718 - loss: 0.3648 - val_accuracy: 0.9000 - val_loss: 0.2730\n",
            "Epoch 49/100\n",
            "\u001b[1m3/3\u001b[0m \u001b[32m━━━━━━━━━━━━━━━━━━━━\u001b[0m\u001b[37m\u001b[0m \u001b[1m0s\u001b[0m 25ms/step - accuracy: 0.8694 - loss: 0.3594 - val_accuracy: 0.8500 - val_loss: 0.2726\n",
            "Epoch 50/100\n",
            "\u001b[1m3/3\u001b[0m \u001b[32m━━━━━━━━━━━━━━━━━━━━\u001b[0m\u001b[37m\u001b[0m \u001b[1m0s\u001b[0m 17ms/step - accuracy: 0.8459 - loss: 0.3803 - val_accuracy: 0.8500 - val_loss: 0.2727\n",
            "Epoch 51/100\n",
            "\u001b[1m3/3\u001b[0m \u001b[32m━━━━━━━━━━━━━━━━━━━━\u001b[0m\u001b[37m\u001b[0m \u001b[1m0s\u001b[0m 19ms/step - accuracy: 0.8498 - loss: 0.4013 - val_accuracy: 0.8500 - val_loss: 0.2726\n",
            "Epoch 52/100\n",
            "\u001b[1m3/3\u001b[0m \u001b[32m━━━━━━━━━━━━━━━━━━━━\u001b[0m\u001b[37m\u001b[0m \u001b[1m0s\u001b[0m 17ms/step - accuracy: 0.8616 - loss: 0.3943 - val_accuracy: 0.8500 - val_loss: 0.2727\n",
            "Epoch 53/100\n",
            "\u001b[1m3/3\u001b[0m \u001b[32m━━━━━━━━━━━━━━━━━━━━\u001b[0m\u001b[37m\u001b[0m \u001b[1m0s\u001b[0m 18ms/step - accuracy: 0.8498 - loss: 0.4012 - val_accuracy: 0.8500 - val_loss: 0.2730\n",
            "Epoch 54/100\n",
            "\u001b[1m3/3\u001b[0m \u001b[32m━━━━━━━━━━━━━━━━━━━━\u001b[0m\u001b[37m\u001b[0m \u001b[1m0s\u001b[0m 18ms/step - accuracy: 0.8498 - loss: 0.3715 - val_accuracy: 0.8500 - val_loss: 0.2735\n",
            "Epoch 55/100\n",
            "\u001b[1m3/3\u001b[0m \u001b[32m━━━━━━━━━━━━━━━━━━━━\u001b[0m\u001b[37m\u001b[0m \u001b[1m0s\u001b[0m 19ms/step - accuracy: 0.8303 - loss: 0.4063 - val_accuracy: 0.8500 - val_loss: 0.2743\n",
            "Epoch 56/100\n",
            "\u001b[1m3/3\u001b[0m \u001b[32m━━━━━━━━━━━━━━━━━━━━\u001b[0m\u001b[37m\u001b[0m \u001b[1m0s\u001b[0m 21ms/step - accuracy: 0.8459 - loss: 0.3881 - val_accuracy: 0.8500 - val_loss: 0.2745\n",
            "Epoch 57/100\n",
            "\u001b[1m3/3\u001b[0m \u001b[32m━━━━━━━━━━━━━━━━━━━━\u001b[0m\u001b[37m\u001b[0m \u001b[1m0s\u001b[0m 20ms/step - accuracy: 0.8757 - loss: 0.3342 - val_accuracy: 0.9000 - val_loss: 0.2742\n",
            "Epoch 58/100\n",
            "\u001b[1m3/3\u001b[0m \u001b[32m━━━━━━━━━━━━━━━━━━━━\u001b[0m\u001b[37m\u001b[0m \u001b[1m0s\u001b[0m 29ms/step - accuracy: 0.8757 - loss: 0.3667 - val_accuracy: 0.9000 - val_loss: 0.2751\n",
            "Epoch 59/100\n",
            "\u001b[1m3/3\u001b[0m \u001b[32m━━━━━━━━━━━━━━━━━━━━\u001b[0m\u001b[37m\u001b[0m \u001b[1m0s\u001b[0m 19ms/step - accuracy: 0.8366 - loss: 0.4180 - val_accuracy: 0.9000 - val_loss: 0.2758\n",
            "Epoch 60/100\n",
            "\u001b[1m3/3\u001b[0m \u001b[32m━━━━━━━━━━━━━━━━━━━━\u001b[0m\u001b[37m\u001b[0m \u001b[1m0s\u001b[0m 18ms/step - accuracy: 0.8679 - loss: 0.3769 - val_accuracy: 0.9000 - val_loss: 0.2755\n",
            "Epoch 61/100\n",
            "\u001b[1m3/3\u001b[0m \u001b[32m━━━━━━━━━━━━━━━━━━━━\u001b[0m\u001b[37m\u001b[0m \u001b[1m0s\u001b[0m 27ms/step - accuracy: 0.8679 - loss: 0.3773 - val_accuracy: 0.9000 - val_loss: 0.2749\n",
            "Epoch 62/100\n",
            "\u001b[1m3/3\u001b[0m \u001b[32m━━━━━━━━━━━━━━━━━━━━\u001b[0m\u001b[37m\u001b[0m \u001b[1m0s\u001b[0m 19ms/step - accuracy: 0.8523 - loss: 0.4128 - val_accuracy: 0.9000 - val_loss: 0.2742\n",
            "Epoch 63/100\n",
            "\u001b[1m3/3\u001b[0m \u001b[32m━━━━━━━━━━━━━━━━━━━━\u001b[0m\u001b[37m\u001b[0m \u001b[1m0s\u001b[0m 29ms/step - accuracy: 0.8366 - loss: 0.4129 - val_accuracy: 0.8500 - val_loss: 0.2735\n",
            "Epoch 64/100\n",
            "\u001b[1m3/3\u001b[0m \u001b[32m━━━━━━━━━━━━━━━━━━━━\u001b[0m\u001b[37m\u001b[0m \u001b[1m0s\u001b[0m 21ms/step - accuracy: 0.8420 - loss: 0.3818 - val_accuracy: 0.8500 - val_loss: 0.2729\n",
            "Epoch 65/100\n",
            "\u001b[1m3/3\u001b[0m \u001b[32m━━━━━━━━━━━━━━━━━━━━\u001b[0m\u001b[37m\u001b[0m \u001b[1m0s\u001b[0m 20ms/step - accuracy: 0.8264 - loss: 0.4032 - val_accuracy: 0.8500 - val_loss: 0.2723\n",
            "Epoch 66/100\n",
            "\u001b[1m3/3\u001b[0m \u001b[32m━━━━━━━━━━━━━━━━━━━━\u001b[0m\u001b[37m\u001b[0m \u001b[1m0s\u001b[0m 18ms/step - accuracy: 0.8694 - loss: 0.3577 - val_accuracy: 0.8500 - val_loss: 0.2716\n",
            "Epoch 67/100\n",
            "\u001b[1m3/3\u001b[0m \u001b[32m━━━━━━━━━━━━━━━━━━━━\u001b[0m\u001b[37m\u001b[0m \u001b[1m0s\u001b[0m 43ms/step - accuracy: 0.8616 - loss: 0.3503 - val_accuracy: 0.8500 - val_loss: 0.2714\n",
            "Epoch 68/100\n",
            "\u001b[1m3/3\u001b[0m \u001b[32m━━━━━━━━━━━━━━━━━━━━\u001b[0m\u001b[37m\u001b[0m \u001b[1m0s\u001b[0m 35ms/step - accuracy: 0.8498 - loss: 0.3919 - val_accuracy: 0.8500 - val_loss: 0.2716\n",
            "Epoch 69/100\n",
            "\u001b[1m3/3\u001b[0m \u001b[32m━━━━━━━━━━━━━━━━━━━━\u001b[0m\u001b[37m\u001b[0m \u001b[1m0s\u001b[0m 28ms/step - accuracy: 0.8264 - loss: 0.4210 - val_accuracy: 0.8500 - val_loss: 0.2714\n",
            "Epoch 70/100\n",
            "\u001b[1m3/3\u001b[0m \u001b[32m━━━━━━━━━━━━━━━━━━━━\u001b[0m\u001b[37m\u001b[0m \u001b[1m0s\u001b[0m 32ms/step - accuracy: 0.8381 - loss: 0.3811 - val_accuracy: 0.9000 - val_loss: 0.2705\n",
            "Epoch 71/100\n",
            "\u001b[1m3/3\u001b[0m \u001b[32m━━━━━━━━━━━━━━━━━━━━\u001b[0m\u001b[37m\u001b[0m \u001b[1m0s\u001b[0m 35ms/step - accuracy: 0.8459 - loss: 0.3999 - val_accuracy: 0.8500 - val_loss: 0.2695\n",
            "Epoch 72/100\n",
            "\u001b[1m3/3\u001b[0m \u001b[32m━━━━━━━━━━━━━━━━━━━━\u001b[0m\u001b[37m\u001b[0m \u001b[1m0s\u001b[0m 34ms/step - accuracy: 0.8655 - loss: 0.3442 - val_accuracy: 0.8500 - val_loss: 0.2686\n",
            "Epoch 73/100\n",
            "\u001b[1m3/3\u001b[0m \u001b[32m━━━━━━━━━━━━━━━━━━━━\u001b[0m\u001b[37m\u001b[0m \u001b[1m0s\u001b[0m 38ms/step - accuracy: 0.8537 - loss: 0.3717 - val_accuracy: 0.8500 - val_loss: 0.2681\n",
            "Epoch 74/100\n",
            "\u001b[1m3/3\u001b[0m \u001b[32m━━━━━━━━━━━━━━━━━━━━\u001b[0m\u001b[37m\u001b[0m \u001b[1m0s\u001b[0m 35ms/step - accuracy: 0.8733 - loss: 0.3592 - val_accuracy: 0.9000 - val_loss: 0.2686\n",
            "Epoch 75/100\n",
            "\u001b[1m3/3\u001b[0m \u001b[32m━━━━━━━━━━━━━━━━━━━━\u001b[0m\u001b[37m\u001b[0m \u001b[1m0s\u001b[0m 24ms/step - accuracy: 0.8655 - loss: 0.3708 - val_accuracy: 0.9000 - val_loss: 0.2690\n",
            "Epoch 76/100\n",
            "\u001b[1m3/3\u001b[0m \u001b[32m━━━━━━━━━━━━━━━━━━━━\u001b[0m\u001b[37m\u001b[0m \u001b[1m0s\u001b[0m 31ms/step - accuracy: 0.8537 - loss: 0.3745 - val_accuracy: 0.9000 - val_loss: 0.2696\n",
            "Epoch 77/100\n",
            "\u001b[1m3/3\u001b[0m \u001b[32m━━━━━━━━━━━━━━━━━━━━\u001b[0m\u001b[37m\u001b[0m \u001b[1m0s\u001b[0m 35ms/step - accuracy: 0.8537 - loss: 0.3688 - val_accuracy: 0.9000 - val_loss: 0.2700\n",
            "Epoch 78/100\n",
            "\u001b[1m3/3\u001b[0m \u001b[32m━━━━━━━━━━━━━━━━━━━━\u001b[0m\u001b[37m\u001b[0m \u001b[1m0s\u001b[0m 25ms/step - accuracy: 0.8850 - loss: 0.3124 - val_accuracy: 0.9000 - val_loss: 0.2702\n",
            "Epoch 79/100\n",
            "\u001b[1m3/3\u001b[0m \u001b[32m━━━━━━━━━━━━━━━━━━━━\u001b[0m\u001b[37m\u001b[0m \u001b[1m0s\u001b[0m 41ms/step - accuracy: 0.8381 - loss: 0.4090 - val_accuracy: 0.9000 - val_loss: 0.2719\n",
            "Epoch 80/100\n",
            "\u001b[1m3/3\u001b[0m \u001b[32m━━━━━━━━━━━━━━━━━━━━\u001b[0m\u001b[37m\u001b[0m \u001b[1m0s\u001b[0m 28ms/step - accuracy: 0.8796 - loss: 0.3564 - val_accuracy: 0.9000 - val_loss: 0.2722\n",
            "Epoch 81/100\n",
            "\u001b[1m3/3\u001b[0m \u001b[32m━━━━━━━━━━━━━━━━━━━━\u001b[0m\u001b[37m\u001b[0m \u001b[1m0s\u001b[0m 36ms/step - accuracy: 0.8679 - loss: 0.3731 - val_accuracy: 0.9000 - val_loss: 0.2729\n",
            "Epoch 82/100\n",
            "\u001b[1m3/3\u001b[0m \u001b[32m━━━━━━━━━━━━━━━━━━━━\u001b[0m\u001b[37m\u001b[0m \u001b[1m0s\u001b[0m 46ms/step - accuracy: 0.8679 - loss: 0.3539 - val_accuracy: 0.9000 - val_loss: 0.2733\n",
            "Epoch 83/100\n",
            "\u001b[1m3/3\u001b[0m \u001b[32m━━━━━━━━━━━━━━━━━━━━\u001b[0m\u001b[37m\u001b[0m \u001b[1m0s\u001b[0m 35ms/step - accuracy: 0.8444 - loss: 0.4022 - val_accuracy: 0.9000 - val_loss: 0.2740\n",
            "Epoch 84/100\n",
            "\u001b[1m3/3\u001b[0m \u001b[32m━━━━━━━━━━━━━━━━━━━━\u001b[0m\u001b[37m\u001b[0m \u001b[1m0s\u001b[0m 32ms/step - accuracy: 0.8640 - loss: 0.3587 - val_accuracy: 0.9000 - val_loss: 0.2737\n",
            "Epoch 85/100\n",
            "\u001b[1m3/3\u001b[0m \u001b[32m━━━━━━━━━━━━━━━━━━━━\u001b[0m\u001b[37m\u001b[0m \u001b[1m0s\u001b[0m 40ms/step - accuracy: 0.8640 - loss: 0.3494 - val_accuracy: 0.9000 - val_loss: 0.2738\n",
            "Epoch 86/100\n",
            "\u001b[1m3/3\u001b[0m \u001b[32m━━━━━━━━━━━━━━━━━━━━\u001b[0m\u001b[37m\u001b[0m \u001b[1m0s\u001b[0m 38ms/step - accuracy: 0.8679 - loss: 0.3689 - val_accuracy: 0.9000 - val_loss: 0.2740\n",
            "Epoch 87/100\n",
            "\u001b[1m3/3\u001b[0m \u001b[32m━━━━━━━━━━━━━━━━━━━━\u001b[0m\u001b[37m\u001b[0m \u001b[1m0s\u001b[0m 37ms/step - accuracy: 0.8171 - loss: 0.4374 - val_accuracy: 0.9000 - val_loss: 0.2744\n",
            "Epoch 88/100\n",
            "\u001b[1m3/3\u001b[0m \u001b[32m━━━━━━━━━━━━━━━━━━━━\u001b[0m\u001b[37m\u001b[0m \u001b[1m0s\u001b[0m 20ms/step - accuracy: 0.8718 - loss: 0.3508 - val_accuracy: 0.9000 - val_loss: 0.2737\n",
            "Epoch 89/100\n",
            "\u001b[1m3/3\u001b[0m \u001b[32m━━━━━━━━━━━━━━━━━━━━\u001b[0m\u001b[37m\u001b[0m \u001b[1m0s\u001b[0m 20ms/step - accuracy: 0.8483 - loss: 0.3931 - val_accuracy: 0.9000 - val_loss: 0.2732\n",
            "Epoch 90/100\n",
            "\u001b[1m3/3\u001b[0m \u001b[32m━━━━━━━━━━━━━━━━━━━━\u001b[0m\u001b[37m\u001b[0m \u001b[1m0s\u001b[0m 22ms/step - accuracy: 0.8444 - loss: 0.3935 - val_accuracy: 0.9000 - val_loss: 0.2721\n",
            "Epoch 91/100\n",
            "\u001b[1m3/3\u001b[0m \u001b[32m━━━━━━━━━━━━━━━━━━━━\u001b[0m\u001b[37m\u001b[0m \u001b[1m0s\u001b[0m 20ms/step - accuracy: 0.8562 - loss: 0.3951 - val_accuracy: 0.9000 - val_loss: 0.2713\n",
            "Epoch 92/100\n",
            "\u001b[1m3/3\u001b[0m \u001b[32m━━━━━━━━━━━━━━━━━━━━\u001b[0m\u001b[37m\u001b[0m \u001b[1m0s\u001b[0m 21ms/step - accuracy: 0.8601 - loss: 0.3734 - val_accuracy: 0.9000 - val_loss: 0.2696\n",
            "Epoch 93/100\n",
            "\u001b[1m3/3\u001b[0m \u001b[32m━━━━━━━━━━━━━━━━━━━━\u001b[0m\u001b[37m\u001b[0m \u001b[1m0s\u001b[0m 32ms/step - accuracy: 0.8835 - loss: 0.3449 - val_accuracy: 0.9000 - val_loss: 0.2671\n",
            "Epoch 94/100\n",
            "\u001b[1m3/3\u001b[0m \u001b[32m━━━━━━━━━━━━━━━━━━━━\u001b[0m\u001b[37m\u001b[0m \u001b[1m0s\u001b[0m 33ms/step - accuracy: 0.8562 - loss: 0.3742 - val_accuracy: 0.9000 - val_loss: 0.2658\n",
            "Epoch 95/100\n",
            "\u001b[1m3/3\u001b[0m \u001b[32m━━━━━━━━━━━━━━━━━━━━\u001b[0m\u001b[37m\u001b[0m \u001b[1m0s\u001b[0m 20ms/step - accuracy: 0.8679 - loss: 0.3681 - val_accuracy: 0.9000 - val_loss: 0.2647\n",
            "Epoch 96/100\n",
            "\u001b[1m3/3\u001b[0m \u001b[32m━━━━━━━━━━━━━━━━━━━━\u001b[0m\u001b[37m\u001b[0m \u001b[1m0s\u001b[0m 18ms/step - accuracy: 0.8523 - loss: 0.3719 - val_accuracy: 0.9000 - val_loss: 0.2643\n",
            "Epoch 97/100\n",
            "\u001b[1m3/3\u001b[0m \u001b[32m━━━━━━━━━━━━━━━━━━━━\u001b[0m\u001b[37m\u001b[0m \u001b[1m0s\u001b[0m 19ms/step - accuracy: 0.8718 - loss: 0.3432 - val_accuracy: 0.9000 - val_loss: 0.2640\n",
            "Epoch 98/100\n",
            "\u001b[1m3/3\u001b[0m \u001b[32m━━━━━━━━━━━━━━━━━━━━\u001b[0m\u001b[37m\u001b[0m \u001b[1m0s\u001b[0m 28ms/step - accuracy: 0.8483 - loss: 0.4023 - val_accuracy: 0.9000 - val_loss: 0.2642\n",
            "Epoch 99/100\n",
            "\u001b[1m3/3\u001b[0m \u001b[32m━━━━━━━━━━━━━━━━━━━━\u001b[0m\u001b[37m\u001b[0m \u001b[1m0s\u001b[0m 34ms/step - accuracy: 0.8562 - loss: 0.3806 - val_accuracy: 0.9000 - val_loss: 0.2630\n",
            "Epoch 100/100\n",
            "\u001b[1m3/3\u001b[0m \u001b[32m━━━━━━━━━━━━━━━━━━━━\u001b[0m\u001b[37m\u001b[0m \u001b[1m0s\u001b[0m 24ms/step - accuracy: 0.8405 - loss: 0.4015 - val_accuracy: 0.9000 - val_loss: 0.2625\n"
          ]
        }
      ]
    },
    {
      "cell_type": "code",
      "source": [
        "model.get_weights()"
      ],
      "metadata": {
        "colab": {
          "base_uri": "https://localhost:8080/"
        },
        "id": "A8FeSaNOsvwx",
        "outputId": "fd5d14d2-7db9-44db-bc37-de7eea93d9e1"
      },
      "execution_count": 36,
      "outputs": [
        {
          "output_type": "execute_result",
          "data": {
            "text/plain": [
              "[array([[-0.08629251, -0.92174935, -0.9094866 ,  0.11072287, -0.566195  ,\n",
              "          0.16785234,  0.02594887,  0.22116034,  0.5244001 ,  0.46862397],\n",
              "        [-0.06043858, -0.5127589 ,  0.06013675, -0.25803867, -0.797262  ,\n",
              "         -0.11293934, -0.22868001, -1.7383575 , -0.6207667 , -0.77416724]],\n",
              "       dtype=float32),\n",
              " array([ 0.14975916, -0.15337642,  0.14885944,  0.15681897,  0.03262574,\n",
              "         0.00474377, -0.0122563 ,  0.04657267, -0.05576725, -0.1287305 ],\n",
              "       dtype=float32),\n",
              " array([[-0.494969  ,  0.0771614 ,  0.3490562 ,  0.08447538,  0.47930256,\n",
              "         -0.11466902,  0.19041388,  0.55464256, -0.27834558, -0.01267208],\n",
              "        [ 0.6994163 ,  0.10692839,  0.44544122,  0.08972333, -0.25534055,\n",
              "          0.11661655,  0.17388846,  0.12661853,  0.01914122,  0.10017704],\n",
              "        [ 0.16311254, -0.25712326, -0.30136055, -0.12367451,  0.39297813,\n",
              "         -0.04779537,  0.13066177, -0.06894827,  0.27402344,  0.56583154],\n",
              "        [ 0.08486325,  0.50449955,  0.22126909,  0.2847364 ,  0.36376625,\n",
              "         -0.21567076, -0.08022279,  0.05727782, -0.5002577 ,  0.29112753],\n",
              "        [ 0.30994436,  0.23619951, -0.1477298 , -0.12606475, -0.04066173,\n",
              "         -0.13375022, -0.32419115, -0.20839237, -0.2411139 ,  0.4925621 ],\n",
              "        [-0.02158932, -0.06543913,  0.65233755, -0.38388225,  0.07365769,\n",
              "          0.16483906,  0.49496642, -0.08912838,  0.6493696 ,  0.44755644],\n",
              "        [ 0.05008741,  0.26014245, -0.05976366, -0.8068054 , -0.13088544,\n",
              "          0.22487125, -0.19327746, -0.0172098 ,  0.01071204,  0.03338121],\n",
              "        [-0.056206  ,  0.29305434, -0.07688769, -0.3771253 ,  0.21937454,\n",
              "         -0.40246445, -0.03742975, -0.5831001 ,  0.28721517, -0.15987848],\n",
              "        [ 0.17595682,  0.31211045,  0.52128327, -0.46265668, -0.30602518,\n",
              "         -0.32101843, -0.12095945,  0.11619934,  0.3997969 ,  0.2997709 ],\n",
              "        [ 0.46106252, -0.59556997, -0.20676059, -0.7093594 ,  0.05036914,\n",
              "          0.07536375, -0.34457594, -0.10610091,  0.00921111, -0.05384268]],\n",
              "       dtype=float32),\n",
              " array([-0.09910531,  0.03797682, -0.00932659,  0.00153642,  0.07919192,\n",
              "        -0.06822471, -0.01046512,  0.06083342,  0.00140434,  0.11408056],\n",
              "       dtype=float32),\n",
              " array([[-0.16153231, -0.09213276, -0.14896274,  0.06950129,  0.2800697 ,\n",
              "         -0.47887933,  0.4330817 , -0.10083145, -0.01568107,  0.39737704],\n",
              "        [ 0.6393491 ,  0.12162429,  0.07912474, -0.01314916, -0.4971569 ,\n",
              "          0.27304548,  0.19543843, -0.12076373,  0.50990015, -0.02387601],\n",
              "        [ 0.34020555, -0.1405402 , -0.37120917,  0.05907188,  0.16731566,\n",
              "          0.49212426, -0.06786322, -0.1737389 , -0.59096074,  0.14505963],\n",
              "        [-0.2670725 ,  0.5278799 ,  0.03678587, -0.27750486,  0.45317736,\n",
              "         -0.58693767,  0.7197124 ,  0.34149593,  0.23297451, -0.6648142 ],\n",
              "        [ 0.87814444,  0.366636  ,  0.8197108 , -0.23448458,  0.05359015,\n",
              "          0.20519868,  0.32307905, -0.15319374,  0.04854063, -0.24024378],\n",
              "        [-0.5002442 , -0.16167131,  0.47906533,  0.05526599, -0.00912994,\n",
              "          0.06416161, -0.08097836,  0.05681344, -0.30403098, -0.07381608],\n",
              "        [ 0.1363031 ,  0.96791714,  0.51100963,  0.06236948,  0.65341187,\n",
              "         -0.01654315, -0.06372204,  0.05625732,  0.12440211, -0.02143145],\n",
              "        [ 0.13812087,  0.10473416, -0.18331489, -0.14478745, -0.3219848 ,\n",
              "         -0.3095272 , -0.02479457,  0.36762345,  0.5169519 , -0.03970765],\n",
              "        [-0.21489836, -0.7221371 , -0.41354343, -0.5286356 , -0.27601966,\n",
              "          0.4404173 , -0.65174794, -0.2857857 , -0.1036253 , -0.05661492],\n",
              "        [ 0.48390344, -0.29963234, -0.47410303, -0.06423078, -0.17886774,\n",
              "         -0.23875771, -0.7107532 ,  0.26426363, -0.04317936, -0.3078387 ]],\n",
              "       dtype=float32),\n",
              " array([ 0.05003995, -0.01552708, -0.01324588, -0.08830435, -0.00851006,\n",
              "        -0.02544862, -0.00955629,  0.00725917, -0.01729462, -0.01682483],\n",
              "       dtype=float32),\n",
              " array([[ 0.7358108 ,  0.3367801 , -0.2808666 , -0.7142694 , -0.30199358,\n",
              "          0.0715206 , -0.09096617,  0.2586618 ,  0.1704503 ,  0.14419575],\n",
              "        [-0.11355594, -0.33792052,  0.15627667,  0.49851933, -0.6119661 ,\n",
              "         -0.04236703, -0.23526466,  0.2866372 , -0.48861733,  0.05598235],\n",
              "        [ 0.14437844, -0.5518651 , -0.5724129 ,  0.36518958, -0.49912697,\n",
              "          0.5668641 , -0.48003235,  0.00165734,  0.2460594 ,  0.23419692],\n",
              "        [-0.11669342,  0.09747127, -0.18876787, -1.0863979 ,  0.30178493,\n",
              "         -0.42521387, -0.7121062 , -0.25494942,  0.04924615, -0.4081776 ],\n",
              "        [-0.14805752, -0.11467501, -0.55814266, -0.05295426,  0.14892557,\n",
              "         -0.01823228, -0.27810544,  0.07081456, -0.3644536 ,  0.32817486],\n",
              "        [-0.25693458, -0.17005798, -0.04861169, -0.7451473 , -0.07892372,\n",
              "         -0.6905221 ,  0.36979967,  0.6183874 ,  0.15684347,  0.09718113],\n",
              "        [-0.27526227,  0.06472006, -0.38948646, -0.26117048, -0.29307443,\n",
              "          0.09329064, -0.00369663, -0.09491652, -0.25653556,  0.20631789],\n",
              "        [-0.12033904,  0.19615944,  0.07239578,  0.3718158 , -0.77640915,\n",
              "          0.22839369, -0.25693753, -0.3525176 , -0.03316454,  0.4901984 ],\n",
              "        [-0.3680953 , -0.38698483, -0.5721919 , -0.02232856, -0.33512607,\n",
              "          0.09158537,  0.1376934 , -0.16239047,  0.19353501,  0.37140095],\n",
              "        [-0.01592697,  0.18658723, -0.061745  ,  0.11829627,  0.28269663,\n",
              "          0.33610937, -0.35469738,  0.03079825, -0.05277726,  0.02382762]],\n",
              "       dtype=float32),\n",
              " array([ 0.0279547 ,  0.03049787,  0.01008398,  0.00496376, -0.00520462,\n",
              "        -0.00230723,  0.02037354,  0.0160442 ,  0.00907782, -0.00628448],\n",
              "       dtype=float32),\n",
              " array([[ 0.9407133 ],\n",
              "        [ 0.19386467],\n",
              "        [ 0.14030124],\n",
              "        [-0.46041203],\n",
              "        [ 0.11191506],\n",
              "        [-0.24140176],\n",
              "        [ 0.68116003],\n",
              "        [ 0.34075907],\n",
              "        [ 0.35635647],\n",
              "        [-0.50271475]], dtype=float32),\n",
              " array([0.01587985], dtype=float32)]"
            ]
          },
          "metadata": {},
          "execution_count": 36
        }
      ]
    },
    {
      "cell_type": "code",
      "source": [
        "from mlxtend.plotting import plot_decision_regions\n",
        "plot_decision_regions(X,y.astype('int'),clf=model,legend=2)"
      ],
      "metadata": {
        "colab": {
          "base_uri": "https://localhost:8080/",
          "height": 465
        },
        "id": "DufRRANLs-4m",
        "outputId": "0dcdf719-25c2-488a-9b7b-f3dc166c5bc8"
      },
      "execution_count": 37,
      "outputs": [
        {
          "output_type": "stream",
          "name": "stdout",
          "text": [
            "\u001b[1m9600/9600\u001b[0m \u001b[32m━━━━━━━━━━━━━━━━━━━━\u001b[0m\u001b[37m\u001b[0m \u001b[1m25s\u001b[0m 3ms/step\n"
          ]
        },
        {
          "output_type": "execute_result",
          "data": {
            "text/plain": [
              "<Axes: >"
            ]
          },
          "metadata": {},
          "execution_count": 37
        },
        {
          "output_type": "display_data",
          "data": {
            "text/plain": [
              "<Figure size 640x480 with 1 Axes>"
            ],
            "image/png": "[encoded data removed]"
          },
          "metadata": {}
        }
      ]
    },
    {
      "cell_type": "markdown",
      "source": [
        "# He weight initialization\n",
        "# Remember if you are working with **Relu** you should use He weights initialization"
      ],
      "metadata": {
        "id": "TyvOdWCAuZmt"
      }
    },
    {
      "cell_type": "markdown",
      "source": [
        "# Now initializing these weights uisng these heuristics techniques in keras"
      ],
      "metadata": {
        "id": "btG9S2afvOPE"
      }
    },
    {
      "cell_type": "code",
      "source": [
        "model=Sequential()\n",
        "\n",
        "model.add(Dense(10,activation='relu',input_dim=2,kernel_initializer='he_normal'))\n",
        "model.add(Dense(10,activation='relu',kernel_initializer='he_normal'))\n",
        "model.add(Dense(10,activation='relu',kernel_initializer='he_normal'))\n",
        "model.add(Dense(10,activation='relu',kernel_initializer='he_normal'))\n",
        "model.add(Dense(1,activation='sigmoid'))\n",
        "\n",
        "model.summary()"
      ],
      "metadata": {
        "colab": {
          "base_uri": "https://localhost:8080/",
          "height": 344
        },
        "id": "jmiCgxKRtXSY",
        "outputId": "610fbe94-9233-4cd4-cc7e-cddb6c593669"
      },
      "execution_count": 39,
      "outputs": [
        {
          "output_type": "stream",
          "name": "stderr",
          "text": [
            "/usr/local/lib/python3.10/dist-packages/keras/src/layers/core/dense.py:87: UserWarning: Do not pass an `input_shape`/`input_dim` argument to a layer. When using Sequential models, prefer using an `Input(shape)` object as the first layer in the model instead.\n",
            "  super().__init__(activity_regularizer=activity_regularizer, **kwargs)\n"
          ]
        },
        {
          "output_type": "display_data",
          "data": {
            "text/plain": [
              "\u001b[1mModel: \"sequential_4\"\u001b[0m\n"
            ],
            "text/html": [
              "<pre style=\"white-space:pre;overflow-x:auto;line-height:normal;font-family:Menlo,'DejaVu Sans Mono',consolas,'Courier New',monospace\"><span style=\"font-weight: bold\">Model: \"sequential_4\"</span>\n",
              "</pre>\n"
            ]
          },
          "metadata": {}
        },
        {
          "output_type": "display_data",
          "data": {
            "text/plain": [
              "┏━━━━━━━━━━━━━━━━━━━━━━━━━━━━━━━━━━━━━━┳━━━━━━━━━━━━━━━━━━━━━━━━━━━━━┳━━━━━━━━━━━━━━━━━┓\n",
              "┃\u001b[1m \u001b[0m\u001b[1mLayer (type)                        \u001b[0m\u001b[1m \u001b[0m┃\u001b[1m \u001b[0m\u001b[1mOutput Shape               \u001b[0m\u001b[1m \u001b[0m┃\u001b[1m \u001b[0m\u001b[1m        Param #\u001b[0m\u001b[1m \u001b[0m┃\n",
              "┡━━━━━━━━━━━━━━━━━━━━━━━━━━━━━━━━━━━━━━╇━━━━━━━━━━━━━━━━━━━━━━━━━━━━━╇━━━━━━━━━━━━━━━━━┩\n",
              "│ dense_19 (\u001b[38;5;33mDense\u001b[0m)                     │ (\u001b[38;5;45mNone\u001b[0m, \u001b[38;5;34m10\u001b[0m)                  │              \u001b[38;5;34m30\u001b[0m │\n",
              "├──────────────────────────────────────┼─────────────────────────────┼─────────────────┤\n",
              "│ dense_20 (\u001b[38;5;33mDense\u001b[0m)                     │ (\u001b[38;5;45mNone\u001b[0m, \u001b[38;5;34m10\u001b[0m)                  │             \u001b[38;5;34m110\u001b[0m │\n",
              "├──────────────────────────────────────┼─────────────────────────────┼─────────────────┤\n",
              "│ dense_21 (\u001b[38;5;33mDense\u001b[0m)                     │ (\u001b[38;5;45mNone\u001b[0m, \u001b[38;5;34m10\u001b[0m)                  │             \u001b[38;5;34m110\u001b[0m │\n",
              "├──────────────────────────────────────┼─────────────────────────────┼─────────────────┤\n",
              "│ dense_22 (\u001b[38;5;33mDense\u001b[0m)                     │ (\u001b[38;5;45mNone\u001b[0m, \u001b[38;5;34m10\u001b[0m)                  │             \u001b[38;5;34m110\u001b[0m │\n",
              "├──────────────────────────────────────┼─────────────────────────────┼─────────────────┤\n",
              "│ dense_23 (\u001b[38;5;33mDense\u001b[0m)                     │ (\u001b[38;5;45mNone\u001b[0m, \u001b[38;5;34m1\u001b[0m)                   │              \u001b[38;5;34m11\u001b[0m │\n",
              "└──────────────────────────────────────┴─────────────────────────────┴─────────────────┘\n"
            ],
            "text/html": [
              "<pre style=\"white-space:pre;overflow-x:auto;line-height:normal;font-family:Menlo,'DejaVu Sans Mono',consolas,'Courier New',monospace\">┏━━━━━━━━━━━━━━━━━━━━━━━━━━━━━━━━━━━━━━┳━━━━━━━━━━━━━━━━━━━━━━━━━━━━━┳━━━━━━━━━━━━━━━━━┓\n",
              "┃<span style=\"font-weight: bold\"> Layer (type)                         </span>┃<span style=\"font-weight: bold\"> Output Shape                </span>┃<span style=\"font-weight: bold\">         Param # </span>┃\n",
              "┡━━━━━━━━━━━━━━━━━━━━━━━━━━━━━━━━━━━━━━╇━━━━━━━━━━━━━━━━━━━━━━━━━━━━━╇━━━━━━━━━━━━━━━━━┩\n",
              "│ dense_19 (<span style=\"color: #0087ff; text-decoration-color: #0087ff\">Dense</span>)                     │ (<span style=\"color: #00d7ff; text-decoration-color: #00d7ff\">None</span>, <span style=\"color: #00af00; text-decoration-color: #00af00\">10</span>)                  │              <span style=\"color: #00af00; text-decoration-color: #00af00\">30</span> │\n",
              "├──────────────────────────────────────┼─────────────────────────────┼─────────────────┤\n",
              "│ dense_20 (<span style=\"color: #0087ff; text-decoration-color: #0087ff\">Dense</span>)                     │ (<span style=\"color: #00d7ff; text-decoration-color: #00d7ff\">None</span>, <span style=\"color: #00af00; text-decoration-color: #00af00\">10</span>)                  │             <span style=\"color: #00af00; text-decoration-color: #00af00\">110</span> │\n",
              "├──────────────────────────────────────┼─────────────────────────────┼─────────────────┤\n",
              "│ dense_21 (<span style=\"color: #0087ff; text-decoration-color: #0087ff\">Dense</span>)                     │ (<span style=\"color: #00d7ff; text-decoration-color: #00d7ff\">None</span>, <span style=\"color: #00af00; text-decoration-color: #00af00\">10</span>)                  │             <span style=\"color: #00af00; text-decoration-color: #00af00\">110</span> │\n",
              "├──────────────────────────────────────┼─────────────────────────────┼─────────────────┤\n",
              "│ dense_22 (<span style=\"color: #0087ff; text-decoration-color: #0087ff\">Dense</span>)                     │ (<span style=\"color: #00d7ff; text-decoration-color: #00d7ff\">None</span>, <span style=\"color: #00af00; text-decoration-color: #00af00\">10</span>)                  │             <span style=\"color: #00af00; text-decoration-color: #00af00\">110</span> │\n",
              "├──────────────────────────────────────┼─────────────────────────────┼─────────────────┤\n",
              "│ dense_23 (<span style=\"color: #0087ff; text-decoration-color: #0087ff\">Dense</span>)                     │ (<span style=\"color: #00d7ff; text-decoration-color: #00d7ff\">None</span>, <span style=\"color: #00af00; text-decoration-color: #00af00\">1</span>)                   │              <span style=\"color: #00af00; text-decoration-color: #00af00\">11</span> │\n",
              "└──────────────────────────────────────┴─────────────────────────────┴─────────────────┘\n",
              "</pre>\n"
            ]
          },
          "metadata": {}
        },
        {
          "output_type": "display_data",
          "data": {
            "text/plain": [
              "\u001b[1m Total params: \u001b[0m\u001b[38;5;34m371\u001b[0m (1.45 KB)\n"
            ],
            "text/html": [
              "<pre style=\"white-space:pre;overflow-x:auto;line-height:normal;font-family:Menlo,'DejaVu Sans Mono',consolas,'Courier New',monospace\"><span style=\"font-weight: bold\"> Total params: </span><span style=\"color: #00af00; text-decoration-color: #00af00\">371</span> (1.45 KB)\n",
              "</pre>\n"
            ]
          },
          "metadata": {}
        },
        {
          "output_type": "display_data",
          "data": {
            "text/plain": [
              "\u001b[1m Trainable params: \u001b[0m\u001b[38;5;34m371\u001b[0m (1.45 KB)\n"
            ],
            "text/html": [
              "<pre style=\"white-space:pre;overflow-x:auto;line-height:normal;font-family:Menlo,'DejaVu Sans Mono',consolas,'Courier New',monospace\"><span style=\"font-weight: bold\"> Trainable params: </span><span style=\"color: #00af00; text-decoration-color: #00af00\">371</span> (1.45 KB)\n",
              "</pre>\n"
            ]
          },
          "metadata": {}
        },
        {
          "output_type": "display_data",
          "data": {
            "text/plain": [
              "\u001b[1m Non-trainable params: \u001b[0m\u001b[38;5;34m0\u001b[0m (0.00 B)\n"
            ],
            "text/html": [
              "<pre style=\"white-space:pre;overflow-x:auto;line-height:normal;font-family:Menlo,'DejaVu Sans Mono',consolas,'Courier New',monospace\"><span style=\"font-weight: bold\"> Non-trainable params: </span><span style=\"color: #00af00; text-decoration-color: #00af00\">0</span> (0.00 B)\n",
              "</pre>\n"
            ]
          },
          "metadata": {}
        }
      ]
    },
    {
      "cell_type": "code",
      "source": [
        "model.get_weights()"
      ],
      "metadata": {
        "colab": {
          "base_uri": "https://localhost:8080/"
        },
        "id": "dZER5cFlwa0k",
        "outputId": "bb0b2603-0fd8-4aab-e676-7fdcc234308a"
      },
      "execution_count": 41,
      "outputs": [
        {
          "output_type": "execute_result",
          "data": {
            "text/plain": [
              "[array([[ 1.3914328 ,  0.6587581 ,  0.6389319 , -0.33597687,  2.0399039 ,\n",
              "          0.90415233,  0.8280304 , -1.1007285 ,  0.645484  ,  0.02456737],\n",
              "        [ 0.54391384, -2.0262938 ,  0.54008096, -1.778965  , -0.27740437,\n",
              "          0.3337127 ,  1.033485  , -1.315389  , -1.420512  , -0.31032476]],\n",
              "       dtype=float32),\n",
              " array([0., 0., 0., 0., 0., 0., 0., 0., 0., 0.], dtype=float32),\n",
              " array([[-0.05663532, -0.5564733 ,  0.7361044 , -0.33019906, -0.32362974,\n",
              "          0.91651857, -0.4149964 ,  0.4549537 , -0.04125264, -0.05904778],\n",
              "        [ 0.19221562, -0.45716643,  0.577655  ,  0.22608599,  0.54459625,\n",
              "          0.52321935,  0.00590971,  0.2221944 ,  0.14443013, -0.13234349],\n",
              "        [-0.35025302,  0.74424535,  0.16981405, -0.4488721 , -0.22892705,\n",
              "         -0.06867012, -0.20094901,  0.45666465, -0.26004606, -0.6652031 ],\n",
              "        [-0.52481955, -0.35821864,  0.30188096, -0.00980297,  0.3501924 ,\n",
              "         -0.24850897,  0.3963468 ,  0.2615226 , -0.6856444 ,  0.32010815],\n",
              "        [ 0.4198794 ,  0.16003394, -0.1355559 , -0.07501915, -0.34383884,\n",
              "          0.86214983, -0.89512974, -0.3071097 ,  0.20315363, -0.19697282],\n",
              "        [ 0.37521338,  0.00312718, -0.3743635 ,  0.63549376,  0.39104396,\n",
              "          0.12882817,  0.797063  ,  0.5942119 , -0.06365213,  0.15084097],\n",
              "        [-0.651675  , -0.51208675, -0.68141156,  0.3401469 ,  0.4943289 ,\n",
              "         -0.34884238,  0.06076761, -0.33488485, -0.5362877 ,  0.29287675],\n",
              "        [-0.6304038 , -0.61151123, -0.6300242 ,  0.19773975, -0.5085664 ,\n",
              "          0.90331554,  0.53112215, -0.36545002, -0.2670725 , -0.16242535],\n",
              "        [ 0.3838486 , -0.13659842,  0.67684865, -0.25290236, -0.36951402,\n",
              "          0.67280996,  0.56888044,  0.62933505, -0.14096142,  0.26231372],\n",
              "        [ 0.09329213, -0.6477325 , -0.30021855, -0.40867454, -0.14136642,\n",
              "          0.988202  ,  0.12066242,  0.30002797, -0.6370589 , -0.4663901 ]],\n",
              "       dtype=float32),\n",
              " array([0., 0., 0., 0., 0., 0., 0., 0., 0., 0.], dtype=float32),\n",
              " array([[-9.2643070e-01, -9.0664792e-01,  4.8510101e-01, -1.0590203e-01,\n",
              "          7.0824093e-01,  1.7389691e-01,  4.6684763e-01, -2.9286259e-01,\n",
              "         -1.5846364e-01, -8.9888560e-04],\n",
              "        [-7.6732314e-01, -3.8101593e-01,  4.5715868e-02, -6.2999368e-01,\n",
              "          2.1158008e-01,  5.2520543e-01, -5.1844204e-03, -8.4297162e-01,\n",
              "          1.3681883e-01,  2.7824154e-01],\n",
              "        [-9.4895291e-01, -4.4998387e-01, -4.6629062e-01,  4.0698010e-01,\n",
              "         -1.8508358e-02, -8.3554929e-01, -9.0152785e-02, -3.1643054e-01,\n",
              "         -5.7247525e-01,  1.0380469e-01],\n",
              "        [ 8.9617014e-01,  9.1686130e-01,  1.6851926e-01, -7.8874779e-01,\n",
              "          4.5501724e-02, -8.3357877e-01, -1.0155303e-02, -1.2210997e-01,\n",
              "          2.8263295e-01, -6.1245549e-01],\n",
              "        [-8.2082200e-01, -1.2964922e-01, -9.0437621e-01,  7.9400346e-02,\n",
              "         -5.8477235e-01,  4.0041682e-01, -5.4054922e-01,  8.0089819e-01,\n",
              "         -3.7939557e-01,  3.3391703e-02],\n",
              "        [-8.7880087e-01, -4.8008132e-01,  2.9737768e-01,  6.4199728e-01,\n",
              "         -6.7772138e-01,  8.7437654e-01, -1.3608353e-01, -7.5178534e-01,\n",
              "          3.6441442e-01, -5.8341795e-01],\n",
              "        [-1.6296650e-01,  1.0702691e-01, -7.8012770e-01, -7.2952425e-01,\n",
              "          8.4918910e-01,  6.4430422e-01, -2.1579660e-01,  4.5635012e-01,\n",
              "          1.7253403e-01, -7.8100547e-02],\n",
              "        [-5.1510739e-01,  2.2162475e-01, -8.5854119e-01, -8.1904835e-01,\n",
              "         -2.7709189e-01, -2.2701497e-01,  4.7493589e-01, -2.7533986e-02,\n",
              "          3.1478137e-01,  1.2994966e-01],\n",
              "        [ 1.4348736e-01, -2.7177688e-01, -5.1065826e-01,  2.3511860e-01,\n",
              "          4.1313794e-01,  8.6222124e-01, -1.8663241e-01,  4.0429330e-01,\n",
              "         -1.5415910e-03,  2.3586422e-01],\n",
              "        [ 6.5906990e-01,  6.7339495e-02, -6.8130982e-01,  9.0332262e-02,\n",
              "         -2.8896591e-01,  1.9949815e-01,  4.6610320e-01, -3.7373933e-01,\n",
              "         -8.2339630e-02,  2.7989051e-01]], dtype=float32),\n",
              " array([0., 0., 0., 0., 0., 0., 0., 0., 0., 0.], dtype=float32),\n",
              " array([[-0.4378636 , -0.53667694, -0.8238315 ,  0.08215848,  0.55158174,\n",
              "          0.65007126, -0.7116723 , -0.48653594,  0.28373545, -0.31663543],\n",
              "        [-0.36923146, -0.52738535, -0.07410394, -0.93319225, -0.553189  ,\n",
              "         -0.41561154,  0.8174336 , -0.53097147, -0.03917658, -0.19609724],\n",
              "        [-0.07733357, -0.03308664, -0.7412129 ,  0.6241378 ,  0.47761816,\n",
              "          0.42854786,  0.10824745,  0.80935234,  0.62905556,  0.28784707],\n",
              "        [-0.7511302 ,  0.06081802,  0.5244101 ,  1.0003061 ,  0.6748328 ,\n",
              "          0.41154996, -0.52754414,  0.5321605 ,  0.86857563, -0.6200831 ],\n",
              "        [-0.3802043 , -0.38074005, -0.5035233 , -0.37761185,  0.26176432,\n",
              "         -0.19812347,  0.29361257,  0.64564264,  0.5665507 , -0.20903556],\n",
              "        [ 0.0240583 ,  0.7710668 , -0.7005945 ,  0.05882801, -0.7785911 ,\n",
              "         -0.08565065, -0.23280063,  0.16730614,  0.13216832, -0.27032506],\n",
              "        [-0.70491993, -0.01557048,  0.54225606,  0.3636773 ,  0.03712255,\n",
              "          0.4172122 ,  0.00532569, -0.888671  , -0.2452606 ,  0.14648062],\n",
              "        [ 0.91282624,  0.20418279, -0.10174619,  0.78894687,  0.23655076,\n",
              "         -0.16503724, -0.37423304, -0.7484262 , -0.12018412,  0.18771623],\n",
              "        [-0.6577552 , -0.05709166,  0.4331267 ,  0.36674398,  0.49919903,\n",
              "          0.63368344,  0.63897145, -0.8152653 ,  0.32473704,  0.7713114 ],\n",
              "        [-0.00330787, -0.07709748,  0.43670502,  0.74100924, -0.3166819 ,\n",
              "          0.7109829 , -0.28798229,  0.3906454 , -0.5856992 ,  0.30623385]],\n",
              "       dtype=float32),\n",
              " array([0., 0., 0., 0., 0., 0., 0., 0., 0., 0.], dtype=float32),\n",
              " array([[ 0.5892202 ],\n",
              "        [-0.2228173 ],\n",
              "        [-0.07110143],\n",
              "        [-0.32425988],\n",
              "        [-0.09178948],\n",
              "        [-0.66384715],\n",
              "        [-0.45372707],\n",
              "        [-0.63060343],\n",
              "        [ 0.41110498],\n",
              "        [-0.28973144]], dtype=float32),\n",
              " array([0.], dtype=float32)]"
            ]
          },
          "metadata": {},
          "execution_count": 41
        }
      ]
    },
    {
      "cell_type": "code",
      "source": [
        "model.compile(loss='binary_crossentropy',optimizer='adam',metrics=['accuracy'])"
      ],
      "metadata": {
        "id": "rTmEMvCNwiLD"
      },
      "execution_count": 42,
      "outputs": []
    },
    {
      "cell_type": "code",
      "source": [
        "history=model.fit(X,y,epochs=100,validation_split=0.2)"
      ],
      "metadata": {
        "colab": {
          "base_uri": "https://localhost:8080/"
        },
        "id": "N9S2iaSWw1ST",
        "outputId": "b1cea776-1929-4451-85a2-cff38912f59a"
      },
      "execution_count": 43,
      "outputs": [
        {
          "output_type": "stream",
          "name": "stdout",
          "text": [
            "Epoch 1/100\n",
            "\u001b[1m3/3\u001b[0m \u001b[32m━━━━━━━━━━━━━━━━━━━━\u001b[0m\u001b[37m\u001b[0m \u001b[1m3s\u001b[0m 141ms/step - accuracy: 0.3900 - loss: 1.1324 - val_accuracy: 0.4000 - val_loss: 1.0662\n",
            "Epoch 2/100\n",
            "\u001b[1m3/3\u001b[0m \u001b[32m━━━━━━━━━━━━━━━━━━━━\u001b[0m\u001b[37m\u001b[0m \u001b[1m0s\u001b[0m 20ms/step - accuracy: 0.4535 - loss: 1.0459 - val_accuracy: 0.4000 - val_loss: 1.0247\n",
            "Epoch 3/100\n",
            "\u001b[1m3/3\u001b[0m \u001b[32m━━━━━━━━━━━━━━━━━━━━\u001b[0m\u001b[37m\u001b[0m \u001b[1m0s\u001b[0m 20ms/step - accuracy: 0.4559 - loss: 1.0250 - val_accuracy: 0.4000 - val_loss: 0.9900\n",
            "Epoch 4/100\n",
            "\u001b[1m3/3\u001b[0m \u001b[32m━━━━━━━━━━━━━━━━━━━━\u001b[0m\u001b[37m\u001b[0m \u001b[1m0s\u001b[0m 23ms/step - accuracy: 0.4520 - loss: 0.9594 - val_accuracy: 0.4000 - val_loss: 0.9575\n",
            "Epoch 5/100\n",
            "\u001b[1m3/3\u001b[0m \u001b[32m━━━━━━━━━━━━━━━━━━━━\u001b[0m\u001b[37m\u001b[0m \u001b[1m0s\u001b[0m 20ms/step - accuracy: 0.4730 - loss: 0.9503 - val_accuracy: 0.4500 - val_loss: 0.9255\n",
            "Epoch 6/100\n",
            "\u001b[1m3/3\u001b[0m \u001b[32m━━━━━━━━━━━━━━━━━━━━\u001b[0m\u001b[37m\u001b[0m \u001b[1m0s\u001b[0m 24ms/step - accuracy: 0.4481 - loss: 0.9030 - val_accuracy: 0.4500 - val_loss: 0.8951\n",
            "Epoch 7/100\n",
            "\u001b[1m3/3\u001b[0m \u001b[32m━━━━━━━━━━━━━━━━━━━━\u001b[0m\u001b[37m\u001b[0m \u001b[1m0s\u001b[0m 29ms/step - accuracy: 0.4725 - loss: 0.8626 - val_accuracy: 0.4500 - val_loss: 0.8683\n",
            "Epoch 8/100\n",
            "\u001b[1m3/3\u001b[0m \u001b[32m━━━━━━━━━━━━━━━━━━━━\u001b[0m\u001b[37m\u001b[0m \u001b[1m0s\u001b[0m 33ms/step - accuracy: 0.4427 - loss: 0.8728 - val_accuracy: 0.5000 - val_loss: 0.8445\n",
            "Epoch 9/100\n",
            "\u001b[1m3/3\u001b[0m \u001b[32m━━━━━━━━━━━━━━━━━━━━\u001b[0m\u001b[37m\u001b[0m \u001b[1m0s\u001b[0m 36ms/step - accuracy: 0.4490 - loss: 0.8352 - val_accuracy: 0.5000 - val_loss: 0.8235\n",
            "Epoch 10/100\n",
            "\u001b[1m3/3\u001b[0m \u001b[32m━━━━━━━━━━━━━━━━━━━━\u001b[0m\u001b[37m\u001b[0m \u001b[1m0s\u001b[0m 31ms/step - accuracy: 0.4749 - loss: 0.8050 - val_accuracy: 0.5000 - val_loss: 0.8046\n",
            "Epoch 11/100\n",
            "\u001b[1m3/3\u001b[0m \u001b[32m━━━━━━━━━━━━━━━━━━━━\u001b[0m\u001b[37m\u001b[0m \u001b[1m0s\u001b[0m 34ms/step - accuracy: 0.4968 - loss: 0.7745 - val_accuracy: 0.5000 - val_loss: 0.7878\n",
            "Epoch 12/100\n",
            "\u001b[1m3/3\u001b[0m \u001b[32m━━━━━━━━━━━━━━━━━━━━\u001b[0m\u001b[37m\u001b[0m \u001b[1m0s\u001b[0m 38ms/step - accuracy: 0.4968 - loss: 0.7693 - val_accuracy: 0.5000 - val_loss: 0.7727\n",
            "Epoch 13/100\n",
            "\u001b[1m3/3\u001b[0m \u001b[32m━━━━━━━━━━━━━━━━━━━━\u001b[0m\u001b[37m\u001b[0m \u001b[1m0s\u001b[0m 29ms/step - accuracy: 0.4968 - loss: 0.7533 - val_accuracy: 0.5000 - val_loss: 0.7586\n",
            "Epoch 14/100\n",
            "\u001b[1m3/3\u001b[0m \u001b[32m━━━━━━━━━━━━━━━━━━━━\u001b[0m\u001b[37m\u001b[0m \u001b[1m0s\u001b[0m 56ms/step - accuracy: 0.5164 - loss: 0.7242 - val_accuracy: 0.5000 - val_loss: 0.7465\n",
            "Epoch 15/100\n",
            "\u001b[1m3/3\u001b[0m \u001b[32m━━━━━━━━━━━━━━━━━━━━\u001b[0m\u001b[37m\u001b[0m \u001b[1m0s\u001b[0m 26ms/step - accuracy: 0.5242 - loss: 0.7111 - val_accuracy: 0.5000 - val_loss: 0.7356\n",
            "Epoch 16/100\n",
            "\u001b[1m3/3\u001b[0m \u001b[32m━━━━━━━━━━━━━━━━━━━━\u001b[0m\u001b[37m\u001b[0m \u001b[1m0s\u001b[0m 26ms/step - accuracy: 0.5125 - loss: 0.7122 - val_accuracy: 0.5000 - val_loss: 0.7257\n",
            "Epoch 17/100\n",
            "\u001b[1m3/3\u001b[0m \u001b[32m━━━━━━━━━━━━━━━━━━━━\u001b[0m\u001b[37m\u001b[0m \u001b[1m0s\u001b[0m 27ms/step - accuracy: 0.4812 - loss: 0.7065 - val_accuracy: 0.5000 - val_loss: 0.7168\n",
            "Epoch 18/100\n",
            "\u001b[1m3/3\u001b[0m \u001b[32m━━━━━━━━━━━━━━━━━━━━\u001b[0m\u001b[37m\u001b[0m \u001b[1m0s\u001b[0m 36ms/step - accuracy: 0.5086 - loss: 0.6865 - val_accuracy: 0.5000 - val_loss: 0.7088\n",
            "Epoch 19/100\n",
            "\u001b[1m3/3\u001b[0m \u001b[32m━━━━━━━━━━━━━━━━━━━━\u001b[0m\u001b[37m\u001b[0m \u001b[1m0s\u001b[0m 38ms/step - accuracy: 0.5086 - loss: 0.6827 - val_accuracy: 0.5000 - val_loss: 0.7013\n",
            "Epoch 20/100\n",
            "\u001b[1m3/3\u001b[0m \u001b[32m━━━━━━━━━━━━━━━━━━━━\u001b[0m\u001b[37m\u001b[0m \u001b[1m0s\u001b[0m 31ms/step - accuracy: 0.4875 - loss: 0.6859 - val_accuracy: 0.5000 - val_loss: 0.6942\n",
            "Epoch 21/100\n",
            "\u001b[1m3/3\u001b[0m \u001b[32m━━━━━━━━━━━━━━━━━━━━\u001b[0m\u001b[37m\u001b[0m \u001b[1m0s\u001b[0m 41ms/step - accuracy: 0.5056 - loss: 0.6845 - val_accuracy: 0.5000 - val_loss: 0.6875\n",
            "Epoch 22/100\n",
            "\u001b[1m3/3\u001b[0m \u001b[32m━━━━━━━━━━━━━━━━━━━━\u001b[0m\u001b[37m\u001b[0m \u001b[1m0s\u001b[0m 37ms/step - accuracy: 0.5314 - loss: 0.6711 - val_accuracy: 0.5000 - val_loss: 0.6815\n",
            "Epoch 23/100\n",
            "\u001b[1m3/3\u001b[0m \u001b[32m━━━━━━━━━━━━━━━━━━━━\u001b[0m\u001b[37m\u001b[0m \u001b[1m0s\u001b[0m 25ms/step - accuracy: 0.5080 - loss: 0.6686 - val_accuracy: 0.5000 - val_loss: 0.6761\n",
            "Epoch 24/100\n",
            "\u001b[1m3/3\u001b[0m \u001b[32m━━━━━━━━━━━━━━━━━━━━\u001b[0m\u001b[37m\u001b[0m \u001b[1m0s\u001b[0m 27ms/step - accuracy: 0.5402 - loss: 0.6653 - val_accuracy: 0.5500 - val_loss: 0.6709\n",
            "Epoch 25/100\n",
            "\u001b[1m3/3\u001b[0m \u001b[32m━━━━━━━━━━━━━━━━━━━━\u001b[0m\u001b[37m\u001b[0m \u001b[1m0s\u001b[0m 27ms/step - accuracy: 0.5997 - loss: 0.6537 - val_accuracy: 0.5500 - val_loss: 0.6661\n",
            "Epoch 26/100\n",
            "\u001b[1m3/3\u001b[0m \u001b[32m━━━━━━━━━━━━━━━━━━━━\u001b[0m\u001b[37m\u001b[0m \u001b[1m0s\u001b[0m 27ms/step - accuracy: 0.6207 - loss: 0.6397 - val_accuracy: 0.5500 - val_loss: 0.6616\n",
            "Epoch 27/100\n",
            "\u001b[1m3/3\u001b[0m \u001b[32m━━━━━━━━━━━━━━━━━━━━\u001b[0m\u001b[37m\u001b[0m \u001b[1m0s\u001b[0m 30ms/step - accuracy: 0.5582 - loss: 0.6455 - val_accuracy: 0.6000 - val_loss: 0.6574\n",
            "Epoch 28/100\n",
            "\u001b[1m3/3\u001b[0m \u001b[32m━━━━━━━━━━━━━━━━━━━━\u001b[0m\u001b[37m\u001b[0m \u001b[1m0s\u001b[0m 48ms/step - accuracy: 0.6070 - loss: 0.6463 - val_accuracy: 0.6000 - val_loss: 0.6533\n",
            "Epoch 29/100\n",
            "\u001b[1m3/3\u001b[0m \u001b[32m━━━━━━━━━━━━━━━━━━━━\u001b[0m\u001b[37m\u001b[0m \u001b[1m0s\u001b[0m 40ms/step - accuracy: 0.6187 - loss: 0.6373 - val_accuracy: 0.6500 - val_loss: 0.6490\n",
            "Epoch 30/100\n",
            "\u001b[1m3/3\u001b[0m \u001b[32m━━━━━━━━━━━━━━━━━━━━\u001b[0m\u001b[37m\u001b[0m \u001b[1m0s\u001b[0m 25ms/step - accuracy: 0.6675 - loss: 0.6345 - val_accuracy: 0.7000 - val_loss: 0.6445\n",
            "Epoch 31/100\n",
            "\u001b[1m3/3\u001b[0m \u001b[32m━━━━━━━━━━━━━━━━━━━━\u001b[0m\u001b[37m\u001b[0m \u001b[1m0s\u001b[0m 22ms/step - accuracy: 0.6401 - loss: 0.6343 - val_accuracy: 0.7500 - val_loss: 0.6402\n",
            "Epoch 32/100\n",
            "\u001b[1m3/3\u001b[0m \u001b[32m━━━━━━━━━━━━━━━━━━━━\u001b[0m\u001b[37m\u001b[0m \u001b[1m0s\u001b[0m 19ms/step - accuracy: 0.7436 - loss: 0.6199 - val_accuracy: 0.7500 - val_loss: 0.6360\n",
            "Epoch 33/100\n",
            "\u001b[1m3/3\u001b[0m \u001b[32m━━━━━━━━━━━━━━━━━━━━\u001b[0m\u001b[37m\u001b[0m \u001b[1m0s\u001b[0m 32ms/step - accuracy: 0.7679 - loss: 0.6267 - val_accuracy: 0.8000 - val_loss: 0.6319\n",
            "Epoch 34/100\n",
            "\u001b[1m3/3\u001b[0m \u001b[32m━━━━━━━━━━━━━━━━━━━━\u001b[0m\u001b[37m\u001b[0m \u001b[1m0s\u001b[0m 24ms/step - accuracy: 0.7367 - loss: 0.6146 - val_accuracy: 0.8000 - val_loss: 0.6279\n",
            "Epoch 35/100\n",
            "\u001b[1m3/3\u001b[0m \u001b[32m━━━━━━━━━━━━━━━━━━━━\u001b[0m\u001b[37m\u001b[0m \u001b[1m0s\u001b[0m 24ms/step - accuracy: 0.7689 - loss: 0.6098 - val_accuracy: 0.8000 - val_loss: 0.6238\n",
            "Epoch 36/100\n",
            "\u001b[1m3/3\u001b[0m \u001b[32m━━━━━━━━━━━━━━━━━━━━\u001b[0m\u001b[37m\u001b[0m \u001b[1m0s\u001b[0m 21ms/step - accuracy: 0.7884 - loss: 0.6018 - val_accuracy: 0.8500 - val_loss: 0.6193\n",
            "Epoch 37/100\n",
            "\u001b[1m3/3\u001b[0m \u001b[32m━━━━━━━━━━━━━━━━━━━━\u001b[0m\u001b[37m\u001b[0m \u001b[1m0s\u001b[0m 22ms/step - accuracy: 0.8128 - loss: 0.6059 - val_accuracy: 0.8500 - val_loss: 0.6148\n",
            "Epoch 38/100\n",
            "\u001b[1m3/3\u001b[0m \u001b[32m━━━━━━━━━━━━━━━━━━━━\u001b[0m\u001b[37m\u001b[0m \u001b[1m0s\u001b[0m 21ms/step - accuracy: 0.7879 - loss: 0.6094 - val_accuracy: 0.8500 - val_loss: 0.6103\n",
            "Epoch 39/100\n",
            "\u001b[1m3/3\u001b[0m \u001b[32m━━━━━━━━━━━━━━━━━━━━\u001b[0m\u001b[37m\u001b[0m \u001b[1m0s\u001b[0m 21ms/step - accuracy: 0.7918 - loss: 0.6055 - val_accuracy: 0.8500 - val_loss: 0.6055\n",
            "Epoch 40/100\n",
            "\u001b[1m3/3\u001b[0m \u001b[32m━━━━━━━━━━━━━━━━━━━━\u001b[0m\u001b[37m\u001b[0m \u001b[1m0s\u001b[0m 24ms/step - accuracy: 0.7918 - loss: 0.5950 - val_accuracy: 0.8500 - val_loss: 0.6007\n",
            "Epoch 41/100\n",
            "\u001b[1m3/3\u001b[0m \u001b[32m━━━━━━━━━━━━━━━━━━━━\u001b[0m\u001b[37m\u001b[0m \u001b[1m0s\u001b[0m 29ms/step - accuracy: 0.8113 - loss: 0.5937 - val_accuracy: 0.8500 - val_loss: 0.5954\n",
            "Epoch 42/100\n",
            "\u001b[1m3/3\u001b[0m \u001b[32m━━━━━━━━━━━━━━━━━━━━\u001b[0m\u001b[37m\u001b[0m \u001b[1m0s\u001b[0m 27ms/step - accuracy: 0.7996 - loss: 0.5898 - val_accuracy: 0.8500 - val_loss: 0.5904\n",
            "Epoch 43/100\n",
            "\u001b[1m3/3\u001b[0m \u001b[32m━━━━━━━━━━━━━━━━━━━━\u001b[0m\u001b[37m\u001b[0m \u001b[1m0s\u001b[0m 32ms/step - accuracy: 0.8230 - loss: 0.5726 - val_accuracy: 0.8500 - val_loss: 0.5853\n",
            "Epoch 44/100\n",
            "\u001b[1m3/3\u001b[0m \u001b[32m━━━━━━━━━━━━━━━━━━━━\u001b[0m\u001b[37m\u001b[0m \u001b[1m0s\u001b[0m 20ms/step - accuracy: 0.8269 - loss: 0.5711 - val_accuracy: 0.8500 - val_loss: 0.5801\n",
            "Epoch 45/100\n",
            "\u001b[1m3/3\u001b[0m \u001b[32m━━━━━━━━━━━━━━━━━━━━\u001b[0m\u001b[37m\u001b[0m \u001b[1m0s\u001b[0m 20ms/step - accuracy: 0.8113 - loss: 0.5712 - val_accuracy: 0.8500 - val_loss: 0.5747\n",
            "Epoch 46/100\n",
            "\u001b[1m3/3\u001b[0m \u001b[32m━━━━━━━━━━━━━━━━━━━━\u001b[0m\u001b[37m\u001b[0m \u001b[1m0s\u001b[0m 22ms/step - accuracy: 0.8294 - loss: 0.5633 - val_accuracy: 0.8500 - val_loss: 0.5694\n",
            "Epoch 47/100\n",
            "\u001b[1m3/3\u001b[0m \u001b[32m━━━━━━━━━━━━━━━━━━━━\u001b[0m\u001b[37m\u001b[0m \u001b[1m0s\u001b[0m 20ms/step - accuracy: 0.8215 - loss: 0.5681 - val_accuracy: 0.8500 - val_loss: 0.5638\n",
            "Epoch 48/100\n",
            "\u001b[1m3/3\u001b[0m \u001b[32m━━━━━━━━━━━━━━━━━━━━\u001b[0m\u001b[37m\u001b[0m \u001b[1m0s\u001b[0m 24ms/step - accuracy: 0.8294 - loss: 0.5492 - val_accuracy: 0.8500 - val_loss: 0.5579\n",
            "Epoch 49/100\n",
            "\u001b[1m3/3\u001b[0m \u001b[32m━━━━━━━━━━━━━━━━━━━━\u001b[0m\u001b[37m\u001b[0m \u001b[1m0s\u001b[0m 23ms/step - accuracy: 0.8255 - loss: 0.5435 - val_accuracy: 0.8500 - val_loss: 0.5517\n",
            "Epoch 50/100\n",
            "\u001b[1m3/3\u001b[0m \u001b[32m━━━━━━━━━━━━━━━━━━━━\u001b[0m\u001b[37m\u001b[0m \u001b[1m0s\u001b[0m 31ms/step - accuracy: 0.8098 - loss: 0.5520 - val_accuracy: 0.8500 - val_loss: 0.5454\n",
            "Epoch 51/100\n",
            "\u001b[1m3/3\u001b[0m \u001b[32m━━━━━━━━━━━━━━━━━━━━\u001b[0m\u001b[37m\u001b[0m \u001b[1m0s\u001b[0m 37ms/step - accuracy: 0.8474 - loss: 0.5404 - val_accuracy: 0.8500 - val_loss: 0.5387\n",
            "Epoch 52/100\n",
            "\u001b[1m3/3\u001b[0m \u001b[32m━━━━━━━━━━━━━━━━━━━━\u001b[0m\u001b[37m\u001b[0m \u001b[1m0s\u001b[0m 33ms/step - accuracy: 0.8318 - loss: 0.5418 - val_accuracy: 0.8500 - val_loss: 0.5319\n",
            "Epoch 53/100\n",
            "\u001b[1m3/3\u001b[0m \u001b[32m━━━━━━━━━━━━━━━━━━━━\u001b[0m\u001b[37m\u001b[0m \u001b[1m0s\u001b[0m 20ms/step - accuracy: 0.8513 - loss: 0.5118 - val_accuracy: 0.8500 - val_loss: 0.5250\n",
            "Epoch 54/100\n",
            "\u001b[1m3/3\u001b[0m \u001b[32m━━━━━━━━━━━━━━━━━━━━\u001b[0m\u001b[37m\u001b[0m \u001b[1m0s\u001b[0m 20ms/step - accuracy: 0.8357 - loss: 0.5289 - val_accuracy: 0.8500 - val_loss: 0.5185\n",
            "Epoch 55/100\n",
            "\u001b[1m3/3\u001b[0m \u001b[32m━━━━━━━━━━━━━━━━━━━━\u001b[0m\u001b[37m\u001b[0m \u001b[1m0s\u001b[0m 30ms/step - accuracy: 0.8357 - loss: 0.5185 - val_accuracy: 0.8500 - val_loss: 0.5115\n",
            "Epoch 56/100\n",
            "\u001b[1m3/3\u001b[0m \u001b[32m━━━━━━━━━━━━━━━━━━━━\u001b[0m\u001b[37m\u001b[0m \u001b[1m0s\u001b[0m 24ms/step - accuracy: 0.8537 - loss: 0.5174 - val_accuracy: 0.8500 - val_loss: 0.5042\n",
            "Epoch 57/100\n",
            "\u001b[1m3/3\u001b[0m \u001b[32m━━━━━━━━━━━━━━━━━━━━\u001b[0m\u001b[37m\u001b[0m \u001b[1m0s\u001b[0m 20ms/step - accuracy: 0.8552 - loss: 0.4938 - val_accuracy: 0.8500 - val_loss: 0.4967\n",
            "Epoch 58/100\n",
            "\u001b[1m3/3\u001b[0m \u001b[32m━━━━━━━━━━━━━━━━━━━━\u001b[0m\u001b[37m\u001b[0m \u001b[1m0s\u001b[0m 21ms/step - accuracy: 0.8318 - loss: 0.5070 - val_accuracy: 0.8500 - val_loss: 0.4895\n",
            "Epoch 59/100\n",
            "\u001b[1m3/3\u001b[0m \u001b[32m━━━━━━━━━━━━━━━━━━━━\u001b[0m\u001b[37m\u001b[0m \u001b[1m0s\u001b[0m 30ms/step - accuracy: 0.8396 - loss: 0.4924 - val_accuracy: 0.8500 - val_loss: 0.4820\n",
            "Epoch 60/100\n",
            "\u001b[1m3/3\u001b[0m \u001b[32m━━━━━━━━━━━━━━━━━━━━\u001b[0m\u001b[37m\u001b[0m \u001b[1m0s\u001b[0m 37ms/step - accuracy: 0.8474 - loss: 0.4814 - val_accuracy: 0.8500 - val_loss: 0.4746\n",
            "Epoch 61/100\n",
            "\u001b[1m3/3\u001b[0m \u001b[32m━━━━━━━━━━━━━━━━━━━━\u001b[0m\u001b[37m\u001b[0m \u001b[1m0s\u001b[0m 31ms/step - accuracy: 0.8435 - loss: 0.4726 - val_accuracy: 0.9000 - val_loss: 0.4672\n",
            "Epoch 62/100\n",
            "\u001b[1m3/3\u001b[0m \u001b[32m━━━━━━━━━━━━━━━━━━━━\u001b[0m\u001b[37m\u001b[0m \u001b[1m0s\u001b[0m 21ms/step - accuracy: 0.8240 - loss: 0.4756 - val_accuracy: 0.9000 - val_loss: 0.4600\n",
            "Epoch 63/100\n",
            "\u001b[1m3/3\u001b[0m \u001b[32m━━━━━━━━━━━━━━━━━━━━\u001b[0m\u001b[37m\u001b[0m \u001b[1m0s\u001b[0m 26ms/step - accuracy: 0.8279 - loss: 0.4664 - val_accuracy: 0.9000 - val_loss: 0.4525\n",
            "Epoch 64/100\n",
            "\u001b[1m3/3\u001b[0m \u001b[32m━━━━━━━━━━━━━━━━━━━━\u001b[0m\u001b[37m\u001b[0m \u001b[1m0s\u001b[0m 25ms/step - accuracy: 0.8396 - loss: 0.4686 - val_accuracy: 0.9000 - val_loss: 0.4450\n",
            "Epoch 65/100\n",
            "\u001b[1m3/3\u001b[0m \u001b[32m━━━━━━━━━━━━━━━━━━━━\u001b[0m\u001b[37m\u001b[0m \u001b[1m0s\u001b[0m 21ms/step - accuracy: 0.8513 - loss: 0.4479 - val_accuracy: 0.9000 - val_loss: 0.4378\n",
            "Epoch 66/100\n",
            "\u001b[1m3/3\u001b[0m \u001b[32m━━━━━━━━━━━━━━━━━━━━\u001b[0m\u001b[37m\u001b[0m \u001b[1m0s\u001b[0m 22ms/step - accuracy: 0.8240 - loss: 0.4747 - val_accuracy: 0.9000 - val_loss: 0.4307\n",
            "Epoch 67/100\n",
            "\u001b[1m3/3\u001b[0m \u001b[32m━━━━━━━━━━━━━━━━━━━━\u001b[0m\u001b[37m\u001b[0m \u001b[1m0s\u001b[0m 36ms/step - accuracy: 0.8162 - loss: 0.4678 - val_accuracy: 0.9000 - val_loss: 0.4235\n",
            "Epoch 68/100\n",
            "\u001b[1m3/3\u001b[0m \u001b[32m━━━━━━━━━━━━━━━━━━━━\u001b[0m\u001b[37m\u001b[0m \u001b[1m0s\u001b[0m 24ms/step - accuracy: 0.8357 - loss: 0.4428 - val_accuracy: 0.9000 - val_loss: 0.4162\n",
            "Epoch 69/100\n",
            "\u001b[1m3/3\u001b[0m \u001b[32m━━━━━━━━━━━━━━━━━━━━\u001b[0m\u001b[37m\u001b[0m \u001b[1m0s\u001b[0m 28ms/step - accuracy: 0.8279 - loss: 0.4565 - val_accuracy: 0.9000 - val_loss: 0.4091\n",
            "Epoch 70/100\n",
            "\u001b[1m3/3\u001b[0m \u001b[32m━━━━━━━━━━━━━━━━━━━━\u001b[0m\u001b[37m\u001b[0m \u001b[1m0s\u001b[0m 19ms/step - accuracy: 0.8513 - loss: 0.4152 - val_accuracy: 0.9000 - val_loss: 0.4022\n",
            "Epoch 71/100\n",
            "\u001b[1m3/3\u001b[0m \u001b[32m━━━━━━━━━━━━━━━━━━━━\u001b[0m\u001b[37m\u001b[0m \u001b[1m0s\u001b[0m 19ms/step - accuracy: 0.8162 - loss: 0.4479 - val_accuracy: 0.9000 - val_loss: 0.3957\n",
            "Epoch 72/100\n",
            "\u001b[1m3/3\u001b[0m \u001b[32m━━━━━━━━━━━━━━━━━━━━\u001b[0m\u001b[37m\u001b[0m \u001b[1m0s\u001b[0m 20ms/step - accuracy: 0.8201 - loss: 0.4453 - val_accuracy: 0.9000 - val_loss: 0.3895\n",
            "Epoch 73/100\n",
            "\u001b[1m3/3\u001b[0m \u001b[32m━━━━━━━━━━━━━━━━━━━━\u001b[0m\u001b[37m\u001b[0m \u001b[1m0s\u001b[0m 23ms/step - accuracy: 0.8044 - loss: 0.4723 - val_accuracy: 0.9000 - val_loss: 0.3834\n",
            "Epoch 74/100\n",
            "\u001b[1m3/3\u001b[0m \u001b[32m━━━━━━━━━━━━━━━━━━━━\u001b[0m\u001b[37m\u001b[0m \u001b[1m0s\u001b[0m 21ms/step - accuracy: 0.8396 - loss: 0.4181 - val_accuracy: 0.9000 - val_loss: 0.3774\n",
            "Epoch 75/100\n",
            "\u001b[1m3/3\u001b[0m \u001b[32m━━━━━━━━━━━━━━━━━━━━\u001b[0m\u001b[37m\u001b[0m \u001b[1m0s\u001b[0m 20ms/step - accuracy: 0.8396 - loss: 0.4108 - val_accuracy: 0.9000 - val_loss: 0.3712\n",
            "Epoch 76/100\n",
            "\u001b[1m3/3\u001b[0m \u001b[32m━━━━━━━━━━━━━━━━━━━━\u001b[0m\u001b[37m\u001b[0m \u001b[1m0s\u001b[0m 23ms/step - accuracy: 0.8513 - loss: 0.3972 - val_accuracy: 0.9000 - val_loss: 0.3655\n",
            "Epoch 77/100\n",
            "\u001b[1m3/3\u001b[0m \u001b[32m━━━━━━━━━━━━━━━━━━━━\u001b[0m\u001b[37m\u001b[0m \u001b[1m0s\u001b[0m 29ms/step - accuracy: 0.8225 - loss: 0.4262 - val_accuracy: 0.9000 - val_loss: 0.3604\n",
            "Epoch 78/100\n",
            "\u001b[1m3/3\u001b[0m \u001b[32m━━━━━━━━━━━━━━━━━━━━\u001b[0m\u001b[37m\u001b[0m \u001b[1m0s\u001b[0m 27ms/step - accuracy: 0.8420 - loss: 0.4128 - val_accuracy: 0.9000 - val_loss: 0.3552\n",
            "Epoch 79/100\n",
            "\u001b[1m3/3\u001b[0m \u001b[32m━━━━━━━━━━━━━━━━━━━━\u001b[0m\u001b[37m\u001b[0m \u001b[1m0s\u001b[0m 27ms/step - accuracy: 0.8576 - loss: 0.4050 - val_accuracy: 0.9500 - val_loss: 0.3500\n",
            "Epoch 80/100\n",
            "\u001b[1m3/3\u001b[0m \u001b[32m━━━━━━━━━━━━━━━━━━━━\u001b[0m\u001b[37m\u001b[0m \u001b[1m0s\u001b[0m 21ms/step - accuracy: 0.8498 - loss: 0.3879 - val_accuracy: 0.9500 - val_loss: 0.3454\n",
            "Epoch 81/100\n",
            "\u001b[1m3/3\u001b[0m \u001b[32m━━━━━━━━━━━━━━━━━━━━\u001b[0m\u001b[37m\u001b[0m \u001b[1m0s\u001b[0m 25ms/step - accuracy: 0.8459 - loss: 0.3916 - val_accuracy: 0.9500 - val_loss: 0.3414\n",
            "Epoch 82/100\n",
            "\u001b[1m3/3\u001b[0m \u001b[32m━━━━━━━━━━━━━━━━━━━━\u001b[0m\u001b[37m\u001b[0m \u001b[1m0s\u001b[0m 19ms/step - accuracy: 0.8537 - loss: 0.3824 - val_accuracy: 0.9500 - val_loss: 0.3380\n",
            "Epoch 83/100\n",
            "\u001b[1m3/3\u001b[0m \u001b[32m━━━━━━━━━━━━━━━━━━━━\u001b[0m\u001b[37m\u001b[0m \u001b[1m0s\u001b[0m 21ms/step - accuracy: 0.8733 - loss: 0.3661 - val_accuracy: 0.9500 - val_loss: 0.3347\n",
            "Epoch 84/100\n",
            "\u001b[1m3/3\u001b[0m \u001b[32m━━━━━━━━━━━━━━━━━━━━\u001b[0m\u001b[37m\u001b[0m \u001b[1m0s\u001b[0m 32ms/step - accuracy: 0.8498 - loss: 0.3879 - val_accuracy: 0.9500 - val_loss: 0.3308\n",
            "Epoch 85/100\n",
            "\u001b[1m3/3\u001b[0m \u001b[32m━━━━━━━━━━━━━━━━━━━━\u001b[0m\u001b[37m\u001b[0m \u001b[1m0s\u001b[0m 31ms/step - accuracy: 0.8576 - loss: 0.3710 - val_accuracy: 0.9500 - val_loss: 0.3264\n",
            "Epoch 86/100\n",
            "\u001b[1m3/3\u001b[0m \u001b[32m━━━━━━━━━━━━━━━━━━━━\u001b[0m\u001b[37m\u001b[0m \u001b[1m0s\u001b[0m 21ms/step - accuracy: 0.8498 - loss: 0.3700 - val_accuracy: 0.9500 - val_loss: 0.3219\n",
            "Epoch 87/100\n",
            "\u001b[1m3/3\u001b[0m \u001b[32m━━━━━━━━━━━━━━━━━━━━\u001b[0m\u001b[37m\u001b[0m \u001b[1m0s\u001b[0m 28ms/step - accuracy: 0.8459 - loss: 0.3832 - val_accuracy: 0.9500 - val_loss: 0.3181\n",
            "Epoch 88/100\n",
            "\u001b[1m3/3\u001b[0m \u001b[32m━━━━━━━━━━━━━━━━━━━━\u001b[0m\u001b[37m\u001b[0m \u001b[1m0s\u001b[0m 27ms/step - accuracy: 0.8537 - loss: 0.3744 - val_accuracy: 0.9500 - val_loss: 0.3142\n",
            "Epoch 89/100\n",
            "\u001b[1m3/3\u001b[0m \u001b[32m━━━━━━━━━━━━━━━━━━━━\u001b[0m\u001b[37m\u001b[0m \u001b[1m0s\u001b[0m 33ms/step - accuracy: 0.8108 - loss: 0.4215 - val_accuracy: 0.9500 - val_loss: 0.3112\n",
            "Epoch 90/100\n",
            "\u001b[1m3/3\u001b[0m \u001b[32m━━━━━━━━━━━━━━━━━━━━\u001b[0m\u001b[37m\u001b[0m \u001b[1m0s\u001b[0m 30ms/step - accuracy: 0.8303 - loss: 0.4060 - val_accuracy: 0.9500 - val_loss: 0.3080\n",
            "Epoch 91/100\n",
            "\u001b[1m3/3\u001b[0m \u001b[32m━━━━━━━━━━━━━━━━━━━━\u001b[0m\u001b[37m\u001b[0m \u001b[1m0s\u001b[0m 19ms/step - accuracy: 0.8498 - loss: 0.3649 - val_accuracy: 0.9500 - val_loss: 0.3046\n",
            "Epoch 92/100\n",
            "\u001b[1m3/3\u001b[0m \u001b[32m━━━━━━━━━━━━━━━━━━━━\u001b[0m\u001b[37m\u001b[0m \u001b[1m0s\u001b[0m 21ms/step - accuracy: 0.8655 - loss: 0.3463 - val_accuracy: 0.9500 - val_loss: 0.3012\n",
            "Epoch 93/100\n",
            "\u001b[1m3/3\u001b[0m \u001b[32m━━━━━━━━━━━━━━━━━━━━\u001b[0m\u001b[37m\u001b[0m \u001b[1m0s\u001b[0m 22ms/step - accuracy: 0.8694 - loss: 0.3439 - val_accuracy: 0.9500 - val_loss: 0.2980\n",
            "Epoch 94/100\n",
            "\u001b[1m3/3\u001b[0m \u001b[32m━━━━━━━━━━━━━━━━━━━━\u001b[0m\u001b[37m\u001b[0m \u001b[1m0s\u001b[0m 24ms/step - accuracy: 0.8616 - loss: 0.3479 - val_accuracy: 0.9500 - val_loss: 0.2952\n",
            "Epoch 95/100\n",
            "\u001b[1m3/3\u001b[0m \u001b[32m━━━━━━━━━━━━━━━━━━━━\u001b[0m\u001b[37m\u001b[0m \u001b[1m0s\u001b[0m 24ms/step - accuracy: 0.8342 - loss: 0.3763 - val_accuracy: 0.9000 - val_loss: 0.2939\n",
            "Epoch 96/100\n",
            "\u001b[1m3/3\u001b[0m \u001b[32m━━━━━━━━━━━━━━━━━━━━\u001b[0m\u001b[37m\u001b[0m \u001b[1m0s\u001b[0m 28ms/step - accuracy: 0.8459 - loss: 0.3551 - val_accuracy: 0.9000 - val_loss: 0.2927\n",
            "Epoch 97/100\n",
            "\u001b[1m3/3\u001b[0m \u001b[32m━━━━━━━━━━━━━━━━━━━━\u001b[0m\u001b[37m\u001b[0m \u001b[1m0s\u001b[0m 28ms/step - accuracy: 0.8655 - loss: 0.3403 - val_accuracy: 0.9000 - val_loss: 0.2903\n",
            "Epoch 98/100\n",
            "\u001b[1m3/3\u001b[0m \u001b[32m━━━━━━━━━━━━━━━━━━━━\u001b[0m\u001b[37m\u001b[0m \u001b[1m0s\u001b[0m 20ms/step - accuracy: 0.8537 - loss: 0.3441 - val_accuracy: 0.9000 - val_loss: 0.2892\n",
            "Epoch 99/100\n",
            "\u001b[1m3/3\u001b[0m \u001b[32m━━━━━━━━━━━━━━━━━━━━\u001b[0m\u001b[37m\u001b[0m \u001b[1m0s\u001b[0m 22ms/step - accuracy: 0.8537 - loss: 0.3525 - val_accuracy: 0.9000 - val_loss: 0.2861\n",
            "Epoch 100/100\n",
            "\u001b[1m3/3\u001b[0m \u001b[32m━━━━━━━━━━━━━━━━━━━━\u001b[0m\u001b[37m\u001b[0m \u001b[1m0s\u001b[0m 22ms/step - accuracy: 0.8303 - loss: 0.3664 - val_accuracy: 0.9000 - val_loss: 0.2836\n"
          ]
        }
      ]
    },
    {
      "cell_type": "code",
      "source": [
        "from mlxtend.plotting import plot_decision_regions\n",
        "plot_decision_regions(X,y.astype('int'),clf=model,legend=2)"
      ],
      "metadata": {
        "colab": {
          "base_uri": "https://localhost:8080/",
          "height": 465
        },
        "id": "xL6dvlBkw8BS",
        "outputId": "9899bb16-f60c-4e57-9f50-75ebecec5e45"
      },
      "execution_count": 46,
      "outputs": [
        {
          "output_type": "stream",
          "name": "stdout",
          "text": [
            "\u001b[1m9600/9600\u001b[0m \u001b[32m━━━━━━━━━━━━━━━━━━━━\u001b[0m\u001b[37m\u001b[0m \u001b[1m20s\u001b[0m 2ms/step\n"
          ]
        },
        {
          "output_type": "execute_result",
          "data": {
            "text/plain": [
              "<Axes: >"
            ]
          },
          "metadata": {},
          "execution_count": 46
        },
        {
          "output_type": "display_data",
          "data": {
            "text/plain": [
              "<Figure size 640x480 with 1 Axes>"
            ],
            "image/png": "[encoded data removed]"
          },
          "metadata": {}
        }
      ]
    },
    {
      "cell_type": "code",
      "source": [],
      "metadata": {
        "id": "l54E_1vPxQuD"
      },
      "execution_count": null,
      "outputs": []
    }
  ]
}