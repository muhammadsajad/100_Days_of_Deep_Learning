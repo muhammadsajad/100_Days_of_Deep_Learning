{
  "nbformat": 4,
  "nbformat_minor": 0,
  "metadata": {
    "colab": {
      "provenance": [],
      "authorship_tag": "ABX9TyNNkmg89xSHeBrEYNNXCw+k",
      "include_colab_link": true
    },
    "kernelspec": {
      "name": "python3",
      "display_name": "Python 3"
    },
    "language_info": {
      "name": "python"
    }
  },
  "cells": [
    {
      "cell_type": "markdown",
      "metadata": {
        "id": "view-in-github",
        "colab_type": "text"
      },
      "source": [
        "<a href=\"https://colab.research.google.com/github/muhammadsajad/100_Days_of_Deep_Learning/blob/main/Backpropagation_Regression.ipynb\" target=\"_parent\"><img src=\"https://colab.research.google.com/assets/colab-badge.svg\" alt=\"Open In Colab\"/></a>"
      ]
    },
    {
      "cell_type": "code",
      "execution_count": null,
      "metadata": {
        "id": "CyWZMaN2e-GQ"
      },
      "outputs": [],
      "source": [
        "import numpy as np\n",
        "import pandas as pd"
      ]
    },
    {
      "cell_type": "code",
      "source": [
        "df=pd.DataFrame([[8,8,4],[7,9,5],[6,10,6],[5,12,7]], columns=['cgpa','profile_score','lpa'])"
      ],
      "metadata": {
        "id": "jYV0xGySfNk4"
      },
      "execution_count": null,
      "outputs": []
    },
    {
      "cell_type": "code",
      "source": [
        "df"
      ],
      "metadata": {
        "colab": {
          "base_uri": "https://localhost:8080/",
          "height": 175
        },
        "id": "kRzQ1RITfsXL",
        "outputId": "15a6171f-4cff-4837-b7bf-08bd47e4db7b"
      },
      "execution_count": null,
      "outputs": [
        {
          "output_type": "execute_result",
          "data": {
            "text/plain": [
              "   cgpa  profile_score  lpa\n",
              "0     8              8    4\n",
              "1     7              9    5\n",
              "2     6             10    6\n",
              "3     5             12    7"
            ],
            "text/html": [
              "\n",
              "  <div id=\"df-57602737-6b39-4b9f-80c6-c4b53f573c6c\" class=\"colab-df-container\">\n",
              "    <div>\n",
              "<style scoped>\n",
              "    .dataframe tbody tr th:only-of-type {\n",
              "        vertical-align: middle;\n",
              "    }\n",
              "\n",
              "    .dataframe tbody tr th {\n",
              "        vertical-align: top;\n",
              "    }\n",
              "\n",
              "    .dataframe thead th {\n",
              "        text-align: right;\n",
              "    }\n",
              "</style>\n",
              "<table border=\"1\" class=\"dataframe\">\n",
              "  <thead>\n",
              "    <tr style=\"text-align: right;\">\n",
              "      <th></th>\n",
              "      <th>cgpa</th>\n",
              "      <th>profile_score</th>\n",
              "      <th>lpa</th>\n",
              "    </tr>\n",
              "  </thead>\n",
              "  <tbody>\n",
              "    <tr>\n",
              "      <th>0</th>\n",
              "      <td>8</td>\n",
              "      <td>8</td>\n",
              "      <td>4</td>\n",
              "    </tr>\n",
              "    <tr>\n",
              "      <th>1</th>\n",
              "      <td>7</td>\n",
              "      <td>9</td>\n",
              "      <td>5</td>\n",
              "    </tr>\n",
              "    <tr>\n",
              "      <th>2</th>\n",
              "      <td>6</td>\n",
              "      <td>10</td>\n",
              "      <td>6</td>\n",
              "    </tr>\n",
              "    <tr>\n",
              "      <th>3</th>\n",
              "      <td>5</td>\n",
              "      <td>12</td>\n",
              "      <td>7</td>\n",
              "    </tr>\n",
              "  </tbody>\n",
              "</table>\n",
              "</div>\n",
              "    <div class=\"colab-df-buttons\">\n",
              "\n",
              "  <div class=\"colab-df-container\">\n",
              "    <button class=\"colab-df-convert\" onclick=\"convertToInteractive('df-57602737-6b39-4b9f-80c6-c4b53f573c6c')\"\n",
              "            title=\"Convert this dataframe to an interactive table.\"\n",
              "            style=\"display:none;\">\n",
              "\n",
              "  <svg xmlns=\"http://www.w3.org/2000/svg\" height=\"24px\" viewBox=\"0 -960 960 960\">\n",
              "    <path d=\"M120-120v-720h720v720H120Zm60-500h600v-160H180v160Zm220 220h160v-160H400v160Zm0 220h160v-160H400v160ZM180-400h160v-160H180v160Zm440 0h160v-160H620v160ZM180-180h160v-160H180v160Zm440 0h160v-160H620v160Z\"/>\n",
              "  </svg>\n",
              "    </button>\n",
              "\n",
              "  <style>\n",
              "    .colab-df-container {\n",
              "      display:flex;\n",
              "      gap: 12px;\n",
              "    }\n",
              "\n",
              "    .colab-df-convert {\n",
              "      background-color: #E8F0FE;\n",
              "      border: none;\n",
              "      border-radius: 50%;\n",
              "      cursor: pointer;\n",
              "      display: none;\n",
              "      fill: #1967D2;\n",
              "      height: 32px;\n",
              "      padding: 0 0 0 0;\n",
              "      width: 32px;\n",
              "    }\n",
              "\n",
              "    .colab-df-convert:hover {\n",
              "      background-color: #E2EBFA;\n",
              "      box-shadow: 0px 1px 2px rgba(60, 64, 67, 0.3), 0px 1px 3px 1px rgba(60, 64, 67, 0.15);\n",
              "      fill: #174EA6;\n",
              "    }\n",
              "\n",
              "    .colab-df-buttons div {\n",
              "      margin-bottom: 4px;\n",
              "    }\n",
              "\n",
              "    [theme=dark] .colab-df-convert {\n",
              "      background-color: #3B4455;\n",
              "      fill: #D2E3FC;\n",
              "    }\n",
              "\n",
              "    [theme=dark] .colab-df-convert:hover {\n",
              "      background-color: #434B5C;\n",
              "      box-shadow: 0px 1px 3px 1px rgba(0, 0, 0, 0.15);\n",
              "      filter: drop-shadow(0px 1px 2px rgba(0, 0, 0, 0.3));\n",
              "      fill: #FFFFFF;\n",
              "    }\n",
              "  </style>\n",
              "\n",
              "    <script>\n",
              "      const buttonEl =\n",
              "        document.querySelector('#df-57602737-6b39-4b9f-80c6-c4b53f573c6c button.colab-df-convert');\n",
              "      buttonEl.style.display =\n",
              "        google.colab.kernel.accessAllowed ? 'block' : 'none';\n",
              "\n",
              "      async function convertToInteractive(key) {\n",
              "        const element = document.querySelector('#df-57602737-6b39-4b9f-80c6-c4b53f573c6c');\n",
              "        const dataTable =\n",
              "          await google.colab.kernel.invokeFunction('convertToInteractive',\n",
              "                                                    [key], {});\n",
              "        if (!dataTable) return;\n",
              "\n",
              "        const docLinkHtml = 'Like what you see? Visit the ' +\n",
              "          '<a target=\"_blank\" href=https://colab.research.google.com/notebooks/data_table.ipynb>data table notebook</a>'\n",
              "          + ' to learn more about interactive tables.';\n",
              "        element.innerHTML = '';\n",
              "        dataTable['output_type'] = 'display_data';\n",
              "        await google.colab.output.renderOutput(dataTable, element);\n",
              "        const docLink = document.createElement('div');\n",
              "        docLink.innerHTML = docLinkHtml;\n",
              "        element.appendChild(docLink);\n",
              "      }\n",
              "    </script>\n",
              "  </div>\n",
              "\n",
              "\n",
              "<div id=\"df-029f0c92-4853-441d-b1d6-a2247ef47850\">\n",
              "  <button class=\"colab-df-quickchart\" onclick=\"quickchart('df-029f0c92-4853-441d-b1d6-a2247ef47850')\"\n",
              "            title=\"Suggest charts\"\n",
              "            style=\"display:none;\">\n",
              "\n",
              "<svg xmlns=\"http://www.w3.org/2000/svg\" height=\"24px\"viewBox=\"0 0 24 24\"\n",
              "     width=\"24px\">\n",
              "    <g>\n",
              "        <path d=\"M19 3H5c-1.1 0-2 .9-2 2v14c0 1.1.9 2 2 2h14c1.1 0 2-.9 2-2V5c0-1.1-.9-2-2-2zM9 17H7v-7h2v7zm4 0h-2V7h2v10zm4 0h-2v-4h2v4z\"/>\n",
              "    </g>\n",
              "</svg>\n",
              "  </button>\n",
              "\n",
              "<style>\n",
              "  .colab-df-quickchart {\n",
              "      --bg-color: #E8F0FE;\n",
              "      --fill-color: #1967D2;\n",
              "      --hover-bg-color: #E2EBFA;\n",
              "      --hover-fill-color: #174EA6;\n",
              "      --disabled-fill-color: #AAA;\n",
              "      --disabled-bg-color: #DDD;\n",
              "  }\n",
              "\n",
              "  [theme=dark] .colab-df-quickchart {\n",
              "      --bg-color: #3B4455;\n",
              "      --fill-color: #D2E3FC;\n",
              "      --hover-bg-color: #434B5C;\n",
              "      --hover-fill-color: #FFFFFF;\n",
              "      --disabled-bg-color: #3B4455;\n",
              "      --disabled-fill-color: #666;\n",
              "  }\n",
              "\n",
              "  .colab-df-quickchart {\n",
              "    background-color: var(--bg-color);\n",
              "    border: none;\n",
              "    border-radius: 50%;\n",
              "    cursor: pointer;\n",
              "    display: none;\n",
              "    fill: var(--fill-color);\n",
              "    height: 32px;\n",
              "    padding: 0;\n",
              "    width: 32px;\n",
              "  }\n",
              "\n",
              "  .colab-df-quickchart:hover {\n",
              "    background-color: var(--hover-bg-color);\n",
              "    box-shadow: 0 1px 2px rgba(60, 64, 67, 0.3), 0 1px 3px 1px rgba(60, 64, 67, 0.15);\n",
              "    fill: var(--button-hover-fill-color);\n",
              "  }\n",
              "\n",
              "  .colab-df-quickchart-complete:disabled,\n",
              "  .colab-df-quickchart-complete:disabled:hover {\n",
              "    background-color: var(--disabled-bg-color);\n",
              "    fill: var(--disabled-fill-color);\n",
              "    box-shadow: none;\n",
              "  }\n",
              "\n",
              "  .colab-df-spinner {\n",
              "    border: 2px solid var(--fill-color);\n",
              "    border-color: transparent;\n",
              "    border-bottom-color: var(--fill-color);\n",
              "    animation:\n",
              "      spin 1s steps(1) infinite;\n",
              "  }\n",
              "\n",
              "  @keyframes spin {\n",
              "    0% {\n",
              "      border-color: transparent;\n",
              "      border-bottom-color: var(--fill-color);\n",
              "      border-left-color: var(--fill-color);\n",
              "    }\n",
              "    20% {\n",
              "      border-color: transparent;\n",
              "      border-left-color: var(--fill-color);\n",
              "      border-top-color: var(--fill-color);\n",
              "    }\n",
              "    30% {\n",
              "      border-color: transparent;\n",
              "      border-left-color: var(--fill-color);\n",
              "      border-top-color: var(--fill-color);\n",
              "      border-right-color: var(--fill-color);\n",
              "    }\n",
              "    40% {\n",
              "      border-color: transparent;\n",
              "      border-right-color: var(--fill-color);\n",
              "      border-top-color: var(--fill-color);\n",
              "    }\n",
              "    60% {\n",
              "      border-color: transparent;\n",
              "      border-right-color: var(--fill-color);\n",
              "    }\n",
              "    80% {\n",
              "      border-color: transparent;\n",
              "      border-right-color: var(--fill-color);\n",
              "      border-bottom-color: var(--fill-color);\n",
              "    }\n",
              "    90% {\n",
              "      border-color: transparent;\n",
              "      border-bottom-color: var(--fill-color);\n",
              "    }\n",
              "  }\n",
              "</style>\n",
              "\n",
              "  <script>\n",
              "    async function quickchart(key) {\n",
              "      const quickchartButtonEl =\n",
              "        document.querySelector('#' + key + ' button');\n",
              "      quickchartButtonEl.disabled = true;  // To prevent multiple clicks.\n",
              "      quickchartButtonEl.classList.add('colab-df-spinner');\n",
              "      try {\n",
              "        const charts = await google.colab.kernel.invokeFunction(\n",
              "            'suggestCharts', [key], {});\n",
              "      } catch (error) {\n",
              "        console.error('Error during call to suggestCharts:', error);\n",
              "      }\n",
              "      quickchartButtonEl.classList.remove('colab-df-spinner');\n",
              "      quickchartButtonEl.classList.add('colab-df-quickchart-complete');\n",
              "    }\n",
              "    (() => {\n",
              "      let quickchartButtonEl =\n",
              "        document.querySelector('#df-029f0c92-4853-441d-b1d6-a2247ef47850 button');\n",
              "      quickchartButtonEl.style.display =\n",
              "        google.colab.kernel.accessAllowed ? 'block' : 'none';\n",
              "    })();\n",
              "  </script>\n",
              "</div>\n",
              "\n",
              "  <div id=\"id_5b874440-51b9-4892-8a01-ddb900871b2c\">\n",
              "    <style>\n",
              "      .colab-df-generate {\n",
              "        background-color: #E8F0FE;\n",
              "        border: none;\n",
              "        border-radius: 50%;\n",
              "        cursor: pointer;\n",
              "        display: none;\n",
              "        fill: #1967D2;\n",
              "        height: 32px;\n",
              "        padding: 0 0 0 0;\n",
              "        width: 32px;\n",
              "      }\n",
              "\n",
              "      .colab-df-generate:hover {\n",
              "        background-color: #E2EBFA;\n",
              "        box-shadow: 0px 1px 2px rgba(60, 64, 67, 0.3), 0px 1px 3px 1px rgba(60, 64, 67, 0.15);\n",
              "        fill: #174EA6;\n",
              "      }\n",
              "\n",
              "      [theme=dark] .colab-df-generate {\n",
              "        background-color: #3B4455;\n",
              "        fill: #D2E3FC;\n",
              "      }\n",
              "\n",
              "      [theme=dark] .colab-df-generate:hover {\n",
              "        background-color: #434B5C;\n",
              "        box-shadow: 0px 1px 3px 1px rgba(0, 0, 0, 0.15);\n",
              "        filter: drop-shadow(0px 1px 2px rgba(0, 0, 0, 0.3));\n",
              "        fill: #FFFFFF;\n",
              "      }\n",
              "    </style>\n",
              "    <button class=\"colab-df-generate\" onclick=\"generateWithVariable('df')\"\n",
              "            title=\"Generate code using this dataframe.\"\n",
              "            style=\"display:none;\">\n",
              "\n",
              "  <svg xmlns=\"http://www.w3.org/2000/svg\" height=\"24px\"viewBox=\"0 0 24 24\"\n",
              "       width=\"24px\">\n",
              "    <path d=\"M7,19H8.4L18.45,9,17,7.55,7,17.6ZM5,21V16.75L18.45,3.32a2,2,0,0,1,2.83,0l1.4,1.43a1.91,1.91,0,0,1,.58,1.4,1.91,1.91,0,0,1-.58,1.4L9.25,21ZM18.45,9,17,7.55Zm-12,3A5.31,5.31,0,0,0,4.9,8.1,5.31,5.31,0,0,0,1,6.5,5.31,5.31,0,0,0,4.9,4.9,5.31,5.31,0,0,0,6.5,1,5.31,5.31,0,0,0,8.1,4.9,5.31,5.31,0,0,0,12,6.5,5.46,5.46,0,0,0,6.5,12Z\"/>\n",
              "  </svg>\n",
              "    </button>\n",
              "    <script>\n",
              "      (() => {\n",
              "      const buttonEl =\n",
              "        document.querySelector('#id_5b874440-51b9-4892-8a01-ddb900871b2c button.colab-df-generate');\n",
              "      buttonEl.style.display =\n",
              "        google.colab.kernel.accessAllowed ? 'block' : 'none';\n",
              "\n",
              "      buttonEl.onclick = () => {\n",
              "        google.colab.notebook.generateWithVariable('df');\n",
              "      }\n",
              "      })();\n",
              "    </script>\n",
              "  </div>\n",
              "\n",
              "    </div>\n",
              "  </div>\n"
            ],
            "application/vnd.google.colaboratory.intrinsic+json": {
              "type": "dataframe",
              "variable_name": "df",
              "summary": "{\n  \"name\": \"df\",\n  \"rows\": 4,\n  \"fields\": [\n    {\n      \"column\": \"cgpa\",\n      \"properties\": {\n        \"dtype\": \"number\",\n        \"std\": 1,\n        \"min\": 5,\n        \"max\": 8,\n        \"num_unique_values\": 4,\n        \"samples\": [\n          7,\n          5,\n          8\n        ],\n        \"semantic_type\": \"\",\n        \"description\": \"\"\n      }\n    },\n    {\n      \"column\": \"profile_score\",\n      \"properties\": {\n        \"dtype\": \"number\",\n        \"std\": 1,\n        \"min\": 8,\n        \"max\": 12,\n        \"num_unique_values\": 4,\n        \"samples\": [\n          9,\n          12,\n          8\n        ],\n        \"semantic_type\": \"\",\n        \"description\": \"\"\n      }\n    },\n    {\n      \"column\": \"lpa\",\n      \"properties\": {\n        \"dtype\": \"number\",\n        \"std\": 1,\n        \"min\": 4,\n        \"max\": 7,\n        \"num_unique_values\": 4,\n        \"samples\": [\n          5,\n          7,\n          4\n        ],\n        \"semantic_type\": \"\",\n        \"description\": \"\"\n      }\n    }\n  ]\n}"
            }
          },
          "metadata": {},
          "execution_count": 3
        }
      ]
    },
    {
      "cell_type": "code",
      "source": [
        "# First we have to initialize the parameters and we have to provide acritecture to ur function\n",
        "def initialize_parameters(layer_dims):\n",
        "\n",
        "  np.random.seed(3)\n",
        "  parameters = {}\n",
        "  L=len(layer_dims)\n",
        "\n",
        "  for l in range(1,L):\n",
        "\n",
        "    parameters['W' + str(l)] = np.ones((layer_dims[l-1], layer_dims[l]))*0.1\n",
        "    parameters['b' + str(l)] = np.zeros((layer_dims[l],1))\n",
        "\n",
        "  return parameters\n"
      ],
      "metadata": {
        "id": "e3pPOSr_ftK2"
      },
      "execution_count": null,
      "outputs": []
    },
    {
      "cell_type": "code",
      "source": [
        "initialize_parameters([2,2,1])"
      ],
      "metadata": {
        "id": "JwoosKg1jQA1",
        "colab": {
          "base_uri": "https://localhost:8080/"
        },
        "outputId": "d041f1f5-b226-4eb2-d520-174559c26fc1"
      },
      "execution_count": null,
      "outputs": [
        {
          "output_type": "execute_result",
          "data": {
            "text/plain": [
              "{'W1': array([[0.1, 0.1],\n",
              "        [0.1, 0.1]]),\n",
              " 'b1': array([[0.],\n",
              "        [0.]]),\n",
              " 'W2': array([[0.1],\n",
              "        [0.1]]),\n",
              " 'b2': array([[0.]])}"
            ]
          },
          "metadata": {},
          "execution_count": 5
        }
      ]
    },
    {
      "cell_type": "code",
      "source": [
        "def linear_forward(A_prev, W, b):\n",
        "  Z=np.dot(W.T,A_prev)+b\n",
        "\n",
        "  return Z"
      ],
      "metadata": {
        "id": "UiZiWJPwb7eC"
      },
      "execution_count": null,
      "outputs": []
    },
    {
      "cell_type": "code",
      "source": [
        "# Forward prop\n",
        "def L_layer_forward(X,parameters):\n",
        "  A=X\n",
        "  L=len(parameters)//2\n",
        "\n",
        "  for l in range(1,L+1):\n",
        "    A_prev=A\n",
        "    Wl=parameters['W' + str(l)]\n",
        "    bl=parameters['b' + str(l)]\n",
        "    #print(\"A\"+str(l-1)+\": \",A_prev)\n",
        "    #print(\"W\"+str(l)+\":\",Wl)\n",
        "    #print(\"b\"+str(l)+\":\",bl)\n",
        "    #print(\"--\"*20)\n",
        "\n",
        "    A=linear_forward(A_prev,Wl,bl)\n",
        "    #print(\"A\"+str(l)+\":\",A)\n",
        "    #print(\"--\"*20)\n",
        "\n",
        "\n",
        "  return A,A_prev\n",
        "\n",
        "\n"
      ],
      "metadata": {
        "id": "cn9z0FtJdN0y"
      },
      "execution_count": null,
      "outputs": []
    },
    {
      "cell_type": "code",
      "source": [
        "X=df[['cgpa','profile_score']].values[0].reshape(2,1) # Shape(no of features, no. of training example)\n",
        "y=df[['lpa']].values[0][0]\n",
        "\n",
        "# Parameter initialization\n",
        "parameters= initialize_parameters([2,2,1])\n",
        "\n",
        "y_hat,A1=L_layer_forward(X,parameters)"
      ],
      "metadata": {
        "id": "IBP8Z1iJ2s2A"
      },
      "execution_count": null,
      "outputs": []
    },
    {
      "cell_type": "code",
      "source": [
        "y_hat"
      ],
      "metadata": {
        "colab": {
          "base_uri": "https://localhost:8080/"
        },
        "id": "cz8MnhA7jy_R",
        "outputId": "fd6613e4-c21f-4aa5-e4f4-e3563d3df3be"
      },
      "execution_count": null,
      "outputs": [
        {
          "output_type": "execute_result",
          "data": {
            "text/plain": [
              "array([[0.32]])"
            ]
          },
          "metadata": {},
          "execution_count": 9
        }
      ]
    },
    {
      "cell_type": "code",
      "source": [
        "y_hat=y_hat[0][0]"
      ],
      "metadata": {
        "id": "qzmpRC-8jMbF"
      },
      "execution_count": null,
      "outputs": []
    },
    {
      "cell_type": "code",
      "source": [
        "# Updating the parameters using gradient descent algorithm\n",
        "def update_parameters(parameters,y,y_hat,A1,X):\n",
        "  parameters[\"W2\"][0][0]=parameters['W2'][0][0] + (0.001 *2 * (y-y_hat)* A1[0][0])\n",
        "  parameters['W2'][1][0]=parameters['W2'][1][0] + (0.001 *2 * (y - y_hat)) *A1[1][0]\n",
        "  parameters['b2'][0][0]= parameters['W2'][1][0] + (0.001 *2 * (y-y_hat))\n",
        "\n",
        "  parameters['W1'][0][0]=parameters['W1'][0][0] + (0.001 * 2 * (y - y_hat)*parameters['W2'][0][0]*X[0][0])\n",
        "  parameters['W1'][0][1]=parameters['W1'][0][1] + (0.001 * 2 * (y-y_hat)* parameters['W2'][0][0]*X[1][0])\n",
        "  parameters['b1'][0][0]= parameters['b1'][0][0] + (0.001 * 2 * (y-y_hat)*parameters['W2'][0][0])\n",
        "\n",
        "  parameters['W1'][1][0]= parameters['W1'][1][0] + (0.001 * 2 * (y-y_hat)*parameters['W2'][1][0]*X[0][0])\n",
        "  parameters['W1'][1][1]=parameters['W1'][1][1] + (0.001 * 2 * (y-y_hat)*parameters['W2'][1][0]*X[1][0])\n",
        "  parameters['b1'][1][0]=parameters['b1'][1][0] + (0.001 * 2 * (y-y_hat)*parameters['W2'][1][0])\n",
        "\n"
      ],
      "metadata": {
        "id": "OulVEIegPI_g"
      },
      "execution_count": null,
      "outputs": []
    },
    {
      "cell_type": "code",
      "source": [
        "update_parameters(parameters,y,y_hat,A1,X)"
      ],
      "metadata": {
        "id": "YzkhJpX2klLG"
      },
      "execution_count": null,
      "outputs": []
    },
    {
      "cell_type": "code",
      "source": [
        "parameters"
      ],
      "metadata": {
        "colab": {
          "base_uri": "https://localhost:8080/"
        },
        "id": "kZB5M05NknPX",
        "outputId": "e654cecc-5821-4dbe-b2cf-c5b4962e7135"
      },
      "execution_count": null,
      "outputs": [
        {
          "output_type": "execute_result",
          "data": {
            "text/plain": [
              "{'W1': array([[0.10658137, 0.10658137],\n",
              "        [0.10658137, 0.10658137]]),\n",
              " 'b1': array([[0.00082267],\n",
              "        [0.00082267]]),\n",
              " 'W2': array([[0.111776],\n",
              "        [0.111776]]),\n",
              " 'b2': array([[0.119136]])}"
            ]
          },
          "metadata": {},
          "execution_count": 13
        }
      ]
    },
    {
      "cell_type": "code",
      "source": [
        "X=df[['cgpa','profile_score']].values[1].reshape(2,1)\n",
        "y=df[['lpa']].values[1][0]\n",
        "y_hat,A1=L_layer_forward(X,parameters)"
      ],
      "metadata": {
        "id": "JbaCTnQBnVmA"
      },
      "execution_count": null,
      "outputs": []
    },
    {
      "cell_type": "code",
      "source": [
        "update_parameters(parameters,y,y_hat,A1,X)"
      ],
      "metadata": {
        "colab": {
          "base_uri": "https://localhost:8080/"
        },
        "id": "RlRaVgxukS6I",
        "outputId": "14d1b05f-c348-4202-e838-039b2efd46b3"
      },
      "execution_count": null,
      "outputs": [
        {
          "output_type": "stream",
          "name": "stderr",
          "text": [
            "<ipython-input-11-95055c6651c3>:3: DeprecationWarning: Conversion of an array with ndim > 0 to a scalar is deprecated, and will error in future. Ensure you extract a single element from your array before performing this operation. (Deprecated NumPy 1.25.)\n",
            "  parameters[\"W2\"][0][0]=parameters['W2'][0][0] + (0.001 *2 * (y-y_hat)* A1[0][0])\n",
            "<ipython-input-11-95055c6651c3>:4: DeprecationWarning: Conversion of an array with ndim > 0 to a scalar is deprecated, and will error in future. Ensure you extract a single element from your array before performing this operation. (Deprecated NumPy 1.25.)\n",
            "  parameters['W2'][1][0]=parameters['W2'][1][0] + (0.001 *2 * (y - y_hat)) *A1[1][0]\n",
            "<ipython-input-11-95055c6651c3>:5: DeprecationWarning: Conversion of an array with ndim > 0 to a scalar is deprecated, and will error in future. Ensure you extract a single element from your array before performing this operation. (Deprecated NumPy 1.25.)\n",
            "  parameters['b2'][0][0]= parameters['W2'][1][0] + (0.001 *2 * (y-y_hat))\n",
            "<ipython-input-11-95055c6651c3>:7: DeprecationWarning: Conversion of an array with ndim > 0 to a scalar is deprecated, and will error in future. Ensure you extract a single element from your array before performing this operation. (Deprecated NumPy 1.25.)\n",
            "  parameters['W1'][0][0]=parameters['W1'][0][0] + (0.001 * 2 * (y - y_hat)*parameters['W2'][0][0]*X[0][0])\n",
            "<ipython-input-11-95055c6651c3>:8: DeprecationWarning: Conversion of an array with ndim > 0 to a scalar is deprecated, and will error in future. Ensure you extract a single element from your array before performing this operation. (Deprecated NumPy 1.25.)\n",
            "  parameters['W1'][0][1]=parameters['W1'][0][1] + (0.001 * 2 * (y-y_hat)* parameters['W2'][0][0]*X[1][0])\n",
            "<ipython-input-11-95055c6651c3>:9: DeprecationWarning: Conversion of an array with ndim > 0 to a scalar is deprecated, and will error in future. Ensure you extract a single element from your array before performing this operation. (Deprecated NumPy 1.25.)\n",
            "  parameters['b1'][0][0]= parameters['b1'][0][0] + (0.001 * 2 * (y-y_hat)*parameters['W2'][0][0])\n",
            "<ipython-input-11-95055c6651c3>:11: DeprecationWarning: Conversion of an array with ndim > 0 to a scalar is deprecated, and will error in future. Ensure you extract a single element from your array before performing this operation. (Deprecated NumPy 1.25.)\n",
            "  parameters['W1'][1][0]= parameters['W1'][1][0] + (0.001 * 2 * (y-y_hat)*parameters['W2'][1][0]*X[0][0])\n",
            "<ipython-input-11-95055c6651c3>:12: DeprecationWarning: Conversion of an array with ndim > 0 to a scalar is deprecated, and will error in future. Ensure you extract a single element from your array before performing this operation. (Deprecated NumPy 1.25.)\n",
            "  parameters['W1'][1][1]=parameters['W1'][1][1] + (0.001 * 2 * (y-y_hat)*parameters['W2'][1][0]*X[1][0])\n",
            "<ipython-input-11-95055c6651c3>:13: DeprecationWarning: Conversion of an array with ndim > 0 to a scalar is deprecated, and will error in future. Ensure you extract a single element from your array before performing this operation. (Deprecated NumPy 1.25.)\n",
            "  parameters['b1'][1][0]=parameters['b1'][1][0] + (0.001 * 2 * (y-y_hat)*parameters['W2'][1][0])\n"
          ]
        }
      ]
    },
    {
      "cell_type": "code",
      "source": [
        "parameters\n"
      ],
      "metadata": {
        "colab": {
          "base_uri": "https://localhost:8080/"
        },
        "id": "1kMpLpWAkZq0",
        "outputId": "d38cb6f6-3240-4be0-b299-dd6746ea9ea9"
      },
      "execution_count": null,
      "outputs": [
        {
          "output_type": "execute_result",
          "data": {
            "text/plain": [
              "{'W1': array([[0.11458955, 0.1168776 ],\n",
              "        [0.11458955, 0.1168776 ]]),\n",
              " 'b1': array([[0.0019667],\n",
              "        [0.0019667]]),\n",
              " 'W2': array([[0.12712927],\n",
              "        [0.12712927]]),\n",
              " 'b2': array([[0.13612818]])}"
            ]
          },
          "metadata": {},
          "execution_count": 16
        }
      ]
    },
    {
      "cell_type": "code",
      "source": [
        "# epochs implementation\n",
        "parameters = initialize_parameters([2,2,1])\n",
        "\n",
        "epochs=5\n",
        "\n",
        "for i in range(epochs):\n",
        "  Loss=[]\n",
        "\n",
        "  for j in range(df.shape[0]):\n",
        "\n",
        "    X=df[['cgpa','profile_score']].values[j].reshape(2,1)\n",
        "    y=df[['lpa']].values[j][0]\n",
        "\n",
        "    # parameter initializations\n",
        "\n",
        "    y_hat,A1=L_layer_forward(X,parameters)\n",
        "    y_hat=y_hat[0][0]\n",
        "\n",
        "    update_parameters(parameters,y,y_hat,A1,X)\n",
        "\n",
        "    Loss.append((y-y_hat)**2)\n",
        "\n",
        "  print('epoch - ',i+1,'Loss - ',np.array(Loss).mean())\n",
        "\n",
        "parameters\n",
        "\n",
        "\n",
        "\n",
        "\n"
      ],
      "metadata": {
        "id": "xsG_nq-mo5mA",
        "colab": {
          "base_uri": "https://localhost:8080/"
        },
        "outputId": "f2096022-3dc9-44db-a57c-6fa0a4c3a96f"
      },
      "execution_count": null,
      "outputs": [
        {
          "output_type": "stream",
          "name": "stdout",
          "text": [
            "epoch -  1 Loss -  25.321744156025517\n",
            "epoch -  2 Loss -  18.320004165722047\n",
            "epoch -  3 Loss -  9.473661050729628\n",
            "epoch -  4 Loss -  3.2520938634031613\n",
            "epoch -  5 Loss -  1.3407132589299962\n"
          ]
        },
        {
          "output_type": "execute_result",
          "data": {
            "text/plain": [
              "{'W1': array([[0.26507636, 0.38558861],\n",
              "        [0.27800387, 0.40980287]]),\n",
              " 'b1': array([[0.02749056],\n",
              "        [0.02974394]]),\n",
              " 'W2': array([[0.41165744],\n",
              "        [0.48302736]]),\n",
              " 'b2': array([[0.48646246]])}"
            ]
          },
          "metadata": {},
          "execution_count": 17
        }
      ]
    },
    {
      "cell_type": "code",
      "source": [
        "# Now doing the same thing in keras\n",
        "\n",
        "import numpy as np\n",
        "import pandas as pd"
      ],
      "metadata": {
        "id": "RNuXVkE8pxZL"
      },
      "execution_count": null,
      "outputs": []
    },
    {
      "cell_type": "code",
      "source": [
        "df=pd.DataFrame([[8,8,4],[7,9,5],[6,10,6],[5,12,7]],columns=['cgpa','profile_score','lpa'])"
      ],
      "metadata": {
        "id": "ggG9kbH4qs8I"
      },
      "execution_count": null,
      "outputs": []
    },
    {
      "cell_type": "code",
      "source": [
        "import tensorflow\n",
        "from tensorflow import keras\n",
        "from keras import Sequential\n",
        "from keras.layers import Dense"
      ],
      "metadata": {
        "id": "wa9mjlIbq8ro"
      },
      "execution_count": null,
      "outputs": []
    },
    {
      "cell_type": "code",
      "source": [
        "model=Sequential()\n",
        "model.add(Dense(2,activation='linear',input_dim=2))\n",
        "model.add(Dense(1,activation='linear'))"
      ],
      "metadata": {
        "id": "mevME84AFmPy"
      },
      "execution_count": null,
      "outputs": []
    },
    {
      "cell_type": "code",
      "source": [
        "model.summary()"
      ],
      "metadata": {
        "colab": {
          "base_uri": "https://localhost:8080/"
        },
        "id": "m1wnST1KGXvc",
        "outputId": "4583e656-6bef-4852-c013-64e628a05c31"
      },
      "execution_count": null,
      "outputs": [
        {
          "output_type": "stream",
          "name": "stdout",
          "text": [
            "Model: \"sequential\"\n",
            "_________________________________________________________________\n",
            " Layer (type)                Output Shape              Param #   \n",
            "=================================================================\n",
            " dense (Dense)               (None, 2)                 6         \n",
            "                                                                 \n",
            " dense_1 (Dense)             (None, 1)                 3         \n",
            "                                                                 \n",
            "=================================================================\n",
            "Total params: 9 (36.00 Byte)\n",
            "Trainable params: 9 (36.00 Byte)\n",
            "Non-trainable params: 0 (0.00 Byte)\n",
            "_________________________________________________________________\n"
          ]
        }
      ]
    },
    {
      "cell_type": "code",
      "source": [
        "model.get_weights()"
      ],
      "metadata": {
        "colab": {
          "base_uri": "https://localhost:8080/"
        },
        "id": "r72wpxamGZZx",
        "outputId": "f3b6c6c7-e2e6-4faa-da67-34bc583f1037"
      },
      "execution_count": null,
      "outputs": [
        {
          "output_type": "execute_result",
          "data": {
            "text/plain": [
              "[array([[-0.13558173,  0.6957052 ],\n",
              "        [-0.07482874, -0.7816098 ]], dtype=float32),\n",
              " array([0., 0.], dtype=float32),\n",
              " array([[-0.20931232],\n",
              "        [ 0.3296932 ]], dtype=float32),\n",
              " array([0.], dtype=float32)]"
            ]
          },
          "metadata": {},
          "execution_count": 23
        }
      ]
    },
    {
      "cell_type": "code",
      "source": [
        "new_weights=[np.array([[ 0.1,  0.1 ],\n",
        "        [0.1,  0.1]], dtype=np.float32),\n",
        " np.array([0., 0.], dtype=np.float32),\n",
        " np.array([[0.1 ],\n",
        "        [0.48063898]], dtype=np.float32),\n",
        " np.array([0.], dtype=np.float32)]"
      ],
      "metadata": {
        "id": "BN_0E-1MGkly"
      },
      "execution_count": null,
      "outputs": []
    },
    {
      "cell_type": "code",
      "source": [
        "# Setting the our own new weights of created model\n",
        "model.set_weights(new_weights)"
      ],
      "metadata": {
        "id": "BSf0T7GbHJfS"
      },
      "execution_count": null,
      "outputs": []
    },
    {
      "cell_type": "code",
      "source": [
        "# Weights of the model after changing it\n",
        "model.get_weights()"
      ],
      "metadata": {
        "colab": {
          "base_uri": "https://localhost:8080/"
        },
        "id": "15RySHzgHOii",
        "outputId": "23e9c9b8-836a-4107-b072-0862e8449233"
      },
      "execution_count": null,
      "outputs": [
        {
          "output_type": "execute_result",
          "data": {
            "text/plain": [
              "[array([[0.1, 0.1],\n",
              "        [0.1, 0.1]], dtype=float32),\n",
              " array([0., 0.], dtype=float32),\n",
              " array([[0.1       ],\n",
              "        [0.48063898]], dtype=float32),\n",
              " array([0.], dtype=float32)]"
            ]
          },
          "metadata": {},
          "execution_count": 26
        }
      ]
    },
    {
      "cell_type": "code",
      "source": [
        "optimizer= keras.optimizers.Adam(learning_rate=0.001)\n",
        "model.compile(loss='mean_squared_error',optimizer=optimizer)"
      ],
      "metadata": {
        "id": "-JSFZIhUHbYC"
      },
      "execution_count": null,
      "outputs": []
    },
    {
      "cell_type": "code",
      "source": [
        "model.fit(df.iloc[:,0:-1].values,df['lpa'].values,epochs=75,verbose=1,batch_size=1)"
      ],
      "metadata": {
        "colab": {
          "base_uri": "https://localhost:8080/"
        },
        "id": "bhitfEpKJhv-",
        "outputId": "1da4172e-783d-49d9-d36a-17d749e344a2"
      },
      "execution_count": null,
      "outputs": [
        {
          "output_type": "stream",
          "name": "stdout",
          "text": [
            "Epoch 1/75\n",
            "4/4 [==============================] - 1s 4ms/step - loss: 21.8021\n",
            "Epoch 2/75\n",
            "4/4 [==============================] - 0s 4ms/step - loss: 21.2580\n",
            "Epoch 3/75\n",
            "4/4 [==============================] - 0s 3ms/step - loss: 20.7428\n",
            "Epoch 4/75\n",
            "4/4 [==============================] - 0s 4ms/step - loss: 20.2325\n",
            "Epoch 5/75\n",
            "4/4 [==============================] - 0s 4ms/step - loss: 19.7213\n",
            "Epoch 6/75\n",
            "4/4 [==============================] - 0s 4ms/step - loss: 19.2293\n",
            "Epoch 7/75\n",
            "4/4 [==============================] - 0s 4ms/step - loss: 18.7215\n",
            "Epoch 8/75\n",
            "4/4 [==============================] - 0s 6ms/step - loss: 18.1929\n",
            "Epoch 9/75\n",
            "4/4 [==============================] - 0s 3ms/step - loss: 17.6712\n",
            "Epoch 10/75\n",
            "4/4 [==============================] - 0s 3ms/step - loss: 17.1696\n",
            "Epoch 11/75\n",
            "4/4 [==============================] - 0s 4ms/step - loss: 16.6138\n",
            "Epoch 12/75\n",
            "4/4 [==============================] - 0s 3ms/step - loss: 16.0602\n",
            "Epoch 13/75\n",
            "4/4 [==============================] - 0s 3ms/step - loss: 15.5519\n",
            "Epoch 14/75\n",
            "4/4 [==============================] - 0s 4ms/step - loss: 15.0796\n",
            "Epoch 15/75\n",
            "4/4 [==============================] - 0s 3ms/step - loss: 14.5821\n",
            "Epoch 16/75\n",
            "4/4 [==============================] - 0s 4ms/step - loss: 14.0286\n",
            "Epoch 17/75\n",
            "4/4 [==============================] - 0s 4ms/step - loss: 13.5238\n",
            "Epoch 18/75\n",
            "4/4 [==============================] - 0s 3ms/step - loss: 13.0071\n",
            "Epoch 19/75\n",
            "4/4 [==============================] - 0s 3ms/step - loss: 12.5351\n",
            "Epoch 20/75\n",
            "4/4 [==============================] - 0s 3ms/step - loss: 12.0475\n",
            "Epoch 21/75\n",
            "4/4 [==============================] - 0s 3ms/step - loss: 11.5630\n",
            "Epoch 22/75\n",
            "4/4 [==============================] - 0s 3ms/step - loss: 11.0457\n",
            "Epoch 23/75\n",
            "4/4 [==============================] - 0s 4ms/step - loss: 10.5743\n",
            "Epoch 24/75\n",
            "4/4 [==============================] - 0s 3ms/step - loss: 10.1172\n",
            "Epoch 25/75\n",
            "4/4 [==============================] - 0s 3ms/step - loss: 9.7103\n",
            "Epoch 26/75\n",
            "4/4 [==============================] - 0s 3ms/step - loss: 9.2413\n",
            "Epoch 27/75\n",
            "4/4 [==============================] - 0s 3ms/step - loss: 8.8043\n",
            "Epoch 28/75\n",
            "4/4 [==============================] - 0s 4ms/step - loss: 8.3425\n",
            "Epoch 29/75\n",
            "4/4 [==============================] - 0s 3ms/step - loss: 7.9641\n",
            "Epoch 30/75\n",
            "4/4 [==============================] - 0s 3ms/step - loss: 7.6083\n",
            "Epoch 31/75\n",
            "4/4 [==============================] - 0s 3ms/step - loss: 7.2093\n",
            "Epoch 32/75\n",
            "4/4 [==============================] - 0s 3ms/step - loss: 6.8108\n",
            "Epoch 33/75\n",
            "4/4 [==============================] - 0s 3ms/step - loss: 6.4652\n",
            "Epoch 34/75\n",
            "4/4 [==============================] - 0s 4ms/step - loss: 6.0521\n",
            "Epoch 35/75\n",
            "4/4 [==============================] - 0s 3ms/step - loss: 5.7335\n",
            "Epoch 36/75\n",
            "4/4 [==============================] - 0s 4ms/step - loss: 5.4858\n",
            "Epoch 37/75\n",
            "4/4 [==============================] - 0s 3ms/step - loss: 5.1394\n",
            "Epoch 38/75\n",
            "4/4 [==============================] - 0s 3ms/step - loss: 4.8185\n",
            "Epoch 39/75\n",
            "4/4 [==============================] - 0s 3ms/step - loss: 4.5753\n",
            "Epoch 40/75\n",
            "4/4 [==============================] - 0s 4ms/step - loss: 4.2856\n",
            "Epoch 41/75\n",
            "4/4 [==============================] - 0s 3ms/step - loss: 4.0385\n",
            "Epoch 42/75\n",
            "4/4 [==============================] - 0s 3ms/step - loss: 3.8495\n",
            "Epoch 43/75\n",
            "4/4 [==============================] - 0s 4ms/step - loss: 3.5686\n",
            "Epoch 44/75\n",
            "4/4 [==============================] - 0s 4ms/step - loss: 3.3917\n",
            "Epoch 45/75\n",
            "4/4 [==============================] - 0s 3ms/step - loss: 3.1730\n",
            "Epoch 46/75\n",
            "4/4 [==============================] - 0s 3ms/step - loss: 3.0238\n",
            "Epoch 47/75\n",
            "4/4 [==============================] - 0s 3ms/step - loss: 2.7843\n",
            "Epoch 48/75\n",
            "4/4 [==============================] - 0s 3ms/step - loss: 2.6690\n",
            "Epoch 49/75\n",
            "4/4 [==============================] - 0s 3ms/step - loss: 2.4829\n",
            "Epoch 50/75\n",
            "4/4 [==============================] - 0s 4ms/step - loss: 2.3728\n",
            "Epoch 51/75\n",
            "4/4 [==============================] - 0s 3ms/step - loss: 2.2676\n",
            "Epoch 52/75\n",
            "4/4 [==============================] - 0s 3ms/step - loss: 2.1068\n",
            "Epoch 53/75\n",
            "4/4 [==============================] - 0s 4ms/step - loss: 1.9898\n",
            "Epoch 54/75\n",
            "4/4 [==============================] - 0s 4ms/step - loss: 1.9306\n",
            "Epoch 55/75\n",
            "4/4 [==============================] - 0s 4ms/step - loss: 1.8332\n",
            "Epoch 56/75\n",
            "4/4 [==============================] - 0s 4ms/step - loss: 1.7293\n",
            "Epoch 57/75\n",
            "4/4 [==============================] - 0s 5ms/step - loss: 1.6641\n",
            "Epoch 58/75\n",
            "4/4 [==============================] - 0s 5ms/step - loss: 1.5856\n",
            "Epoch 59/75\n",
            "4/4 [==============================] - 0s 4ms/step - loss: 1.5334\n",
            "Epoch 60/75\n",
            "4/4 [==============================] - 0s 5ms/step - loss: 1.4948\n",
            "Epoch 61/75\n",
            "4/4 [==============================] - 0s 6ms/step - loss: 1.4142\n",
            "Epoch 62/75\n",
            "4/4 [==============================] - 0s 6ms/step - loss: 1.3753\n",
            "Epoch 63/75\n",
            "4/4 [==============================] - 0s 4ms/step - loss: 1.3596\n",
            "Epoch 64/75\n",
            "4/4 [==============================] - 0s 4ms/step - loss: 1.3077\n",
            "Epoch 65/75\n",
            "4/4 [==============================] - 0s 6ms/step - loss: 1.2557\n",
            "Epoch 66/75\n",
            "4/4 [==============================] - 0s 4ms/step - loss: 1.2359\n",
            "Epoch 67/75\n",
            "4/4 [==============================] - 0s 4ms/step - loss: 1.2187\n",
            "Epoch 68/75\n",
            "4/4 [==============================] - 0s 5ms/step - loss: 1.2010\n",
            "Epoch 69/75\n",
            "4/4 [==============================] - 0s 5ms/step - loss: 1.1588\n",
            "Epoch 70/75\n",
            "4/4 [==============================] - 0s 4ms/step - loss: 1.1638\n",
            "Epoch 71/75\n",
            "4/4 [==============================] - 0s 5ms/step - loss: 1.1286\n",
            "Epoch 72/75\n",
            "4/4 [==============================] - 0s 5ms/step - loss: 1.1132\n",
            "Epoch 73/75\n",
            "4/4 [==============================] - 0s 5ms/step - loss: 1.1029\n",
            "Epoch 74/75\n",
            "4/4 [==============================] - 0s 4ms/step - loss: 1.0977\n",
            "Epoch 75/75\n",
            "4/4 [==============================] - 0s 4ms/step - loss: 1.0884\n"
          ]
        },
        {
          "output_type": "execute_result",
          "data": {
            "text/plain": [
              "<keras.src.callbacks.History at 0x7914583e5600>"
            ]
          },
          "metadata": {},
          "execution_count": 28
        }
      ]
    },
    {
      "cell_type": "code",
      "source": [
        "model.get_weights()"
      ],
      "metadata": {
        "colab": {
          "base_uri": "https://localhost:8080/"
        },
        "id": "zMPCfHx4Kcbx",
        "outputId": "2df08b0f-2a32-4835-b236-e9a6669ef1a0"
      },
      "execution_count": null,
      "outputs": [
        {
          "output_type": "execute_result",
          "data": {
            "text/plain": [
              "[array([[0.3184556 , 0.28354397],\n",
              "        [0.3211253 , 0.28552783]], dtype=float32),\n",
              " array([0.22273529, 0.18696518], dtype=float32),\n",
              " array([[0.3237333],\n",
              "        [0.6987999]], dtype=float32),\n",
              " array([0.17104162], dtype=float32)]"
            ]
          },
          "metadata": {},
          "execution_count": 30
        }
      ]
    },
    {
      "cell_type": "code",
      "source": [],
      "metadata": {
        "id": "3oWN-f95uCFW"
      },
      "execution_count": null,
      "outputs": []
    }
  ]
}